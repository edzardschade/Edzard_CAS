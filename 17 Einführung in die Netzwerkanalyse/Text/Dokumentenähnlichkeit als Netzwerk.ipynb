{
 "cells": [
  {
   "cell_type": "markdown",
   "metadata": {},
   "source": [
    "# Netzwerk aus Dokumenten aufgrund ihrer Ähnlichkeit\n",
    "\n",
    "- Wir probieren nun was ganz anderes. Nämlich ein Netzwerk aus Dokumenten zu bauen aufgrund ihrer Ähnlichkeit zueinander. \n",
    "- Die Idee dahinter ist Dokumente visuell zu clustern und so zu erkennnen welche ähnlichen Dokumente zusammengehören. \n",
    "- Die Idee ähnliche Dinge als Netzwerk zu visualisieren ist sehr praktisch und mächtig weil sie uns erlaubt in allen Dingen Muster zu sehen. \n",
    "- Wir probieren das mal anhand der Berichterstattung auf der Fronpage von swissinfo. "
   ]
  },
  {
   "cell_type": "markdown",
   "metadata": {},
   "source": [
    "# Artikel von der Front Page scrapen\n",
    "- Zuerst scrapen wir die Artikel von der Frontpage"
   ]
  },
  {
   "cell_type": "code",
   "execution_count": 1,
   "metadata": {},
   "outputs": [
    {
     "name": "stderr",
     "output_type": "stream",
     "text": [
      "/Users/edzardschade/.virtualenvs/erstesVE/lib/python3.7/site-packages/requests/__init__.py:91: RequestsDependencyWarning: urllib3 (1.23) or chardet (2.3.0) doesn't match a supported version!\n",
      "  RequestsDependencyWarning)\n"
     ]
    }
   ],
   "source": [
    "import requests\n",
    "from bs4 import BeautifulSoup\n",
    "import nltk"
   ]
  },
  {
   "cell_type": "code",
   "execution_count": 2,
   "metadata": {},
   "outputs": [
    {
     "name": "stdout",
     "output_type": "stream",
     "text": [
      "Done: /webservice/swi-eng-2.0/detail/42579872/44560650\n",
      "Done: /webservice/swi-eng-2.0/detail/42579872/44623996\n",
      "Done: /webservice/swi-eng-2.0/detail/42579872/44623032\n",
      "Done: /webservice/swi-eng-2.0/detail/42579872/44618048\n",
      "Done: /webservice/swi-eng-2.0/detail/42579872/44618150\n",
      "Done: /webservice/swi-eng-2.0/gallery/42579876/44619378\n",
      "Done: /webservice/swi-eng-2.0/detail/42579872/44616080\n",
      "Done: /webservice/swi-eng-2.0/detail/42579872/44617654\n",
      "Done: /webservice/swi-eng-2.0/detail/42579872/44617816\n",
      "Done: /webservice/swi-eng-2.0/detail/42579872/44615866\n",
      "Done: /webservice/swi-eng-2.0/detail/42579872/44615656\n",
      "Done: /webservice/swi-eng-2.0/detail/42579872/44613728\n",
      "Done: /webservice/swi-eng-2.0/detail/42579872/44616450\n",
      "Done: /webservice/swi-eng-2.0/detail/42579872/44612456\n",
      "Done: /webservice/swi-eng-2.0/detail/42579872/44613232\n",
      "Done: /webservice/swi-eng-2.0/detail/42579872/44574850\n",
      "Done: /webservice/swi-eng-2.0/detail/42579872/44609546\n",
      "Done: /webservice/swi-eng-2.0/detail/42579872/44609428\n",
      "Done: /webservice/swi-eng-2.0/video/42579874/44593580\n",
      "Done: /webservice/swi-eng-2.0/detail/42579872/44608456\n",
      "Done: /webservice/swi-eng-2.0/detail/42579872/44572400\n",
      "Done: /webservice/swi-eng-2.0/gallery/42579876/44607960\n",
      "Done: /webservice/swi-eng-2.0/detail/42579872/44607262\n",
      "Done: /webservice/swi-eng-2.0/video/42579874/44607858\n",
      "Done: /webservice/swi-eng-2.0/detail/42579872/44595620\n",
      "Done: /webservice/swi-eng-2.0/gallery/42579876/44592598\n",
      "Done: /webservice/swi-eng-2.0/detail/42579872/44602420\n",
      "Done: /webservice/swi-eng-2.0/video/42579874/44577612\n",
      "Done: /webservice/swi-eng-2.0/detail/42579872/44601990\n",
      "Done: /webservice/swi-eng-2.0/detail/42579872/44603100\n",
      "Done: /webservice/swi-eng-2.0/detail/42579872/44600416\n",
      "Done: /webservice/swi-eng-2.0/video/42579874/44599364\n",
      "Done: /webservice/swi-eng-2.0/detail/42579872/44601712\n",
      "Done: /webservice/swi-eng-2.0/detail/42579872/44597062\n",
      "Done: /webservice/swi-eng-2.0/video/42579874/44572920\n",
      "Done: /webservice/swi-eng-2.0/detail/42579872/44591246\n",
      "Done: /webservice/swi-eng-2.0/detail/42579872/44599910\n",
      "Done: /webservice/swi-eng-2.0/detail/42579872/44596456\n",
      "Done: /webservice/swi-eng-2.0/detail/42579872/44598416\n",
      "Done: /webservice/swi-eng-2.0/detail/42579872/44594062\n",
      "Done: /webservice/swi-eng-2.0/detail/42579872/44595810\n",
      "Done: /webservice/swi-eng-2.0/detail/42579872/44590274\n",
      "Done: /webservice/swi-eng-2.0/detail/42579872/44592984\n",
      "Done: /webservice/swi-eng-2.0/detail/42579872/44580432\n",
      "Done: /webservice/swi-eng-2.0/detail/42579872/44585848\n",
      "Done: /webservice/swi-eng-2.0/detail/42579872/44591156\n",
      "Done: /webservice/swi-eng-2.0/video/42579874/44580876\n",
      "Done: /webservice/swi-eng-2.0/detail/42579872/44574988\n",
      "Done: /webservice/swi-eng-2.0/detail/42579872/44581536\n",
      "Done: /webservice/swi-eng-2.0/detail/42579872/44584728\n",
      "Done: /webservice/swi-eng-2.0/detail/42579872/44582900\n",
      "Done: /webservice/swi-eng-2.0/gallery/42579876/44581590\n",
      "Done: /webservice/swi-eng-2.0/detail/42579872/44545372\n",
      "Done: /webservice/swi-eng-2.0/detail/42579872/44584702\n",
      "Done: /webservice/swi-eng-2.0/detail/42579872/44575618\n",
      "Done: /webservice/swi-eng-2.0/detail/42579872/44579626\n",
      "Done: /webservice/swi-eng-2.0/video/42579874/44560608\n",
      "Done: /webservice/swi-eng-2.0/detail/42579872/44580358\n",
      "Done: /webservice/swi-eng-2.0/detail/42579872/44577084\n",
      "Done: /webservice/swi-eng-2.0/detail/42579872/44571990\n",
      "Done: /webservice/swi-eng-2.0/detail/42579872/44577476\n",
      "Done: /webservice/swi-eng-2.0/detail/42579872/44566618\n",
      "Done: /webservice/swi-eng-2.0/video/42579874/44575322\n",
      "Done: /webservice/swi-eng-2.0/detail/42579872/44566000\n",
      "Done: /webservice/swi-eng-2.0/detail/42579872/44575252\n",
      "Done: /webservice/swi-eng-2.0/detail/42579872/44567162\n",
      "Done: /webservice/swi-eng-2.0/detail/42579872/44559238\n",
      "Done: /webservice/swi-eng-2.0/detail/42579872/44572816\n",
      "Done: /webservice/swi-eng-2.0/gallery/42579876/44572878\n",
      "Done: /webservice/swi-eng-2.0/detail/42579872/44564548\n",
      "Done: /webservice/swi-eng-2.0/detail/42579872/44551128\n",
      "Done: /webservice/swi-eng-2.0/gallery/42579876/44538252\n",
      "Done: /webservice/swi-eng-2.0/detail/42579872/44565850\n",
      "Done: /webservice/swi-eng-2.0/detail/42579872/44566772\n",
      "Done: /webservice/swi-eng-2.0/detail/42579872/44556092\n",
      "Done: /webservice/swi-eng-2.0/gallery/42579876/44566842\n",
      "Done: /webservice/swi-eng-2.0/detail/42579872/44562998\n",
      "Done: /webservice/swi-eng-2.0/detail/42579872/44550638\n",
      "Done: /webservice/swi-eng-2.0/detail/42579872/44563656\n",
      "Done: /webservice/swi-eng-2.0/video/42579874/44525724\n",
      "Done: /webservice/swi-eng-2.0/detail/42579872/44555198\n",
      "Done: /webservice/swi-eng-2.0/detail/42579872/44549662\n",
      "Done: /webservice/swi-eng-2.0/video/42579874/44561620\n",
      "Done: /webservice/swi-eng-2.0/detail/42579872/44560284\n",
      "Done: /webservice/swi-eng-2.0/detail/42579872/44558946\n",
      "Done: /webservice/swi-eng-2.0/detail/42579872/44557772\n",
      "Done: /webservice/swi-eng-2.0/detail/42579872/44557704\n",
      "Done: /webservice/swi-eng-2.0/detail/42579872/44550596\n",
      "Done: /webservice/swi-eng-2.0/detail/42579872/44451960\n",
      "Done: /webservice/swi-eng-2.0/detail/42579872/44556442\n",
      "Done: /webservice/swi-eng-2.0/gallery/42579876/44555226\n",
      "Done: /webservice/swi-eng-2.0/gallery/42579876/44555544\n",
      "Done: /webservice/swi-eng-2.0/audio/42579870/44544894\n",
      "Done: /webservice/swi-eng-2.0/gallery/42579876/42219238\n",
      "Done: /webservice/swi-eng-2.0/gallery/42579876/44549934\n",
      "Done: /webservice/swi-eng-2.0/detail/42579872/44550302\n"
     ]
    }
   ],
   "source": [
    "# Get 100 Frontpage Items\n",
    "frontpage_url = \"https://www.swissinfo.ch/webservice/swi-eng-2.0/overview\"\n",
    "r = requests.get(frontpage_url).json()\n",
    "items = []\n",
    "urls = []\n",
    "for item in r[\"page\"][\"item\"][0][\"content\"]:\n",
    "    try:\n",
    "        tmp = requests.get(\"https://www.swissinfo.ch/webservice/swi-eng-2.0/detail%s\" % item[\"url\"])\n",
    "        text = BeautifulSoup(tmp.json()[\"htmldetail\"], \"lxml\").get_text()\n",
    "        items.append(text)\n",
    "        urls.append(item[\"canonical\"])\n",
    "        print(\"Done: %s\" % item[\"url\"])\n",
    "    except:\n",
    "        pass"
   ]
  },
  {
   "cell_type": "code",
   "execution_count": 3,
   "metadata": {},
   "outputs": [
    {
     "data": {
      "text/plain": [
       "'    COP24: Text adopted, ambitions abandoned - SWI swissinfo.ch             The President of\\xa0COP24, Michal Kurtyka of Poland, officially concluded the summit on Saturday.(Keystone)       Representatives of 190 countries attending the COP24 climate summit in Katowice accepted the rules for implementi'"
      ]
     },
     "execution_count": 3,
     "metadata": {},
     "output_type": "execute_result"
    }
   ],
   "source": [
    "items[1][0:300]"
   ]
  },
  {
   "cell_type": "code",
   "execution_count": 4,
   "metadata": {},
   "outputs": [
    {
     "data": {
      "text/plain": [
       "'https://www.swissinfo.ch/eng/politics/opinion_cop24--text-adopted--ambitions-abandoned/44623996'"
      ]
     },
     "execution_count": 4,
     "metadata": {},
     "output_type": "execute_result"
    }
   ],
   "source": [
    "urls[1]"
   ]
  },
  {
   "cell_type": "markdown",
   "metadata": {},
   "source": [
    "# Dokumentenähnlichkeit bestimmen\n",
    "- Work tokenization: Aufspalten\n",
    "- Stemming: Auf Wortstämme zurückführen\n",
    "- Stopword removal: Füllwörter rausnehmen\n",
    "- (Clustering with k-means)"
   ]
  },
  {
   "cell_type": "code",
   "execution_count": 5,
   "metadata": {},
   "outputs": [],
   "source": [
    "import collections\n",
    "from nltk import word_tokenize\n",
    "from nltk.corpus import stopwords\n",
    "from nltk.stem import PorterStemmer\n",
    "from sklearn.cluster import KMeans\n",
    "from sklearn.feature_extraction.text import TfidfVectorizer\n",
    "from pprint import pprint\n",
    "import seaborn as sns\n",
    "\n",
    "def word_tokenizer(text):\n",
    "        #tokenizes and stems the text\n",
    "        tokens = word_tokenize(text)\n",
    "        stemmer = PorterStemmer()\n",
    "        tokens = [stemmer.stem(t) for t in tokens if t not in stopwords.words('english')]\n",
    "        return tokens\n",
    "\n",
    "\n",
    "def cluster_items(items, nb_of_clusters=5,mds=False):\n",
    "        tfidf_vectorizer = TfidfVectorizer(tokenizer=word_tokenizer,\n",
    "                                        stop_words=stopwords.words('english'),\n",
    "                                        lowercase=True)\n",
    "        #builds a tf-idf matrix for the sentences\n",
    "        tfidf_matrix = tfidf_vectorizer.fit_transform(items)\n",
    "        \n",
    "        # Show matrix\n",
    "        pairwise_similarity = tfidf_matrix * tfidf_matrix.T\n",
    "        ax = sns.heatmap(pairwise_similarity.A)\n",
    "        ax.plot()\n",
    "        \n",
    "        # Clustering\n",
    "        kmeans = KMeans(n_clusters=nb_of_clusters)\n",
    "        kmeans.fit(tfidf_matrix)\n",
    "        clusters = collections.defaultdict(list)\n",
    "        for i, label in enumerate(kmeans.labels_):\n",
    "                clusters[label].append(i)\n",
    "        if mds:\n",
    "            return [pairwise_similarity,dict(clusters)]\n",
    "        else:\n",
    "            return dict(clusters)\n",
    "\n",
    "\n",
    "#items = [\"Nature is beautiful\",\"I like green apples\", \"We should protect the trees\",\"Fruit trees provide fruits\",\"Green apples are tasty\"]\n",
    "\n",
    "#nclusters= 3\n",
    "#parwise_similarity, clusters = cluster_items(items, nclusters,True)"
   ]
  },
  {
   "cell_type": "markdown",
   "metadata": {},
   "source": [
    "# Baby example: Wie funktioniert das nochmal?"
   ]
  },
  {
   "cell_type": "markdown",
   "metadata": {},
   "source": [
    "Wie sieht das Resultat aus für:\n",
    "- 2 Sätze mit nature\n",
    "- 2 Sätze mit apple\n",
    "- 1 Satz mit apple and nature\n",
    "- 1 Satz mit computers"
   ]
  },
  {
   "cell_type": "code",
   "execution_count": 6,
   "metadata": {},
   "outputs": [
    {
     "name": "stderr",
     "output_type": "stream",
     "text": [
      "/Users/edzardschade/.virtualenvs/erstesVE/lib/python3.7/site-packages/sklearn/feature_extraction/text.py:286: UserWarning: Your stop_words may be inconsistent with your preprocessing. Tokenizing the stop words generated tokens [\"'d\", \"'ll\", \"'re\", \"'s\", \"'ve\", 'could', 'might', 'must', \"n't\", 'need', 'sha', 'wo', 'would'] not in stop_words.\n",
      "  sorted(inconsistent))\n"
     ]
    },
    {
     "data": {
      "image/png": "[encoded data removed]",
      "text/plain": [
       "<Figure size 432x288 with 2 Axes>"
      ]
     },
     "metadata": {
      "needs_background": "light"
     },
     "output_type": "display_data"
    }
   ],
   "source": [
    "nclusters = 3\n",
    "baby_items = [\"Nature is beautiful\",\n",
    "              \"We should protect nature\",\n",
    "              \"I like green apples\", \n",
    "              \"Green apples are tasty\",\n",
    "              \"Apples and nature are fun.\",\n",
    "              \"Technical sentence with computers.\"]\n",
    "result,clusters = cluster_items(baby_items,nclusters,True)"
   ]
  },
  {
   "cell_type": "code",
   "execution_count": 7,
   "metadata": {},
   "outputs": [
    {
     "data": {
      "text/plain": [
       "{2: [0, 1], 0: [2, 3], 1: [4, 5]}"
      ]
     },
     "execution_count": 7,
     "metadata": {},
     "output_type": "execute_result"
    }
   ],
   "source": [
    "clusters"
   ]
  },
  {
   "cell_type": "code",
   "execution_count": 10,
   "metadata": {},
   "outputs": [
    {
     "name": "stdout",
     "output_type": "stream",
     "text": [
      "cluster  0 :\n",
      "\titem  0 :  I like green apples\n",
      "\titem  1 :  Green apples are tasty\n",
      "cluster  1 :\n",
      "\titem  0 :  Apples and nature are fun.\n",
      "\titem  1 :  Technical sentence with computers.\n",
      "cluster  2 :\n",
      "\titem  0 :  Nature is beautiful\n",
      "\titem  1 :  We should protect nature\n"
     ]
    }
   ],
   "source": [
    "for cluster in range(nclusters):\n",
    "        print (\"cluster \",cluster,\":\")\n",
    "        for i,item in enumerate(clusters[cluster]):\n",
    "                print (\"\\titem \",i,\": \",baby_items[item])"
   ]
  },
  {
   "cell_type": "markdown",
   "metadata": {},
   "source": [
    "## Jetzt die Ähnlichkeit der Artikel auf der Frontpage bestimmen"
   ]
  },
  {
   "cell_type": "code",
   "execution_count": 11,
   "metadata": {},
   "outputs": [
    {
     "name": "stderr",
     "output_type": "stream",
     "text": [
      "/Users/edzardschade/.virtualenvs/erstesVE/lib/python3.7/site-packages/sklearn/feature_extraction/text.py:286: UserWarning: Your stop_words may be inconsistent with your preprocessing. Tokenizing the stop words generated tokens [\"'d\", \"'ll\", \"'re\", \"'s\", \"'ve\", 'could', 'might', 'must', \"n't\", 'need', 'sha', 'wo', 'would'] not in stop_words.\n",
      "  sorted(inconsistent))\n"
     ]
    },
    {
     "name": "stdout",
     "output_type": "stream",
     "text": [
      "cluster  0 :\n",
      "\turl  sci-tech :  publish-or-perish_how-scientists-are-redefining-success\n",
      "\turl  politics :  opinion_cop24--text-adopted--ambitions-abandoned\n",
      "\turl  business :  reinsurance-model_novartis-weighs-reinsurance-tie-up-to-fund-ultra-expensive-drugs\n",
      "\turl  society :  -weareswissabroad---fran%C3%A7ois-schwalb_-being-swiss-is-an-essential-part-of-my-identity-\n",
      "\turl  society :  week-in-numbers_transport--terrorism--and-dual-nationals\n",
      "\turl  multimedia :  photography_switzerland-after-sundown\n",
      "\turl  politics :  un-migration-pact_where-swiss-development-aid-meets-migration\n",
      "\turl  business :  dlt-report_switzerland-sets-legal-foundations-for-blockchain-industry\n",
      "\turl  society :  new-drugs_do-we-need-clinics-for-internet-and-sex-addicts-\n",
      "\turl  eng :  international-law_tale-of-swiss-based-syrian-torture-survivor-highlights-dublin-flaws\n",
      "\turl  business :  underrepresented-women_men-appointed-to-boards-because-it-s--easier-\n",
      "\turl  business :  inside-geneva_what-now-for-syria-\n",
      "\turl  society :  ten-a-side_ok-google--what-the-swiss-search-for\n",
      "\turl  society :  corruption_venezuelan-ex-minister-hoarded-money-in-switzerland\n",
      "\turl  politics :  opinion_climate-change-is-a-reality-we-need-to-confront--so-is-denialism\n",
      "\turl  culture :  something-to-sing-about-_the-academic-ins-and-outs-of-yodelling-\n",
      "\turl  politics :  environmental-protection_parliament-rejects-proposal-to-tax-plane-tickets\n",
      "\turl  business :  glencore-begins-the-changing-of-the-old-guard\n",
      "\turl  multimedia :  life-after-brexit_swiss-offer-a-hand-to-friendless-brexit-britain\n",
      "\turl  eng :  2019-elections-analysis_the-outsized--shifting-power-of-the-swiss-senate\n",
      "\turl  politics :  explainer_why-do-we-need-the-global-compact-for-migration-\n",
      "\turl  multimedia :  photography_-we-recreate-borders-in-people-s-minds-\n",
      "\turl  eng :  swiss-campaign_-index-groups-face-fight-over-controversial-weapons-\n",
      "\turl  multimedia :  religion_swiss-catholics-voice-disappointment-to-pope-s-hardening-views\n",
      "\turl  society :  global-warming_alpine-nations-struggle-to-confront-climate-change-together\n",
      "\turl  multimedia :  santons-figuren-im-kloster-muri_a-french-touch-for-a-nativity-scene\n",
      "\turl  eng :  week-in-numbers_women-in-politics-and-battling-homophobia\n",
      "\turl  multimedia :  please-no-propaganda-_advertising-tries-to-reach-classrooms\n",
      "\turl  business :  switzerland-european-union_swiss-government-wants-public-consultation-on-eu-framework-deal\n",
      "\turl  politics :  direct-democracy-live_brexit--what-would-switzerland-do-\n",
      "\turl  politics :  cassis-on-human-rights_-the-more-we-take-democracies-for-granted--the-less-prepared-we-are-to-defend-them-\n",
      "\turl  multimedia :  making-music-_famous-swiss-orchestra-celebrates-its-centenary-\n",
      "\turl  politics :  opinion_swiss-regulation-of-commodity-trade-long-overdue\n",
      "\turl  eng :  opinion_swiss-commodity-traders-at-the-forefront-of-best-practices\n",
      "\turl  multimedia :  seven-wonders-of-switzerland_the-capital-of-the-helvetians\n",
      "\turl  sci-tech :  sensitive-research_a-special-relationship--the-us-military-and-swiss-universities\n",
      "\turl  politics :  federal-council_new-ministers--big-news-at-home--indifference-abroad\n",
      "\turl  politics :  portrait_two-women-for-government--who-are-switzerland-s-new-ministers-\n",
      "\turl  business :  let-s-make-a-deal_switzerland-faces-stark-choice-on-eu-integration-deal\n",
      "\turl  politics :  cabinet-elections_viola-amherd-elected-to-the-swiss-federal-council\n",
      "\turl  politics :  erweiterung-der-antirassismus-strafnorm_copy-of-schweiz-hat-neuen-gesetzesartikel-gegen-homophobie\n",
      "\turl  society :  climate-change_torrid-time-predicted-for-switzerland-by-2060\n",
      "\turl  business :  banking-in-britain_regulator-warns-banks-over-brexit-moves-out-of-city\n",
      "\turl  politics :  federal-council-elections_what-s-the-essence-of-modern-leadership-\n",
      "\turl  society :  opinion_racism-in-switzerland---an-african-american-expat-s-perspective\n",
      "\turl  business :  withholding-tax_switzerland-likes-to-tax-differently-from-europe\n",
      "\turl  multimedia :  crime-in-3d_solving-crimes-with-the-help-of-virtual-reality-\n",
      "\turl  society :  -weareswissabroad_-our-traditions-keep-us-united-and-define-us-\n",
      "\turl  sci-tech :  cop24_climate-talks-open-amid-post-paris-polemics\n",
      "\turl  eng :  week-in-numbers_-swiss-law-first---maudet-opponents-and-breweries\n",
      "cluster  1 :\n",
      "\turl  sci-tech :  publish-or-perish_how-scientists-are-redefining-success\n",
      "\turl  politics :  opinion_cop24--text-adopted--ambitions-abandoned\n",
      "\turl  business :  reinsurance-model_novartis-weighs-reinsurance-tie-up-to-fund-ultra-expensive-drugs\n",
      "\turl  society :  -weareswissabroad---fran%C3%A7ois-schwalb_-being-swiss-is-an-essential-part-of-my-identity-\n",
      "\turl  society :  week-in-numbers_transport--terrorism--and-dual-nationals\n",
      "\turl  multimedia :  photography_switzerland-after-sundown\n",
      "\turl  politics :  un-migration-pact_where-swiss-development-aid-meets-migration\n",
      "\turl  business :  dlt-report_switzerland-sets-legal-foundations-for-blockchain-industry\n",
      "\turl  society :  new-drugs_do-we-need-clinics-for-internet-and-sex-addicts-\n",
      "\turl  eng :  international-law_tale-of-swiss-based-syrian-torture-survivor-highlights-dublin-flaws\n",
      "\turl  business :  underrepresented-women_men-appointed-to-boards-because-it-s--easier-\n",
      "\turl  business :  inside-geneva_what-now-for-syria-\n",
      "\turl  society :  ten-a-side_ok-google--what-the-swiss-search-for\n",
      "\turl  society :  corruption_venezuelan-ex-minister-hoarded-money-in-switzerland\n",
      "\turl  politics :  opinion_climate-change-is-a-reality-we-need-to-confront--so-is-denialism\n",
      "\turl  culture :  something-to-sing-about-_the-academic-ins-and-outs-of-yodelling-\n",
      "\turl  politics :  environmental-protection_parliament-rejects-proposal-to-tax-plane-tickets\n",
      "\turl  business :  glencore-begins-the-changing-of-the-old-guard\n",
      "\turl  multimedia :  life-after-brexit_swiss-offer-a-hand-to-friendless-brexit-britain\n",
      "\turl  eng :  2019-elections-analysis_the-outsized--shifting-power-of-the-swiss-senate\n",
      "\turl  politics :  explainer_why-do-we-need-the-global-compact-for-migration-\n",
      "\turl  multimedia :  photography_-we-recreate-borders-in-people-s-minds-\n",
      "\turl  eng :  swiss-campaign_-index-groups-face-fight-over-controversial-weapons-\n",
      "\turl  multimedia :  religion_swiss-catholics-voice-disappointment-to-pope-s-hardening-views\n",
      "\turl  society :  global-warming_alpine-nations-struggle-to-confront-climate-change-together\n",
      "\turl  multimedia :  santons-figuren-im-kloster-muri_a-french-touch-for-a-nativity-scene\n",
      "\turl  eng :  week-in-numbers_women-in-politics-and-battling-homophobia\n",
      "\turl  multimedia :  please-no-propaganda-_advertising-tries-to-reach-classrooms\n",
      "\turl  business :  switzerland-european-union_swiss-government-wants-public-consultation-on-eu-framework-deal\n",
      "\turl  politics :  direct-democracy-live_brexit--what-would-switzerland-do-\n",
      "\turl  politics :  cassis-on-human-rights_-the-more-we-take-democracies-for-granted--the-less-prepared-we-are-to-defend-them-\n",
      "\turl  multimedia :  making-music-_famous-swiss-orchestra-celebrates-its-centenary-\n",
      "\turl  politics :  opinion_swiss-regulation-of-commodity-trade-long-overdue\n",
      "\turl  eng :  opinion_swiss-commodity-traders-at-the-forefront-of-best-practices\n",
      "\turl  multimedia :  seven-wonders-of-switzerland_the-capital-of-the-helvetians\n",
      "\turl  sci-tech :  sensitive-research_a-special-relationship--the-us-military-and-swiss-universities\n",
      "cluster  2 :\n",
      "\turl  sci-tech :  publish-or-perish_how-scientists-are-redefining-success\n",
      "\turl  politics :  opinion_cop24--text-adopted--ambitions-abandoned\n",
      "\turl  business :  reinsurance-model_novartis-weighs-reinsurance-tie-up-to-fund-ultra-expensive-drugs\n",
      "\turl  society :  -weareswissabroad---fran%C3%A7ois-schwalb_-being-swiss-is-an-essential-part-of-my-identity-\n",
      "\turl  society :  week-in-numbers_transport--terrorism--and-dual-nationals\n",
      "\turl  multimedia :  photography_switzerland-after-sundown\n",
      "\turl  politics :  un-migration-pact_where-swiss-development-aid-meets-migration\n",
      "\turl  business :  dlt-report_switzerland-sets-legal-foundations-for-blockchain-industry\n",
      "\turl  society :  new-drugs_do-we-need-clinics-for-internet-and-sex-addicts-\n",
      "\turl  eng :  international-law_tale-of-swiss-based-syrian-torture-survivor-highlights-dublin-flaws\n"
     ]
    },
    {
     "data": {
      "image/png": "[encoded data removed]",
      "text/plain": [
       "<Figure size 432x288 with 2 Axes>"
      ]
     },
     "metadata": {
      "needs_background": "light"
     },
     "output_type": "display_data"
    }
   ],
   "source": [
    "result,clusters = cluster_items(items,nclusters,True)\n",
    "for cluster in range(nclusters):\n",
    "        print (\"cluster \",cluster,\":\")\n",
    "        for i,item in enumerate(clusters[cluster]):\n",
    "                print (\"\\turl \",urls[i].split(\"/\")[-3],\": \",urls[i].split(\"/\")[-2])"
   ]
  },
  {
   "cell_type": "markdown",
   "metadata": {
    "hideCode": true
   },
   "source": [
    "# Als Netzwerk exportieren"
   ]
  },
  {
   "cell_type": "code",
   "execution_count": 12,
   "metadata": {},
   "outputs": [
    {
     "data": {
      "text/plain": [
       "'https://www.swissinfo.ch/eng/sci-tech/publish-or-perish_how-scientists-are-redefining-success/44560650'"
      ]
     },
     "execution_count": 12,
     "metadata": {},
     "output_type": "execute_result"
    }
   ],
   "source": [
    "urls[0]"
   ]
  },
  {
   "cell_type": "code",
   "execution_count": 13,
   "metadata": {},
   "outputs": [],
   "source": [
    "import networkx as nx\n",
    "G  = nx.Graph(name=\"Texts\")\n",
    "\n",
    "for url in urls:\n",
    "    url_clean = url.split(\"/\")[-2]\n",
    "    G.add_node(url, size=1, label=url)\n",
    "\n",
    "entries = result.todense().tolist()\n",
    "\n",
    "for i,row in enumerate(urls):\n",
    "    row = row.split(\"/\")[-2]\n",
    "    for j,col in enumerate(urls):\n",
    "        col = col.split(\"/\")[-2]\n",
    "        if entries[i][j] > 0.2:\n",
    "            G.add_edge(row,col,weight=entries[i][j])\n",
    "\n",
    "nx.write_gexf(G,\"Texts.gexf\")"
   ]
  },
  {
   "cell_type": "code",
   "execution_count": null,
   "metadata": {},
   "outputs": [],
   "source": []
  }
 ],
 "metadata": {
  "kernelspec": {
   "display_name": "Python 3",
   "language": "python",
   "name": "python3"
  },
  "language_info": {
   "codemirror_mode": {
    "name": "ipython",
    "version": 3
   },
   "file_extension": ".py",
   "mimetype": "text/x-python",
   "name": "python",
   "nbconvert_exporter": "python",
   "pygments_lexer": "ipython3",
   "version": "3.7.0"
  }
 },
 "nbformat": 4,
 "nbformat_minor": 2
}
