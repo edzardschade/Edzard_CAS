{
 "cells": [
  {
   "cell_type": "markdown",
   "metadata": {},
   "source": [
    "# Twitter Konversationen zu einem Thema als Netzwerk untersuchen\n",
    "\n",
    "- Aus Twitter-Daten kann man besonders gut Netzwerke basteln.\n",
    "- Dabei können wir frei definieren,wann eigentlich ein Nutzer mit einem anderen verbunden ist. Die gebräuchlichsten Definitionen sind:\n",
    "    1. Nutzer A retweetet Nutzer B (RT plotti was für ein super tweet)\n",
    "    2. Nutzer A erwähnt Nutzer B (Ich geh das so die Straße lang und seh @plotti)\n",
    "    3. Nutzer A schreibt Nutzer B (@plotti was geht heute)\n",
    "    4. (Nutzer A folgt Nutzer B (Leider um die Struktur einer Konversationen nicht sooo hilfreich. Außerdem muss man über Twarc recht viele User sammeln um diese Information zu erhalten, es geht aber.))"
   ]
  },
  {
   "cell_type": "markdown",
   "metadata": {},
   "source": [
    "# Daten Sammeln über Twarc"
   ]
  },
  {
   "cell_type": "markdown",
   "metadata": {},
   "source": [
    "- https://github.com/DocNow/twarc\n",
    "- Twarc: A command line tool (and Python library) for archiving Twitter JSON\n",
    "- Sehr praktisch um Tweets zu einem Stichwort zu sammeln. \n",
    "- Man muss eine Twiter app beantragen :(\n",
    "- ```pip install twarc```\n",
    "- ```twarc configure```\n",
    "![Twarc](twarc.png)"
   ]
  },
  {
   "cell_type": "markdown",
   "metadata": {},
   "source": [
    "## Daten Sammeln "
   ]
  },
  {
   "cell_type": "markdown",
   "metadata": {},
   "source": [
    "```twarc search zürich > zürich.json```"
   ]
  },
  {
   "cell_type": "code",
   "execution_count": 1,
   "metadata": {},
   "outputs": [],
   "source": [
    "import sys\n",
    "import json\n",
    "import re\n",
    "import numpy as np\n",
    "from datetime import datetime\n",
    "import pandas as pd  \n",
    "import networkx as nx\n",
    "\n",
    "#tweetfile = 'zürich.json'\n",
    "tweetfile = 'radiostudio.json'"
   ]
  },
  {
   "cell_type": "markdown",
   "metadata": {},
   "source": [
    "# 1. Kanten erzeugen durch Retweets\n",
    "- Personen retweeten sich und deswegen erzeugen wir eine Kante zwischen ihnen."
   ]
  },
  {
   "cell_type": "code",
   "execution_count": null,
   "metadata": {},
   "outputs": [],
   "source": []
  },
  {
   "cell_type": "code",
   "execution_count": 2,
   "metadata": {},
   "outputs": [],
   "source": [
    "# 1. Export edges from Retweets\n",
    "\n",
    "fh = open(tweetfile, 'r')\n",
    "\n",
    "userdata = pd.DataFrame(columns=('Id','Label','user_created_at','profile_image','followers_count','friends_count' ))\n",
    "edges = pd.DataFrame(columns=('Source','Target','Time', \"Strength\"))\n",
    "\n",
    "for line in fh:\n",
    "    try:\n",
    "        tweet = json.loads(line)\n",
    "    except:\n",
    "        continue\n",
    "    if 'retweeted_status' not in tweet:\n",
    "        continue\n",
    "    \n",
    "    userdata = userdata.append(pd.DataFrame([[tweet['user']['id_str'],\n",
    "                                tweet['user']['screen_name'],\n",
    "                                tweet['user']['created_at'],\n",
    "                                tweet['user']['profile_image_url_https'],\n",
    "                                tweet['user']['followers_count'],\n",
    "                                tweet['user']['friends_count']]], columns=('Id','Label','user_created_at','profile_image','followers_count','friends_count')), ignore_index=True)\n",
    "    userdata = userdata.append(pd.DataFrame([[tweet['retweeted_status']['user']['id_str'],\n",
    "                                tweet['retweeted_status']['user']['screen_name'],\n",
    "                                tweet['retweeted_status']['user']['created_at'],\n",
    "                                tweet['retweeted_status']['user']['profile_image_url_https'],\n",
    "                                tweet['retweeted_status']['user']['followers_count'],\n",
    "                                tweet['retweeted_status']['user']['friends_count']]], columns=('Id','Label','user_created_at','profile_image','followers_count','friends_count')), ignore_index=True)                 \n",
    "    edges = edges.append(pd.DataFrame([[tweet['user']['id_str'],\n",
    "                                tweet['retweeted_status']['user']['id_str'],\n",
    "                                str(datetime.strptime(tweet['created_at'], '%a %b %d %H:%M:%S +0000 %Y')),1]]\n",
    "                                , columns=('Source','Target',\"Time\",'Strength')), ignore_index=True)           "
   ]
  },
  {
   "cell_type": "code",
   "execution_count": 3,
   "metadata": {},
   "outputs": [
    {
     "data": {
      "text/html": [
       "<div>\n",
       "<style scoped>\n",
       "    .dataframe tbody tr th:only-of-type {\n",
       "        vertical-align: middle;\n",
       "    }\n",
       "\n",
       "    .dataframe tbody tr th {\n",
       "        vertical-align: top;\n",
       "    }\n",
       "\n",
       "    .dataframe thead th {\n",
       "        text-align: right;\n",
       "    }\n",
       "</style>\n",
       "<table border=\"1\" class=\"dataframe\">\n",
       "  <thead>\n",
       "    <tr style=\"text-align: right;\">\n",
       "      <th></th>\n",
       "      <th>Id</th>\n",
       "      <th>Label</th>\n",
       "      <th>user_created_at</th>\n",
       "      <th>profile_image</th>\n",
       "      <th>followers_count</th>\n",
       "      <th>friends_count</th>\n",
       "    </tr>\n",
       "  </thead>\n",
       "  <tbody>\n",
       "    <tr>\n",
       "      <th>0</th>\n",
       "      <td>1036333569499701249</td>\n",
       "      <td>JensAnd09030140</td>\n",
       "      <td>Sun Sep 02 19:22:31 +0000 2018</td>\n",
       "      <td>https://pbs.twimg.com/profile_images/103800994...</td>\n",
       "      <td>41</td>\n",
       "      <td>18</td>\n",
       "    </tr>\n",
       "    <tr>\n",
       "      <th>1</th>\n",
       "      <td>332457139</td>\n",
       "      <td>MattiasSjodin</td>\n",
       "      <td>Sat Jul 09 21:02:39 +0000 2011</td>\n",
       "      <td>https://pbs.twimg.com/profile_images/831611694...</td>\n",
       "      <td>4929</td>\n",
       "      <td>1577</td>\n",
       "    </tr>\n",
       "    <tr>\n",
       "      <th>2</th>\n",
       "      <td>2809090109</td>\n",
       "      <td>CliftJose</td>\n",
       "      <td>Sun Oct 05 21:05:35 +0000 2014</td>\n",
       "      <td>https://pbs.twimg.com/profile_images/106589713...</td>\n",
       "      <td>6014</td>\n",
       "      <td>5645</td>\n",
       "    </tr>\n",
       "    <tr>\n",
       "      <th>3</th>\n",
       "      <td>437367813</td>\n",
       "      <td>JoseLuisUrraca</td>\n",
       "      <td>Thu Dec 15 09:48:11 +0000 2011</td>\n",
       "      <td>https://pbs.twimg.com/profile_images/429992996...</td>\n",
       "      <td>760</td>\n",
       "      <td>565</td>\n",
       "    </tr>\n",
       "    <tr>\n",
       "      <th>4</th>\n",
       "      <td>2863546509</td>\n",
       "      <td>cruzviadero</td>\n",
       "      <td>Thu Nov 06 08:57:29 +0000 2014</td>\n",
       "      <td>https://pbs.twimg.com/profile_images/530285755...</td>\n",
       "      <td>1029</td>\n",
       "      <td>734</td>\n",
       "    </tr>\n",
       "  </tbody>\n",
       "</table>\n",
       "</div>"
      ],
      "text/plain": [
       "                    Id            Label                 user_created_at  \\\n",
       "0  1036333569499701249  JensAnd09030140  Sun Sep 02 19:22:31 +0000 2018   \n",
       "1            332457139    MattiasSjodin  Sat Jul 09 21:02:39 +0000 2011   \n",
       "2           2809090109        CliftJose  Sun Oct 05 21:05:35 +0000 2014   \n",
       "3            437367813   JoseLuisUrraca  Thu Dec 15 09:48:11 +0000 2011   \n",
       "4           2863546509      cruzviadero  Thu Nov 06 08:57:29 +0000 2014   \n",
       "\n",
       "                                       profile_image followers_count  \\\n",
       "0  https://pbs.twimg.com/profile_images/103800994...              41   \n",
       "1  https://pbs.twimg.com/profile_images/831611694...            4929   \n",
       "2  https://pbs.twimg.com/profile_images/106589713...            6014   \n",
       "3  https://pbs.twimg.com/profile_images/429992996...             760   \n",
       "4  https://pbs.twimg.com/profile_images/530285755...            1029   \n",
       "\n",
       "  friends_count  \n",
       "0            18  \n",
       "1          1577  \n",
       "2          5645  \n",
       "3           565  \n",
       "4           734  "
      ]
     },
     "execution_count": 3,
     "metadata": {},
     "output_type": "execute_result"
    }
   ],
   "source": [
    "userdata.head()"
   ]
  },
  {
   "cell_type": "code",
   "execution_count": 4,
   "metadata": {},
   "outputs": [
    {
     "data": {
      "text/html": [
       "<div>\n",
       "<style scoped>\n",
       "    .dataframe tbody tr th:only-of-type {\n",
       "        vertical-align: middle;\n",
       "    }\n",
       "\n",
       "    .dataframe tbody tr th {\n",
       "        vertical-align: top;\n",
       "    }\n",
       "\n",
       "    .dataframe thead th {\n",
       "        text-align: right;\n",
       "    }\n",
       "</style>\n",
       "<table border=\"1\" class=\"dataframe\">\n",
       "  <thead>\n",
       "    <tr style=\"text-align: right;\">\n",
       "      <th></th>\n",
       "      <th>Source</th>\n",
       "      <th>Target</th>\n",
       "      <th>Time</th>\n",
       "      <th>Strength</th>\n",
       "    </tr>\n",
       "  </thead>\n",
       "  <tbody>\n",
       "    <tr>\n",
       "      <th>0</th>\n",
       "      <td>1036333569499701249</td>\n",
       "      <td>332457139</td>\n",
       "      <td>2018-12-17 20:28:26</td>\n",
       "      <td>1</td>\n",
       "    </tr>\n",
       "    <tr>\n",
       "      <th>1</th>\n",
       "      <td>2809090109</td>\n",
       "      <td>437367813</td>\n",
       "      <td>2018-12-17 18:05:09</td>\n",
       "      <td>1</td>\n",
       "    </tr>\n",
       "    <tr>\n",
       "      <th>2</th>\n",
       "      <td>2863546509</td>\n",
       "      <td>437367813</td>\n",
       "      <td>2018-12-17 17:29:26</td>\n",
       "      <td>1</td>\n",
       "    </tr>\n",
       "    <tr>\n",
       "      <th>3</th>\n",
       "      <td>3252725422</td>\n",
       "      <td>437367813</td>\n",
       "      <td>2018-12-17 17:13:07</td>\n",
       "      <td>1</td>\n",
       "    </tr>\n",
       "    <tr>\n",
       "      <th>4</th>\n",
       "      <td>824212262583930880</td>\n",
       "      <td>332457139</td>\n",
       "      <td>2018-12-17 16:35:43</td>\n",
       "      <td>1</td>\n",
       "    </tr>\n",
       "  </tbody>\n",
       "</table>\n",
       "</div>"
      ],
      "text/plain": [
       "                Source     Target                 Time Strength\n",
       "0  1036333569499701249  332457139  2018-12-17 20:28:26        1\n",
       "1           2809090109  437367813  2018-12-17 18:05:09        1\n",
       "2           2863546509  437367813  2018-12-17 17:29:26        1\n",
       "3           3252725422  437367813  2018-12-17 17:13:07        1\n",
       "4   824212262583930880  332457139  2018-12-17 16:35:43        1"
      ]
     },
     "execution_count": 4,
     "metadata": {},
     "output_type": "execute_result"
    }
   ],
   "source": [
    "edges.head()"
   ]
  },
  {
   "cell_type": "markdown",
   "metadata": {},
   "source": [
    "# 2. Kanten erzeugen durch Mentions\n",
    "- Personen erwähnen sich und deshalb erzeugen wir eine Kante zwischen den Personen. "
   ]
  },
  {
   "cell_type": "code",
   "execution_count": null,
   "metadata": {},
   "outputs": [],
   "source": [
    "fh = open(tweetfile, 'r')\n",
    "\n",
    "userdata = pd.DataFrame(columns=('Id','Label','user_created_at','profile_image','followers_count','friends_count' ))\n",
    "edges = pd.DataFrame(columns=('Source','Target','Strength'))\n",
    "\n",
    "for line in fh:\n",
    "    try:\n",
    "        tweet = json.loads(line)\n",
    "    except:\n",
    "        continue\n",
    "    if len(tweet['entities']['user_mentions']) == 0:\n",
    "        continue\n",
    "    \n",
    "    for mention in tweet['entities']['user_mentions']:\n",
    "        userdata = userdata.append(pd.DataFrame([[tweet['user']['id_str'],\n",
    "                                tweet['user']['screen_name'],\n",
    "                                tweet['user']['created_at'],\n",
    "                                tweet['user']['profile_image_url_https'],\n",
    "                                tweet['user']['followers_count'],\n",
    "                                tweet['user']['friends_count']]], columns=('Id','Label','user_created_at','profile_image','followers_count','friends_count')), ignore_index=True)\n",
    "        if len(userdata[userdata['Id'].str.contains(mention['id_str'])]) == 0:\n",
    "            userdata = userdata.append(pd.DataFrame([[tweet['user']['id_str'],\n",
    "                                tweet['user']['screen_name'],\n",
    "                                np.nan,\n",
    "                                np.nan,\n",
    "                                np.nan,\n",
    "                                np.nan]], columns=('Id','Label','user_created_at','profile_image','followers_count','friends_count')), ignore_index=True)\n",
    "        edges = edges.append(pd.DataFrame([[tweet['user']['id_str'],\n",
    "                                    mention['id_str'],\n",
    "                                    str(datetime.strptime(tweet['created_at'], '%a %b %d %H:%M:%S +0000 %Y'))]]\n",
    "                                    , columns=('Source','Target','Strength')), ignore_index=True)  "
   ]
  },
  {
   "cell_type": "markdown",
   "metadata": {},
   "source": [
    "# 3. Kanten erzeugen durch gemeinsame Kommunikation\n",
    "- Personen diskutieren miteinander und deshalb erzeugen wir eine Kante zwischen ihnen. "
   ]
  },
  {
   "cell_type": "code",
   "execution_count": null,
   "metadata": {},
   "outputs": [],
   "source": [
    "\n",
    "fh = open(tweetfile, 'r')\n",
    "\n",
    "userdata = pd.DataFrame(columns=('Id','Label','user_created_at','profile_image','followers_count','friends_count' ))\n",
    "edges = pd.DataFrame(columns=('Source','Target','Strength'))\n",
    "\n",
    "for line in fh:\n",
    "    try:\n",
    "        tweet = json.loads(line)\n",
    "    except:\n",
    "        continue\n",
    "    if tweet['in_reply_to_user_id_str'] is None:\n",
    "        continue\n",
    "\n",
    "    userdata = userdata.append(pd.DataFrame([[tweet['user']['id_str'],\n",
    "                                tweet['user']['screen_name'],\n",
    "                                tweet['user']['created_at'],\n",
    "                                tweet['user']['profile_image_url_https'],\n",
    "                                tweet['user']['followers_count'],\n",
    "                                tweet['user']['friends_count']]], columns=('Id','Label','user_created_at','profile_image','followers_count','friends_count')), ignore_index=True)\n",
    "    if len(userdata[userdata['Id'].str.contains(tweet['in_reply_to_user_id_str'])]) == 0:\n",
    "            userdata = userdata.append(pd.DataFrame([[tweet['in_reply_to_user_id_str'],\n",
    "                                tweet['in_reply_to_screen_name'],\n",
    "                                np.nan,\n",
    "                                np.nan,\n",
    "                                np.nan,\n",
    "                                np.nan]], columns=('Id','Label','user_created_at','profile_image','followers_count','friends_count')), ignore_index=True)\n",
    "    edges = edges.append(pd.DataFrame([[tweet['user']['id_str'],\n",
    "                                tweet['in_reply_to_user_id_str'],\n",
    "                                str(datetime.strptime(tweet['created_at'], '%a %b %d %H:%M:%S +0000 %Y'))]]\n",
    "                                , columns=('Source','Target','Strength')), ignore_index=True)"
   ]
  },
  {
   "cell_type": "markdown",
   "metadata": {},
   "source": [
    "# Nur jene Kanten behalten die eine gewisse Stärke haben."
   ]
  },
  {
   "cell_type": "code",
   "execution_count": null,
   "metadata": {},
   "outputs": [],
   "source": [
    "strengthLevel = 3  # Network connection strength level: the number of times in total each of the tweeters responded to or mentioned the other.\n",
    "                   # If you have 1 as the level, then all tweeters who mentioned or replied to another at least once will be displayed. But if you have 5, only those who have mentioned or responded to a particular tweeter at least 5 times will be displayed, which means that only the strongest bonds are shown.\n",
    "\n",
    "edges2 = edges.groupby(['Source','Target'])['Strength'].count()\n",
    "edges2 = edges2.reset_index()\n",
    "edges2 = edges2[edges2['Strength'] >= strengthLevel]"
   ]
  },
  {
   "cell_type": "code",
   "execution_count": null,
   "metadata": {},
   "outputs": [],
   "source": [
    "len(edges2)"
   ]
  },
  {
   "cell_type": "markdown",
   "metadata": {},
   "source": [
    "# Daten als Gephi Netzwerk Exportieren"
   ]
  },
  {
   "cell_type": "code",
   "execution_count": null,
   "metadata": {},
   "outputs": [],
   "source": [
    "def robust_decode(bs):\n",
    "    '''Takes a byte string as param and convert it into a unicode one.\n",
    "First tries UTF8, and fallback to Latin1 if it fails'''\n",
    "    #cr = None\n",
    "    #cr = bs.decode('ascii', 'ignore').encode('ascii')\n",
    "    return bs"
   ]
  },
  {
   "cell_type": "code",
   "execution_count": null,
   "metadata": {},
   "outputs": [],
   "source": [
    "import sys\n",
    "#reload(sys)\n",
    "#sys.setdefaultencoding('utf8')\n",
    "userdata = userdata.sort_values(['Id','followers_count'], ascending=[True, False])\n",
    "userdata = userdata.drop_duplicates(['Id'], keep='first') #Duplikate rausschmeissen\n",
    "\n",
    "ids = edges2['Source'].append(edges2['Target']).to_frame()\n",
    "ids.columns = ['Id']\n",
    "ids = ids.drop_duplicates()\n",
    "\n",
    "nodes = pd.merge(ids, userdata, on='Id', how='left') #nodes = Knoten\n",
    "nodes = nodes.dropna()\n",
    "nodes[\"Label\"] = nodes[\"Label\"].astype(str)\n",
    "nodes[\"Id\"] = nodes[\"Id\"].astype(str)\n",
    "\n",
    "\n",
    "G  = nx.DiGraph(name=\"zürich\")\n",
    "\n",
    "for i, row in nodes.iterrows():\n",
    "    G.add_node(robust_decode(row[\"Id\"]), label=robust_decode(row[\"Label\"]))\n",
    "\n",
    "for i, row in edges2.iterrows():\n",
    "    G.add_edge(robust_decode(row[\"Source\"]),robust_decode(row[\"Target\"]),weight=row[\"Strength\"])\n",
    "\n",
    "nx.write_gexf(G,\"Zürich.gexf\")"
   ]
  },
  {
   "cell_type": "markdown",
   "metadata": {},
   "source": [
    "# Alternativ als csv speichern für Kumu.io"
   ]
  },
  {
   "cell_type": "code",
   "execution_count": null,
   "metadata": {},
   "outputs": [],
   "source": [
    "# Export nodes from the edges and add node attributes for both Sources and Targets.\n",
    "userdata = userdata.sort_values(['Id','followers_count'], ascending=[True, False])\n",
    "userdata = userdata.drop_duplicates(['Id'], keep='first') \n",
    "\n",
    "ids = edges2['Source'].append(edges2['Target']).to_frame()\n",
    "ids.columns = ['Id']\n",
    "ids = ids.drop_duplicates()\n",
    "\n",
    "nodes = pd.merge(ids, userdata, on='Id', how='left')\n",
    "\n",
    "# change column names for Kumu import (Run this when using Kumu)\n",
    "nodes.columns = ['Id', 'Label', 'Date', 'Image', 'followers_count', 'friends_count']\n",
    "edges2.columns = ['From','To','Strength']\n",
    "\n",
    "# Export nodes and edges to csv files\n",
    "nodes.to_csv('nodes.csv', encoding='utf-8', index=False)\n",
    "edges2.to_csv('edges.csv', encoding='utf-8', index=False)"
   ]
  },
  {
   "cell_type": "code",
   "execution_count": null,
   "metadata": {},
   "outputs": [],
   "source": []
  }
 ],
 "metadata": {
  "anaconda-cloud": {},
  "kernelspec": {
   "display_name": "Python 3",
   "language": "python",
   "name": "python3"
  },
  "language_info": {
   "codemirror_mode": {
    "name": "ipython",
    "version": 3
   },
   "file_extension": ".py",
   "mimetype": "text/x-python",
   "name": "python",
   "nbconvert_exporter": "python",
   "pygments_lexer": "ipython3",
   "version": "3.7.0"
  }
 },
 "nbformat": 4,
 "nbformat_minor": 1
}
