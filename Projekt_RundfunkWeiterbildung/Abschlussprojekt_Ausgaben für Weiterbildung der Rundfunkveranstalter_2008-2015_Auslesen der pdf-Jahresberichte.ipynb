{
 "cells": [
  {
   "cell_type": "code",
   "execution_count": 2,
   "metadata": {},
   "outputs": [],
   "source": [
    "import textract\n",
    "import pandas as pd\n",
    "import re"
   ]
  },
  {
   "cell_type": "code",
   "execution_count": 21,
   "metadata": {},
   "outputs": [
    {
     "name": "stdout",
     "output_type": "stream",
     "text": [
      "b'Seite 1 von 3\\nBundesverwaltung admin.ch\\nDepartement f\\xc3\\xbcr Umwelt, Verkehr, Energie und Kommunikation\\n\\nBundesamt f\\xc3\\xbcr Kommunikation\\n\\nJahresbericht der kommerziellen Lokal- und Regionalradios\\nErhebungsperiode: Kalenderjahr (1.1. bis 31.12.)\\nRechtsgrundlage RTVV Art. 27\\n\\nA. Allgemeine Angaben\\nA1. Name des Programms*\\n\\nRadio 1 und Planet 105\\n\\nA2. Name und Adresse des Veranstalters\\nName des Veranstalters*\\n\\nRadio 1 AG\\n\\nStrasse*\\n\\nHottingerstrasse\\n\\nHausnummer*\\n\\n10\\n\\nPLZ*\\n\\n8032\\n\\nOrt*\\n\\nZ\\xc3\\xbcrich\\n\\nTelefon*\\n\\n0442081111\\n\\nFax\\nInternet-Seite (URL)\\n\\nwww.radio1.ch\\n\\nKontaktperson\\nE-Mail*\\n\\ngaby.forss@radio1.ch\\n\\nName*\\n\\nForss\\n\\nVorname*\\n\\nGaby\\n\\nA3. Gesch\\xc3\\xa4ftsleitung\\nWie setzte sich die Gesch\\xc3\\xa4ftsleitung im Berichtsjahr zusammen? Bitte alle Gesch\\xc3\\xa4ftsleitungsmitglieder und deren Funktion nennen.\\nName\\n\\nVorname\\n\\nFunktion\\n\\n1\\n\\nSchawinski\\n\\nRoger\\n\\nCEO und VR-Pr\\xc3\\xa4sident\\n\\n2\\n\\nKaczynski\\n\\nPatrick\\n\\nLeiter Verkauf\\n\\n3\\n\\nVontobel\\n\\nJan\\n\\nChefredaktor\\n\\n4\\n\\nJ\\xc3\\xa4ggi\\n\\nMarc\\n\\nLeiter Moderation\\n\\n5\\n\\nJordi\\n\\nNadja\\n\\nMarketing/Assistentin CE\\n\\n6\\n7\\n8\\n9\\n10\\n\\nWollen Sie weitere Gesch\\xc3\\xa4ftsleitungsmitglieder in der Liste erg\\xc3\\xa4nzen?\\nJa\\nNein\\n\\nB. Organisation\\nB1. Rechtsform des Veranstalters\\n\\nAktiengesellschaft\\nVerein\\nStiftung\\nGmbH\\nGenossenschaft\\nEinzelfirma oder nat\\xc3\\xbcrliche Person\\nAnderes:\\n\\nB2. Verwaltungsrat\\nHatten Sie im Berichtsjahr\\neinen Verwaltungsrat?\\n\\nJa\\nNein\\n\\nB3. \\xc3\\x9cbersicht \\xc3\\xbcber die Verteilung des Aktien-, Stamm- sowie Genossenschaftskapitals und der Stimmrechtsanteile\\n\\n24.04.2018\\n\\n\\x0cSeite 2 von 3\\nH\\xc3\\xb6he des Kapitals (in Franken)\\n\\n2000000\\n\\nVerteilung des Kapitals (Anteile >= 5%)\\nGeben Sie f\\xc3\\xbcr Programme ohne Konzession bitte nur Anteile von mindestens 33.4% an.\\n\\nName\\n\\nAnteil in Franken\\n\\nAnteil in Prozent (%)\\n\\nStimmrechtsanteil in\\nProzent (%)\\n\\n1\\n\\nSchawinski Roger\\n\\n1650000\\n\\n82.5\\n\\n82.5\\n\\n2\\n\\nKaczynski Patrick\\n\\n200000\\n\\n10\\n\\n10\\n\\n3\\n4\\n5\\n6\\n7\\n8\\n9\\n10\\n11\\n12\\n13\\n14\\n15\\n16\\n17\\n18\\n19\\n20\\n\\nB4. \\xc3\\x9cbersicht \\xc3\\xbcber die Beteiligung der Aktion\\xc3\\xa4re und anderer Teilhaber/innen im Umfang von mindestens 20% des Aktien-, Stamm- oder\\nGenossenschaftskapitals an anderen Medienunternehmen sowie weiteren Unternehmen\\nGeben Sie f\\xc3\\xbcr Programme ohne Konzession bitte nur Beteiligungen von mindestens 33.4% an.\\n\\nName Teilhaber/in\\n\\nName\\nMedienunternehmen\\n\\nName anderes\\nUnternehmen\\n\\nBeteiligung in\\nFranken\\n\\nBeteiligung in\\nProzent des\\nGesamtkapitals\\n\\n1\\n2\\n3\\n4\\n5\\n6\\n7\\n8\\n9\\n10\\n\\nWollen Sie die \\xc3\\x9cbersicht \\xc3\\xbcber die Beteiligung der Teilhaber an anderen Unternehmen erg\\xc3\\xa4nzen?\\nJa\\nNein\\n\\nC. Personal\\nC1. Anzahl Besch\\xc3\\xa4ftigte und Stellenprozente (Stichtag 31.12.)\\nStellenprozente\\ngesamt\\nAnzahl Besch\\xc3\\xa4ftigte (Vollzeit\\xc3\\xa4quivalente?)\\nBezahlte Festangestellte\\nLeitung:\\n\\n3\\n\\n2.8\\n\\nRedaktion / Moderation:\\n\\n22\\n\\n14.5\\n\\nStagiaires Redaktion / Moderation:\\n\\n2\\n\\n2\\n\\nTechnik / Produktion:\\n\\n2\\n\\n2\\n\\nAdministration:\\n\\n3\\n\\n1.6\\n\\nWerbeakquisition:\\n\\n7\\n\\n6\\n\\nAnderes:\\n\\n24.04.2018\\n\\n\\x0cSeite 3 von 3\\nAnzahl Besch\\xc3\\xa4ftigte\\nFreie Mitarbeit\\nBezahlte freie Mitarbeit:\\n\\n10\\n\\nUnbezahlte freie Mitarbeit:\\n\\nC2. Aus- und Weiterbildung in Tagen und Kosten - nur Redaktion / Moderation\\nExterne Aus- und\\nWeiterbildung (in\\nTagen?)\\nFestangestellte\\nRedaktion/Moderation\\n\\nKosten externe Ausund Weiterbildung\\npro Jahr (in Franken)\\n\\n5\\n\\nStagiares Redaktion/Moderation\\n\\nInterne Aus- und\\nWeiterbildung (in\\nTagen?)\\n\\n3015\\n\\n10\\n\\n41295\\n\\n15\\n\\nFreie Mitarbeiter/innen\\nRedaktion/Moderation\\n\\nD. Finanzielles\\nErfolgsrechnung per 31.12.\\n\\nAufwand\\nAngaben in\\nFranken\\n1848739\\n\\nProgramm\\n\\n758824\\n\\nTechnik\\nVerwaltung\\n\\n2746101\\n\\nBetriebsaufwand\\n\\n5353664\\n\\ndavon Personal\\n\\n2582619\\n\\nErtrag\\nAngaben in\\nFranken\\nAnteil Empfangsgeb\\xc3\\xbchren\\nWerbung\\n\\n3293949\\n\\nSponsoring\\n\\n1579640\\n\\nAbonnementsertr\\xc3\\xa4ge\\nAnzahl Abonnemente\\n\\xc3\\x9cbrige Ertr\\xc3\\xa4ge\\n\\n-269461\\n\\nBetriebsertrag\\n\\n4604128\\n\\nAbschluss des Fragebogens\\n\\nBemerkungen zum Fragebogen\\nDie Erl\\xc3\\xb6sminderungen haben wir beim \\xc3\\xbcbrigen Ertrag abgezogen.\\nAus diesem Grund ist der Betrag negativ.\\n\\n\\xee\\x80\\x90\\n\\xee\\x80\\x91\\n\\nSie k\\xc3\\xb6nnen Ihren Fragebogen hier ausdrucken oder als PDF herunterladen.\\nBest\\xc3\\xa4tigung\\n\\xee\\x80\\x88\\n\\nHiermit best\\xc3\\xa4tigen wir, dass die Angaben wahrheitsgetreu und vollst\\xc3\\xa4ndig erfasst wurden.\\n\\nZum Schluss die Daten mittels des Buttons \"Abschicken\" elektronisch absenden.\\nAchtung: Danach kann nicht mehr auf die Daten zugegriffen werden.\\n\\n24.04.2018\\n\\n\\x0c'\n"
     ]
    }
   ],
   "source": [
    "# Text einlesen\n",
    "text = str(textract.process(\"Radio_1_Jahresbericht_2017.pdf\"))\n",
    "print(text)"
   ]
  },
  {
   "cell_type": "code",
   "execution_count": 22,
   "metadata": {},
   "outputs": [
    {
     "name": "stdout",
     "output_type": "stream",
     "text": [
      "<re.Match object; span=(319, 370), match='Name des Programms*\\\\n\\\\nRadio 1 und Planet 105\\\\>\n"
     ]
    }
   ],
   "source": [
    "# Muster finden\n",
    "programmname = re.search('Name des Programms\\*.*A2', text)\n",
    "# Muster gruppieren\n",
    "# programmname.group(0)\n",
    "print(programmname)"
   ]
  },
  {
   "cell_type": "code",
   "execution_count": null,
   "metadata": {},
   "outputs": [],
   "source": [
    "Name des Programms*\\n\\nRadio 1 und Planet 105\\n\\nA2"
   ]
  }
 ],
 "metadata": {
  "kernelspec": {
   "display_name": "Python 3",
   "language": "python",
   "name": "python3"
  },
  "language_info": {
   "codemirror_mode": {
    "name": "ipython",
    "version": 3
   },
   "file_extension": ".py",
   "mimetype": "text/x-python",
   "name": "python",
   "nbconvert_exporter": "python",
   "pygments_lexer": "ipython3",
   "version": "3.7.0"
  }
 },
 "nbformat": 4,
 "nbformat_minor": 2
}
