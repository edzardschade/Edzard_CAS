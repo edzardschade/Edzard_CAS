{
 "cells": [
  {
   "cell_type": "markdown",
   "metadata": {},
   "source": [
    "Projekt Rundfunkveranstalter und Ausbildung\n",
    "\n",
    "#Anmerkung: Mit requests. können wir pdfs öffnen."
   ]
  },
  {
   "cell_type": "code",
   "execution_count": null,
   "metadata": {},
   "outputs": [],
   "source": [
    "import requests\n",
    "from bs4 import BeautifulSoup\n",
    "import pandas as pd"
   ]
  },
  {
   "cell_type": "code",
   "execution_count": null,
   "metadata": {},
   "outputs": [],
   "source": [
    "radiolist = requests.get('https://www.bakom.admin.ch/bakom/de/home/elektronische-medien/informationen-ueber-radio-und-fernsehveranstalter/radio-lokal-regional.html')\n",
    "radiolist = BeautifulSoup(radiolist.text, 'html.parser')\n",
    "radiolist"
   ]
  },
  {
   "cell_type": "code",
   "execution_count": null,
   "metadata": {},
   "outputs": [],
   "source": []
  },
  {
   "cell_type": "code",
   "execution_count": null,
   "metadata": {},
   "outputs": [],
   "source": [
    "alle_sender = radiolist.find_all('tr')\n",
    "alle_sender.pop(0) # erstes Element herauswerfen, da es nicht zur Liste\n",
    "#gehört und kein 'a' enthält und deshalb Fehler in der Schleife produziert"
   ]
  },
  {
   "cell_type": "code",
   "execution_count": null,
   "metadata": {},
   "outputs": [],
   "source": [
    "lokalradios = []\n",
    "\n",
    "for sender in alle_sender:\n",
    "    lokalradio = {}\n",
    "    lokalradio[\"name\"] = sender.find('a').text\n",
    "    lokalradio[\"link\"] = sender.find('a')['href']\n",
    "    lokalradios.append(lokalradio)\n",
    "\n",
    "print(lokalradios[0])\n",
    "    "
   ]
  },
  {
   "cell_type": "code",
   "execution_count": null,
   "metadata": {},
   "outputs": [],
   "source": [
    "lokalradios"
   ]
  },
  {
   "cell_type": "code",
   "execution_count": 10,
   "metadata": {},
   "outputs": [
    {
     "data": {
      "text/html": [
       "<div>\n",
       "<style scoped>\n",
       "    .dataframe tbody tr th:only-of-type {\n",
       "        vertical-align: middle;\n",
       "    }\n",
       "\n",
       "    .dataframe tbody tr th {\n",
       "        vertical-align: top;\n",
       "    }\n",
       "\n",
       "    .dataframe thead th {\n",
       "        text-align: right;\n",
       "    }\n",
       "</style>\n",
       "<table border=\"1\" class=\"dataframe\">\n",
       "  <thead>\n",
       "    <tr style=\"text-align: right;\">\n",
       "      <th></th>\n",
       "      <th>link</th>\n",
       "      <th>name</th>\n",
       "    </tr>\n",
       "  </thead>\n",
       "  <tbody>\n",
       "    <tr>\n",
       "      <th>0</th>\n",
       "      <td>/bakom/de/home/elektronische-medien/informatio...</td>\n",
       "      <td>Radio 1</td>\n",
       "    </tr>\n",
       "    <tr>\n",
       "      <th>1</th>\n",
       "      <td>/bakom/de/home/elektronische-medien/informatio...</td>\n",
       "      <td>Planet 105</td>\n",
       "    </tr>\n",
       "    <tr>\n",
       "      <th>2</th>\n",
       "      <td>/bakom/de/home/elektronische-medien/informatio...</td>\n",
       "      <td>Radio 24 (bis 30.6.2018)</td>\n",
       "    </tr>\n",
       "    <tr>\n",
       "      <th>3</th>\n",
       "      <td>/bakom/de/home/elektronische-medien/informatio...</td>\n",
       "      <td>Radio 32</td>\n",
       "    </tr>\n",
       "    <tr>\n",
       "      <th>4</th>\n",
       "      <td>/bakom/de/home/elektronische-medien/informatio...</td>\n",
       "      <td>Radio 3fach</td>\n",
       "    </tr>\n",
       "    <tr>\n",
       "      <th>5</th>\n",
       "      <td>/bakom/de/home/elektronische-medien/informatio...</td>\n",
       "      <td>Radio Argovia (bis 30.6.2018)</td>\n",
       "    </tr>\n",
       "    <tr>\n",
       "      <th>6</th>\n",
       "      <td>/bakom/de/home/elektronische-medien/informatio...</td>\n",
       "      <td>Radio Basilisk</td>\n",
       "    </tr>\n",
       "    <tr>\n",
       "      <th>7</th>\n",
       "      <td>/bakom/de/home/elektronische-medien/informatio...</td>\n",
       "      <td>Radio BeO</td>\n",
       "    </tr>\n",
       "    <tr>\n",
       "      <th>8</th>\n",
       "      <td>/bakom/de/home/elektronische-medien/informatio...</td>\n",
       "      <td>Radio Bern 1</td>\n",
       "    </tr>\n",
       "    <tr>\n",
       "      <th>9</th>\n",
       "      <td>/bakom/de/home/elektronische-medien/informatio...</td>\n",
       "      <td>BNJ FM</td>\n",
       "    </tr>\n",
       "    <tr>\n",
       "      <th>10</th>\n",
       "      <td>/bakom/de/home/elektronische-medien/informatio...</td>\n",
       "      <td>Radio Canal 3</td>\n",
       "    </tr>\n",
       "    <tr>\n",
       "      <th>11</th>\n",
       "      <td>/bakom/de/home/elektronische-medien/informatio...</td>\n",
       "      <td>Radio Central</td>\n",
       "    </tr>\n",
       "    <tr>\n",
       "      <th>12</th>\n",
       "      <td>/bakom/de/home/elektronische-medien/informatio...</td>\n",
       "      <td>Radio Chablais</td>\n",
       "    </tr>\n",
       "    <tr>\n",
       "      <th>13</th>\n",
       "      <td>/bakom/de/home/elektronische-medien/informatio...</td>\n",
       "      <td>Radio Cité</td>\n",
       "    </tr>\n",
       "    <tr>\n",
       "      <th>14</th>\n",
       "      <td>/bakom/de/home/elektronische-medien/informatio...</td>\n",
       "      <td>Radio Energy Basel</td>\n",
       "    </tr>\n",
       "    <tr>\n",
       "      <th>15</th>\n",
       "      <td>/bakom/de/home/elektronische-medien/informatio...</td>\n",
       "      <td>Radio Energy Bern</td>\n",
       "    </tr>\n",
       "    <tr>\n",
       "      <th>16</th>\n",
       "      <td>/bakom/de/home/elektronische-medien/informatio...</td>\n",
       "      <td>Radio Energy Zürich</td>\n",
       "    </tr>\n",
       "    <tr>\n",
       "      <th>17</th>\n",
       "      <td>/bakom/de/home/elektronische-medien/informatio...</td>\n",
       "      <td>Radio FM 1 (bis 30.6.2018)</td>\n",
       "    </tr>\n",
       "    <tr>\n",
       "      <th>18</th>\n",
       "      <td>/bakom/de/home/elektronische-medien/informatio...</td>\n",
       "      <td>Radio Freiburg</td>\n",
       "    </tr>\n",
       "    <tr>\n",
       "      <th>19</th>\n",
       "      <td>/bakom/de/home/elektronische-medien/informatio...</td>\n",
       "      <td>Radio Fribourg</td>\n",
       "    </tr>\n",
       "    <tr>\n",
       "      <th>20</th>\n",
       "      <td>/bakom/de/home/elektronische-medien/informatio...</td>\n",
       "      <td>Radio GRRIF</td>\n",
       "    </tr>\n",
       "    <tr>\n",
       "      <th>21</th>\n",
       "      <td>/bakom/de/home/elektronische-medien/informatio...</td>\n",
       "      <td>Radio Kanal K</td>\n",
       "    </tr>\n",
       "    <tr>\n",
       "      <th>22</th>\n",
       "      <td>/bakom/de/home/elektronische-medien/informatio...</td>\n",
       "      <td>Radio Lausanne FM</td>\n",
       "    </tr>\n",
       "    <tr>\n",
       "      <th>23</th>\n",
       "      <td>/bakom/de/home/elektronische-medien/informatio...</td>\n",
       "      <td>Radio LoRa</td>\n",
       "    </tr>\n",
       "    <tr>\n",
       "      <th>24</th>\n",
       "      <td>/bakom/de/home/elektronische-medien/informatio...</td>\n",
       "      <td>Radio Munot</td>\n",
       "    </tr>\n",
       "    <tr>\n",
       "      <th>25</th>\n",
       "      <td>/bakom/de/home/elektronische-medien/informatio...</td>\n",
       "      <td>Radio Neo 1</td>\n",
       "    </tr>\n",
       "    <tr>\n",
       "      <th>26</th>\n",
       "      <td>/bakom/de/home/elektronische-medien/informatio...</td>\n",
       "      <td>Radio One FM</td>\n",
       "    </tr>\n",
       "    <tr>\n",
       "      <th>27</th>\n",
       "      <td>/bakom/de/home/elektronische-medien/informatio...</td>\n",
       "      <td>Radio Pilatus (bis 30.6.2018)</td>\n",
       "    </tr>\n",
       "    <tr>\n",
       "      <th>28</th>\n",
       "      <td>/bakom/de/home/elektronische-medien/informatio...</td>\n",
       "      <td>Radio R3iii</td>\n",
       "    </tr>\n",
       "    <tr>\n",
       "      <th>29</th>\n",
       "      <td>/bakom/de/home/elektronische-medien/informatio...</td>\n",
       "      <td>Radio RaBe</td>\n",
       "    </tr>\n",
       "    <tr>\n",
       "      <th>30</th>\n",
       "      <td>/bakom/de/home/elektronische-medien/informatio...</td>\n",
       "      <td>Radio RaSa</td>\n",
       "    </tr>\n",
       "    <tr>\n",
       "      <th>31</th>\n",
       "      <td>/bakom/de/home/elektronische-medien/informatio...</td>\n",
       "      <td>Radio Rhône FM</td>\n",
       "    </tr>\n",
       "    <tr>\n",
       "      <th>32</th>\n",
       "      <td>/bakom/de/home/elektronische-medien/informatio...</td>\n",
       "      <td>Radio Rottu Oberwallis</td>\n",
       "    </tr>\n",
       "    <tr>\n",
       "      <th>33</th>\n",
       "      <td>/bakom/de/home/elektronische-medien/informatio...</td>\n",
       "      <td>Radio Rouge FM (jusqu'au 30.9.2018)</td>\n",
       "    </tr>\n",
       "    <tr>\n",
       "      <th>34</th>\n",
       "      <td>/bakom/de/home/elektronische-medien/informatio...</td>\n",
       "      <td>Radio Stadtfilter</td>\n",
       "    </tr>\n",
       "    <tr>\n",
       "      <th>35</th>\n",
       "      <td>/bakom/de/home/elektronische-medien/informatio...</td>\n",
       "      <td>Radio Südostschweiz</td>\n",
       "    </tr>\n",
       "    <tr>\n",
       "      <th>36</th>\n",
       "      <td>/bakom/de/home/elektronische-medien/informatio...</td>\n",
       "      <td>Sunshine Radio</td>\n",
       "    </tr>\n",
       "    <tr>\n",
       "      <th>37</th>\n",
       "      <td>/bakom/de/home/elektronische-medien/informatio...</td>\n",
       "      <td>Radio Ticino</td>\n",
       "    </tr>\n",
       "    <tr>\n",
       "      <th>38</th>\n",
       "      <td>/bakom/de/home/elektronische-medien/informatio...</td>\n",
       "      <td>Radio Top</td>\n",
       "    </tr>\n",
       "    <tr>\n",
       "      <th>39</th>\n",
       "      <td>/bakom/de/home/elektronische-medien/informatio...</td>\n",
       "      <td>toxic.fm</td>\n",
       "    </tr>\n",
       "    <tr>\n",
       "      <th>40</th>\n",
       "      <td>/bakom/de/home/elektronische-medien/informatio...</td>\n",
       "      <td>Radio X</td>\n",
       "    </tr>\n",
       "    <tr>\n",
       "      <th>41</th>\n",
       "      <td>/bakom/de/home/elektronische-medien/informatio...</td>\n",
       "      <td>Yes.fm</td>\n",
       "    </tr>\n",
       "    <tr>\n",
       "      <th>42</th>\n",
       "      <td>/bakom/de/home/elektronische-medien/informatio...</td>\n",
       "      <td>Radio Zürisee</td>\n",
       "    </tr>\n",
       "  </tbody>\n",
       "</table>\n",
       "</div>"
      ],
      "text/plain": [
       "                                                 link  \\\n",
       "0   /bakom/de/home/elektronische-medien/informatio...   \n",
       "1   /bakom/de/home/elektronische-medien/informatio...   \n",
       "2   /bakom/de/home/elektronische-medien/informatio...   \n",
       "3   /bakom/de/home/elektronische-medien/informatio...   \n",
       "4   /bakom/de/home/elektronische-medien/informatio...   \n",
       "5   /bakom/de/home/elektronische-medien/informatio...   \n",
       "6   /bakom/de/home/elektronische-medien/informatio...   \n",
       "7   /bakom/de/home/elektronische-medien/informatio...   \n",
       "8   /bakom/de/home/elektronische-medien/informatio...   \n",
       "9   /bakom/de/home/elektronische-medien/informatio...   \n",
       "10  /bakom/de/home/elektronische-medien/informatio...   \n",
       "11  /bakom/de/home/elektronische-medien/informatio...   \n",
       "12  /bakom/de/home/elektronische-medien/informatio...   \n",
       "13  /bakom/de/home/elektronische-medien/informatio...   \n",
       "14  /bakom/de/home/elektronische-medien/informatio...   \n",
       "15  /bakom/de/home/elektronische-medien/informatio...   \n",
       "16  /bakom/de/home/elektronische-medien/informatio...   \n",
       "17  /bakom/de/home/elektronische-medien/informatio...   \n",
       "18  /bakom/de/home/elektronische-medien/informatio...   \n",
       "19  /bakom/de/home/elektronische-medien/informatio...   \n",
       "20  /bakom/de/home/elektronische-medien/informatio...   \n",
       "21  /bakom/de/home/elektronische-medien/informatio...   \n",
       "22  /bakom/de/home/elektronische-medien/informatio...   \n",
       "23  /bakom/de/home/elektronische-medien/informatio...   \n",
       "24  /bakom/de/home/elektronische-medien/informatio...   \n",
       "25  /bakom/de/home/elektronische-medien/informatio...   \n",
       "26  /bakom/de/home/elektronische-medien/informatio...   \n",
       "27  /bakom/de/home/elektronische-medien/informatio...   \n",
       "28  /bakom/de/home/elektronische-medien/informatio...   \n",
       "29  /bakom/de/home/elektronische-medien/informatio...   \n",
       "30  /bakom/de/home/elektronische-medien/informatio...   \n",
       "31  /bakom/de/home/elektronische-medien/informatio...   \n",
       "32  /bakom/de/home/elektronische-medien/informatio...   \n",
       "33  /bakom/de/home/elektronische-medien/informatio...   \n",
       "34  /bakom/de/home/elektronische-medien/informatio...   \n",
       "35  /bakom/de/home/elektronische-medien/informatio...   \n",
       "36  /bakom/de/home/elektronische-medien/informatio...   \n",
       "37  /bakom/de/home/elektronische-medien/informatio...   \n",
       "38  /bakom/de/home/elektronische-medien/informatio...   \n",
       "39  /bakom/de/home/elektronische-medien/informatio...   \n",
       "40  /bakom/de/home/elektronische-medien/informatio...   \n",
       "41  /bakom/de/home/elektronische-medien/informatio...   \n",
       "42  /bakom/de/home/elektronische-medien/informatio...   \n",
       "\n",
       "                                   name  \n",
       "0                               Radio 1  \n",
       "1                            Planet 105  \n",
       "2              Radio 24 (bis 30.6.2018)  \n",
       "3                              Radio 32  \n",
       "4                           Radio 3fach  \n",
       "5         Radio Argovia (bis 30.6.2018)  \n",
       "6                        Radio Basilisk  \n",
       "7                             Radio BeO  \n",
       "8                          Radio Bern 1  \n",
       "9                                BNJ FM  \n",
       "10                        Radio Canal 3  \n",
       "11                        Radio Central  \n",
       "12                       Radio Chablais  \n",
       "13                           Radio Cité  \n",
       "14                   Radio Energy Basel  \n",
       "15                    Radio Energy Bern  \n",
       "16                  Radio Energy Zürich  \n",
       "17           Radio FM 1 (bis 30.6.2018)  \n",
       "18                       Radio Freiburg  \n",
       "19                       Radio Fribourg  \n",
       "20                          Radio GRRIF  \n",
       "21                        Radio Kanal K  \n",
       "22                    Radio Lausanne FM  \n",
       "23                           Radio LoRa  \n",
       "24                          Radio Munot  \n",
       "25                          Radio Neo 1  \n",
       "26                         Radio One FM  \n",
       "27        Radio Pilatus (bis 30.6.2018)  \n",
       "28                          Radio R3iii  \n",
       "29                           Radio RaBe  \n",
       "30                           Radio RaSa  \n",
       "31                       Radio Rhône FM  \n",
       "32               Radio Rottu Oberwallis  \n",
       "33  Radio Rouge FM (jusqu'au 30.9.2018)  \n",
       "34                    Radio Stadtfilter  \n",
       "35                  Radio Südostschweiz  \n",
       "36                       Sunshine Radio  \n",
       "37                         Radio Ticino  \n",
       "38                            Radio Top  \n",
       "39                             toxic.fm  \n",
       "40                              Radio X  \n",
       "41                               Yes.fm  \n",
       "42                        Radio Zürisee  "
      ]
     },
     "execution_count": 10,
     "metadata": {},
     "output_type": "execute_result"
    }
   ],
   "source": [
    "df_radiolinkliste = pd.DataFrame(lokalradios)\n",
    "df_radiolinkliste"
   ]
  },
  {
   "cell_type": "code",
   "execution_count": null,
   "metadata": {},
   "outputs": [],
   "source": [
    "#nächste Schritte\n",
    "definiere neue liste für alle pdflinks\n",
    "\n",
    "for loop über Lokalradios\n",
    "    defniere dict für radioststation\n",
    "    html = request mit link \n",
    "    liste = html.findAll(\"div\", {\"class\": \"webText\"})[-1] #letztes div element in liste (letzter bericht)\n",
    "    in html finde link auf letzten Jahresbericht \n",
    "    speichere link in dict\n",
    "    append dict in listwe"
   ]
  },
  {
   "cell_type": "code",
   "execution_count": null,
   "metadata": {},
   "outputs": [],
   "source": [
    "#radiolist.find_all('td' ) #wie kann ich das Scrapen iterieren?"
   ]
  },
  {
   "cell_type": "code",
   "execution_count": 35,
   "metadata": {},
   "outputs": [
    {
     "data": {
      "text/plain": [
       "<a href=\"/bakom/de/home/elektronische-medien/informationen-ueber-radio-und-fernsehveranstalter/radio-lokal-regional.exturl.html/aHR0cHM6Ly93d3cuYmFrb21saXZlLmFkbWluLmNoL3RoZW1lbi/9yYWRpb190di9tYXJrdHVlYmVyc2ljaHQvcmFkaW9fbG9rYWwv/aW5kZXguaHRtbD9sYW5nPWRlJk9JRD00Ng==.html\">Radio 1</a>"
      ]
     },
     "execution_count": 35,
     "metadata": {},
     "output_type": "execute_result"
    }
   ],
   "source": [
    "#Problem: hier parse ich ja nur das dritte Element\n",
    "radiolist.find_all('td')[2].find('a')"
   ]
  },
  {
   "cell_type": "code",
   "execution_count": 52,
   "metadata": {},
   "outputs": [
    {
     "data": {
      "text/plain": [
       "'Radio 1'"
      ]
     },
     "execution_count": 52,
     "metadata": {},
     "output_type": "execute_result"
    }
   ],
   "source": [
    "radiolist.find_all('td')[2].find('a').text"
   ]
  },
  {
   "cell_type": "code",
   "execution_count": 36,
   "metadata": {},
   "outputs": [
    {
     "data": {
      "text/plain": [
       "'/bakom/de/home/elektronische-medien/informationen-ueber-radio-und-fernsehveranstalter/radio-lokal-regional.exturl.html/aHR0cHM6Ly93d3cuYmFrb21saXZlLmFkbWluLmNoL3RoZW1lbi/9yYWRpb190di9tYXJrdHVlYmVyc2ljaHQvcmFkaW9fbG9rYWwv/aW5kZXguaHRtbD9sYW5nPWRlJk9JRD00Ng==.html'"
      ]
     },
     "execution_count": 36,
     "metadata": {},
     "output_type": "execute_result"
    }
   ],
   "source": [
    "radiolist.find_all('td')[2].find('a')['href']"
   ]
  },
  {
   "cell_type": "code",
   "execution_count": 75,
   "metadata": {},
   "outputs": [
    {
     "data": {
      "text/plain": [
       "14"
      ]
     },
     "execution_count": 75,
     "metadata": {},
     "output_type": "execute_result"
    }
   ],
   "source": [
    "len(radiolist)"
   ]
  },
  {
   "cell_type": "markdown",
   "metadata": {},
   "source": [
    "Ab hier versuche ich selber weiter zu machen.\n",
    "\n",
    "Wie weiter: Liste mit Veranstaltern und mit den links auf die Unterseite mit pdf machen"
   ]
  },
  {
   "cell_type": "code",
   "execution_count": 76,
   "metadata": {},
   "outputs": [
    {
     "data": {
      "text/plain": [
       "'/bakom/de/home/elektronische-medien/informationen-ueber-radio-und-fernsehveranstalter/radio-lokal-regional.exturl.html/aHR0cHM6Ly93d3cuYmFrb21saXZlLmFkbWluLmNoL3RoZW1lbi/9yYWRpb190di9tYXJrdHVlYmVyc2ljaHQvcmFkaW9fbG9rYWwv/aW5kZXguaHRtbD9sYW5nPWRlJk9JRD00Ng==.html'"
      ]
     },
     "execution_count": 76,
     "metadata": {},
     "output_type": "execute_result"
    }
   ],
   "source": [
    "link = radiolist.find_all('td')[2].find('a')['href']\n",
    "link \n",
    "#den Link muss ich vorne offenbar wieder ergänzen mit demjenigender Hauptsite"
   ]
  },
  {
   "cell_type": "code",
   "execution_count": 77,
   "metadata": {},
   "outputs": [
    {
     "data": {
      "text/plain": [
       "'Radio 1'"
      ]
     },
     "execution_count": 77,
     "metadata": {},
     "output_type": "execute_result"
    }
   ],
   "source": [
    "radiostation = radiolist.find_all('td')[2].find('a').text\n",
    "radiostation"
   ]
  },
  {
   "cell_type": "code",
   "execution_count": 80,
   "metadata": {},
   "outputs": [],
   "source": [
    "radiolinklist = []\n",
    "#hier beginnt der for-Loop\n",
    "for r, l in zip(radiostation, link):\n",
    "    #hier les ich aus beiden Listen die Elemente aus\n",
    "    #das r Element aus der radiostation-Liste\n",
    "    #Das l Element aus der link-Liste\n",
    "    #daraus wird mein Minid-Dictionary\n",
    "    minidict = {'Radiostation':r,\n",
    "              'Link':l}\n",
    "  #hier wird das erstellte Mini-Dictionary der Percentage-Liste angehängt.\n",
    "    #Daraus entsteht eine Liste von Dicionarys\n",
    "    radiolinklist.append(minidict)\n",
    "#Dies Dictionaryliste wird i ein csv umgewandelt und abgespeichert.\n",
    "pd.DataFrame(radiolinklist).to_csv('radiolinklist.csv')"
   ]
  },
  {
   "cell_type": "code",
   "execution_count": 81,
   "metadata": {},
   "outputs": [
    {
     "data": {
      "text/html": [
       "<div>\n",
       "<style scoped>\n",
       "    .dataframe tbody tr th:only-of-type {\n",
       "        vertical-align: middle;\n",
       "    }\n",
       "\n",
       "    .dataframe tbody tr th {\n",
       "        vertical-align: top;\n",
       "    }\n",
       "\n",
       "    .dataframe thead th {\n",
       "        text-align: right;\n",
       "    }\n",
       "</style>\n",
       "<table border=\"1\" class=\"dataframe\">\n",
       "  <thead>\n",
       "    <tr style=\"text-align: right;\">\n",
       "      <th></th>\n",
       "      <th>Link</th>\n",
       "      <th>Radiostation</th>\n",
       "    </tr>\n",
       "  </thead>\n",
       "  <tbody>\n",
       "    <tr>\n",
       "      <th>0</th>\n",
       "      <td>/</td>\n",
       "      <td>R</td>\n",
       "    </tr>\n",
       "    <tr>\n",
       "      <th>1</th>\n",
       "      <td>b</td>\n",
       "      <td>a</td>\n",
       "    </tr>\n",
       "    <tr>\n",
       "      <th>2</th>\n",
       "      <td>a</td>\n",
       "      <td>d</td>\n",
       "    </tr>\n",
       "    <tr>\n",
       "      <th>3</th>\n",
       "      <td>k</td>\n",
       "      <td>i</td>\n",
       "    </tr>\n",
       "    <tr>\n",
       "      <th>4</th>\n",
       "      <td>o</td>\n",
       "      <td>o</td>\n",
       "    </tr>\n",
       "    <tr>\n",
       "      <th>5</th>\n",
       "      <td>m</td>\n",
       "      <td></td>\n",
       "    </tr>\n",
       "    <tr>\n",
       "      <th>6</th>\n",
       "      <td>/</td>\n",
       "      <td>1</td>\n",
       "    </tr>\n",
       "  </tbody>\n",
       "</table>\n",
       "</div>"
      ],
      "text/plain": [
       "  Link Radiostation\n",
       "0    /            R\n",
       "1    b            a\n",
       "2    a            d\n",
       "3    k            i\n",
       "4    o            o\n",
       "5    m             \n",
       "6    /            1"
      ]
     },
     "execution_count": 81,
     "metadata": {},
     "output_type": "execute_result"
    }
   ],
   "source": [
    "pd.DataFrame(radiolinklist)"
   ]
  },
  {
   "cell_type": "code",
   "execution_count": null,
   "metadata": {},
   "outputs": [],
   "source": [
    "#Vorlage für die Ergänzung der extrahierten links\n",
    "url_hauptseite = https://www.bakom.admin.ch\n",
    "url_unterseite_privatradios = /bakom/de/home/elektronische-medien/informationen-ueber-radio-und-fernsehveranstalter/radio-lokal-regional.html"
   ]
  }
 ],
 "metadata": {
  "kernelspec": {
   "display_name": "Python 3",
   "language": "python",
   "name": "python3"
  },
  "language_info": {
   "codemirror_mode": {
    "name": "ipython",
    "version": 3
   },
   "file_extension": ".py",
   "mimetype": "text/x-python",
   "name": "python",
   "nbconvert_exporter": "python",
   "pygments_lexer": "ipython3",
   "version": "3.7.0"
  }
 },
 "nbformat": 4,
 "nbformat_minor": 2
}
