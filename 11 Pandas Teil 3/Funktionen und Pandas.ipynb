{
 "cells": [
  {
   "cell_type": "markdown",
   "metadata": {},
   "source": [
    "# Funktionen und Pandas"
   ]
  },
  {
   "cell_type": "markdown",
   "metadata": {},
   "source": [
    "**Inhalt:** Komplexere Zellen- und Spalten-Operationen\n",
    "\n",
    "**Nötige Skills:** Einführung in Pandas\n",
    "\n",
    "**Lernziele:**\n",
    "- Mehrere Codezeilen zu Funktionen zusammenfassen\n",
    "- Funktionen auf bestimmte Bestandteile von Dataframes ausführen (apply, lambda)"
   ]
  },
  {
   "cell_type": "markdown",
   "metadata": {},
   "source": [
    "## Vorbereitung"
   ]
  },
  {
   "cell_type": "code",
   "execution_count": 1,
   "metadata": {},
   "outputs": [],
   "source": [
    "import pandas as pd"
   ]
  },
  {
   "cell_type": "code",
   "execution_count": 2,
   "metadata": {},
   "outputs": [],
   "source": [
    "# Platz für weitere Libraries, die Sie brauchen möchten...\n",
    "import requests"
   ]
  },
  {
   "cell_type": "code",
   "execution_count": 3,
   "metadata": {},
   "outputs": [],
   "source": [
    "from bs4 import BeautifulSoup"
   ]
  },
  {
   "cell_type": "markdown",
   "metadata": {},
   "source": [
    "## Review: eine einfache Funktion schreiben"
   ]
  },
  {
   "cell_type": "markdown",
   "metadata": {},
   "source": [
    "Zum Start kreieren wir uns eine Reihe von Funktionen, die wir später anwenden wollen. Be creative!"
   ]
  },
  {
   "cell_type": "markdown",
   "metadata": {},
   "source": [
    "Zum Beispiel:\n",
    "- eine Zalhlenoperation, die nicht auf einer Zeile platz hat (wenn, dann, etc.)\n",
    "- einen Input nehmen, eine API damit befragen\n",
    "- einen String durchsuchen und/oder modifizieren\n",
    "- Zahlen und Text nach einem bestimmten Muster formatieren\n",
    "\n",
    "Wichtig: Die Funktion muss irgendwas zurückgeben!!"
   ]
  },
  {
   "cell_type": "markdown",
   "metadata": {},
   "source": [
    "**To Do:** Schreiben und beschreiben Sie eine Funktion (eine auswählen, Code testen und in Slack!)"
   ]
  },
  {
   "cell_type": "markdown",
   "metadata": {},
   "source": [
    "**Eine Funktion, die etwas mit einer Zahl macht**"
   ]
  },
  {
   "cell_type": "code",
   "execution_count": 4,
   "metadata": {},
   "outputs": [],
   "source": [
    "# Hier Beschreibung einfügen\n",
    "def mach_was_mit_zahl(zahl):\n",
    "\n",
    "   \n",
    "    return zahl + 1"
   ]
  },
  {
   "cell_type": "markdown",
   "metadata": {},
   "source": [
    "Zum Testen:"
   ]
  },
  {
   "cell_type": "code",
   "execution_count": 5,
   "metadata": {},
   "outputs": [
    {
     "data": {
      "text/plain": [
       "365001"
      ]
     },
     "execution_count": 5,
     "metadata": {},
     "output_type": "execute_result"
    }
   ],
   "source": [
    "mach_was_mit_zahl(365000)"
   ]
  },
  {
   "cell_type": "code",
   "execution_count": null,
   "metadata": {},
   "outputs": [],
   "source": []
  },
  {
   "cell_type": "markdown",
   "metadata": {},
   "source": [
    "**Eine Funktion, die etwas mit einem Wort macht**"
   ]
  },
  {
   "cell_type": "code",
   "execution_count": 26,
   "metadata": {},
   "outputs": [],
   "source": [
    "# Hier Beschreibung einfügen\n",
    "def mach_was_mit_wort(wort):\n",
    "    \n",
    "       \n",
    "    return \"Ich hasse \" + wort"
   ]
  },
  {
   "cell_type": "markdown",
   "metadata": {},
   "source": [
    "Zum Testen:"
   ]
  },
  {
   "cell_type": "code",
   "execution_count": 27,
   "metadata": {},
   "outputs": [
    {
     "data": {
      "text/plain": [
       "'Ich hasse Schneider-Ammann'"
      ]
     },
     "execution_count": 27,
     "metadata": {},
     "output_type": "execute_result"
    }
   ],
   "source": [
    "mach_was_mit_wort(\"Schneider-Ammann\")"
   ]
  },
  {
   "cell_type": "code",
   "execution_count": null,
   "metadata": {},
   "outputs": [],
   "source": []
  },
  {
   "cell_type": "markdown",
   "metadata": {},
   "source": [
    "**Eine Funktion, die etwas mit einem längeren Text macht**"
   ]
  },
  {
   "cell_type": "markdown",
   "metadata": {},
   "source": [
    "Zum Beispiel mit diesem hier:"
   ]
  },
  {
   "cell_type": "code",
   "execution_count": 8,
   "metadata": {},
   "outputs": [],
   "source": [
    "my_text = open('dataprojects/Songtexte/Züri West - I schänke dir mis Härz.txt', 'r').read()"
   ]
  },
  {
   "cell_type": "markdown",
   "metadata": {},
   "source": [
    "Für Ideen, hier eine Liste von Python's String-Funktionen: https://www.w3schools.com/python/python_ref_string.asp"
   ]
  },
  {
   "cell_type": "code",
   "execution_count": 9,
   "metadata": {},
   "outputs": [],
   "source": [
    "# Hier Beschreibung einfügen\n",
    "def mach_was_mit_text(text):\n",
    "    \n",
    "        \n",
    "    return ..."
   ]
  },
  {
   "cell_type": "markdown",
   "metadata": {},
   "source": [
    "Zum Testen:"
   ]
  },
  {
   "cell_type": "code",
   "execution_count": 10,
   "metadata": {},
   "outputs": [
    {
     "data": {
      "text/plain": [
       "Ellipsis"
      ]
     },
     "execution_count": 10,
     "metadata": {},
     "output_type": "execute_result"
    }
   ],
   "source": [
    "mach_was_mit_text(my_text)"
   ]
  },
  {
   "cell_type": "code",
   "execution_count": null,
   "metadata": {},
   "outputs": [],
   "source": []
  },
  {
   "cell_type": "code",
   "execution_count": null,
   "metadata": {},
   "outputs": [],
   "source": []
  },
  {
   "cell_type": "markdown",
   "metadata": {},
   "source": [
    "**Eine Funktion, die etwas mit einem Dictionary macht**"
   ]
  },
  {
   "cell_type": "markdown",
   "metadata": {},
   "source": [
    "Zum Beispiel mit diesem hier:"
   ]
  },
  {
   "cell_type": "code",
   "execution_count": 11,
   "metadata": {},
   "outputs": [],
   "source": [
    "my_dictionary = {\n",
    "    'Rang': 20,\n",
    "    'Artist': 'Baschi',\n",
    "    'Titel': 'Bring en hei',\n",
    "    'Eintritt': '28.05.2006',\n",
    "    'Wochen': 100,\n",
    "    'Peak': 1,\n",
    "    'Punkte': 5356,\n",
    "    'Link': '/song/Baschi/Bring-en-hei-193080'\n",
    "}"
   ]
  },
  {
   "cell_type": "code",
   "execution_count": 21,
   "metadata": {},
   "outputs": [],
   "source": [
    "# Hier Beschreibung einfügen\n",
    "def mach_was_mit_dictionary(dic):\n",
    "    \n",
    "    endtext = \"Der Song \" + dic[\"Titel\"] + \" von \" + dic[\"Artist\"] + \" war \" +str(dic[\"Wochen\"])\n",
    "    endtext += \" Wochen in den Charts.\" # mit += kann ich einen Zeilenumbruch machen und weitere codes anhängen.\n",
    "      \n",
    "    return endtext"
   ]
  },
  {
   "cell_type": "code",
   "execution_count": 20,
   "metadata": {},
   "outputs": [
    {
     "data": {
      "text/plain": [
       "'Der Song Bring en hei von Baschi war 100 Wochen'"
      ]
     },
     "execution_count": 20,
     "metadata": {},
     "output_type": "execute_result"
    }
   ],
   "source": [
    "mach_was_mit_dictionary(my_dictionary)"
   ]
  },
  {
   "cell_type": "code",
   "execution_count": null,
   "metadata": {},
   "outputs": [],
   "source": []
  },
  {
   "cell_type": "markdown",
   "metadata": {},
   "source": [
    "## Funktion ausführen 1: List Comprehension"
   ]
  },
  {
   "cell_type": "markdown",
   "metadata": {},
   "source": [
    "Das kennen wir bereits: Wir wollen dieselbe Funktion auf alle Elemente in einer Liste anwenden!"
   ]
  },
  {
   "cell_type": "markdown",
   "metadata": {},
   "source": [
    "Zum Beispiel auf eine von diesen Listen: **Zahlen**"
   ]
  },
  {
   "cell_type": "code",
   "execution_count": 22,
   "metadata": {},
   "outputs": [],
   "source": [
    "zahlen = [10, 957, 4.73, 333888, 0.00013]"
   ]
  },
  {
   "cell_type": "code",
   "execution_count": 28,
   "metadata": {},
   "outputs": [
    {
     "data": {
      "text/plain": [
       "[11, 958, 5.73, 333889, 1.00013]"
      ]
     },
     "execution_count": 28,
     "metadata": {},
     "output_type": "execute_result"
    }
   ],
   "source": [
    "[mach_was_mit_zahl(zahl) for zahl in zahlen] # Die [] um alles sagt, dass das Ergebnis selber wieder in eine Liste kommen"
   ]
  },
  {
   "cell_type": "markdown",
   "metadata": {},
   "source": [
    "**Wörter:**"
   ]
  },
  {
   "cell_type": "code",
   "execution_count": 29,
   "metadata": {},
   "outputs": [],
   "source": [
    "woerter = [\"Meier\", \"Schmidt\", \"orange\", \"Wauwau\", \"Milchstrasse\", \"Schneider-Ammann\"]"
   ]
  },
  {
   "cell_type": "code",
   "execution_count": 30,
   "metadata": {},
   "outputs": [
    {
     "data": {
      "text/plain": [
       "['Ich hasse Meier',\n",
       " 'Ich hasse Schmidt',\n",
       " 'Ich hasse orange',\n",
       " 'Ich hasse Wauwau',\n",
       " 'Ich hasse Milchstrasse',\n",
       " 'Ich hasse Schneider-Ammann']"
      ]
     },
     "execution_count": 30,
     "metadata": {},
     "output_type": "execute_result"
    }
   ],
   "source": [
    "[mach_was_mit_wort(wort) for wort in woerter]"
   ]
  },
  {
   "cell_type": "markdown",
   "metadata": {},
   "source": [
    "**Texte:**"
   ]
  },
  {
   "cell_type": "code",
   "execution_count": 31,
   "metadata": {},
   "outputs": [],
   "source": [
    "files = [\n",
    "    'Züri West - I schänke dir mis Härz.txt',\n",
    "    'Patent Ochsner - Venus vo Bümpliz.txt',\n",
    "    'DJ Bobo - Chihuahua.txt'\n",
    "]"
   ]
  },
  {
   "cell_type": "code",
   "execution_count": 32,
   "metadata": {},
   "outputs": [],
   "source": [
    "texts = [open('dataprojects/Songtexte/' + file, \"r\").read() for file in files]"
   ]
  },
  {
   "cell_type": "code",
   "execution_count": 33,
   "metadata": {},
   "outputs": [
    {
     "data": {
      "text/plain": [
       "'I schänke dir mis Härz\\nMeh han i nid\\nDu chasch es ha, we dä wosch\\nEs isch es guets\\nU es git no mängi, wos würd näh,\\nAber dir würdis gäh\\nD szene isch ä chlini Bar\\nIrgenwo i dere Stadt\\nUnd i bsteue ä Whisky\\nHocke irgendwo ab\\nWos ke Platz u luege so chli ume\\nWär so umänang hocket\\nAber kenne tuä-ni niemer hie inne\\nÜberall hocke Lüt\\nhinger de Schampus-Chüble\\nGeng ä Frou u ne Typ\\nU nippe amne Flûte u hange angenang a\\nu rede öppis über nüt\\nU nume ig bi allei hie\\nu da wächslet ds\\'Liecht\\nHie u da verschwinde wider zwöi irgendwo\\nU irgendeinisch geit hinde\\nÄ dunkublaue Vorhang uuf\\nHinger em Vorhang hets ä Bühni\\nUf dr Bühni steit ä Frou\\nWo i dä Ungerhose irgendsone Show zeigt\\nI luege so chli zue\\nU i hocke so chli da\\nU gspüre plötzlech\\nDass i irgendsone Hang ufem Chnöi ha\\nU dräie mi um\\nU näbe mir hocket eini\\nWoni nie voher ha gseh\\nU fragt, ob ig alleini sig\\nU sie sig ou allei\\nI söu nid überlege\\nI gfaui re no so\\nu si wöu eifach chli rede\\nViellech sött i hie no säge\\nSie gseht schön us\\nSie isch ä schöni mit schöne, länge Haar\\nU klar bin i närvös worde\\nKlar han i drunke\\nU mit jedem Schlunk het sie mi no chli schöner afa dünke\\nU nach jedem Glas Champagner\\nHet sie gäng no eis wöue\\nI ha zaut u zaut\\nBis i eifach nüm ha chönne\\nU ha gseit:\"Hey,\\nWei mer nid zu mir oder so?\"\\nU sie het gseit:\\n\"I chönnt di so verwöhne.\\nSo ire haub Stung chönnti cho -\\nu jitz säg mer eifach numeno wiviu\\nSäg wiviu,\\nWiviu gisch mer, wenn i chume?\"\\nI schänke dir mis Härz meh han i nid\\nDu chasch es ha, we de wosch\\nes isch es guets und es git\\nno mängi, wos würd näh\\nAber dir würd is gä\\n'"
      ]
     },
     "execution_count": 33,
     "metadata": {},
     "output_type": "execute_result"
    }
   ],
   "source": [
    "texts[0]"
   ]
  },
  {
   "cell_type": "code",
   "execution_count": 34,
   "metadata": {},
   "outputs": [
    {
     "data": {
      "text/plain": [
       "[Ellipsis, Ellipsis, Ellipsis]"
      ]
     },
     "execution_count": 34,
     "metadata": {},
     "output_type": "execute_result"
    }
   ],
   "source": [
    "[mach_was_mit_text(text) for text in texts]"
   ]
  },
  {
   "cell_type": "code",
   "execution_count": null,
   "metadata": {},
   "outputs": [],
   "source": []
  },
  {
   "cell_type": "code",
   "execution_count": null,
   "metadata": {},
   "outputs": [],
   "source": []
  },
  {
   "cell_type": "markdown",
   "metadata": {},
   "source": [
    "## Funktion ausführen 2: Apply"
   ]
  },
  {
   "cell_type": "markdown",
   "metadata": {},
   "source": [
    "Apply ist ein ähnliches Prinzip wie List Comprehension - aber in Pandas.\n",
    "\n",
    "Um es auszuprobieren, stellen wir uns eine kleine Datenbank der besten alltime-Singles aus der Schweizer Hitparade zusammen und scrapen die Songtexte dazu.\n",
    "\n",
    "Quelle: https://hitparade.ch/charts/best/singles\n",
    "\n",
    "Quelle: https://www.songtexte.com/"
   ]
  },
  {
   "cell_type": "markdown",
   "metadata": {},
   "source": [
    "Das Scrape-File dazu findet sich hier: `dataprojects/Songtexte/scraper.ipynb`\n",
    "\n",
    "Das Daten-File hier: `dataprojects/Songtexte/charts_mit_texten.csv`"
   ]
  },
  {
   "cell_type": "code",
   "execution_count": 35,
   "metadata": {},
   "outputs": [],
   "source": [
    "df = pd.read_csv('dataprojects/Songtexte/charts_mit_texten.csv')"
   ]
  },
  {
   "cell_type": "code",
   "execution_count": 36,
   "metadata": {},
   "outputs": [
    {
     "data": {
      "text/html": [
       "<div>\n",
       "<style scoped>\n",
       "    .dataframe tbody tr th:only-of-type {\n",
       "        vertical-align: middle;\n",
       "    }\n",
       "\n",
       "    .dataframe tbody tr th {\n",
       "        vertical-align: top;\n",
       "    }\n",
       "\n",
       "    .dataframe thead th {\n",
       "        text-align: right;\n",
       "    }\n",
       "</style>\n",
       "<table border=\"1\" class=\"dataframe\">\n",
       "  <thead>\n",
       "    <tr style=\"text-align: right;\">\n",
       "      <th></th>\n",
       "      <th>Rang</th>\n",
       "      <th>Artist</th>\n",
       "      <th>Titel</th>\n",
       "      <th>Eintritt</th>\n",
       "      <th>Wochen</th>\n",
       "      <th>Peak</th>\n",
       "      <th>Punkte</th>\n",
       "      <th>Link</th>\n",
       "      <th>Songtext</th>\n",
       "    </tr>\n",
       "  </thead>\n",
       "  <tbody>\n",
       "    <tr>\n",
       "      <th>0</th>\n",
       "      <td>1</td>\n",
       "      <td>DJ Ötzi &amp; Nik P.</td>\n",
       "      <td>Ein Stern (... der deinen Namen trägt)</td>\n",
       "      <td>18.02.2007</td>\n",
       "      <td>118</td>\n",
       "      <td>2</td>\n",
       "      <td>8109</td>\n",
       "      <td>/song/DJ-Oetzi-&amp;-Nik-P./Ein-Stern-(...-der-dei...</td>\n",
       "      <td>Einen Stern, der deinen Namen trägt\\nHoch am H...</td>\n",
       "    </tr>\n",
       "    <tr>\n",
       "      <th>1</th>\n",
       "      <td>2</td>\n",
       "      <td>Ed Sheeran</td>\n",
       "      <td>Shape Of You</td>\n",
       "      <td>15.01.2017</td>\n",
       "      <td>93</td>\n",
       "      <td>1</td>\n",
       "      <td>7196</td>\n",
       "      <td>/song/Ed-Sheeran/Shape-Of-You-1622943</td>\n",
       "      <td>The club isn't the best place to find a lover\\...</td>\n",
       "    </tr>\n",
       "    <tr>\n",
       "      <th>2</th>\n",
       "      <td>3</td>\n",
       "      <td>Luis Fonsi feat. Daddy Yankee</td>\n",
       "      <td>Despacito</td>\n",
       "      <td>22.01.2017</td>\n",
       "      <td>90</td>\n",
       "      <td>1</td>\n",
       "      <td>6854</td>\n",
       "      <td>/song/Luis-Fonsi-feat.-Daddy-Yankee/Despacito-...</td>\n",
       "      <td>Ay\\nFonsi, DY\\nOh, oh no, oh no (ey)\\nHey, yea...</td>\n",
       "    </tr>\n",
       "    <tr>\n",
       "      <th>3</th>\n",
       "      <td>4</td>\n",
       "      <td>DJ Antoine feat. The Beat Shakers</td>\n",
       "      <td>\"Ma chérie\"</td>\n",
       "      <td>06.06.2010</td>\n",
       "      <td>99</td>\n",
       "      <td>2</td>\n",
       "      <td>6745</td>\n",
       "      <td>/song/DJ-Antoine-feat.-The-Beat-Shakers/Ma-che...</td>\n",
       "      <td>When I look into your eyes\\nI see rainbows in ...</td>\n",
       "    </tr>\n",
       "    <tr>\n",
       "      <th>4</th>\n",
       "      <td>5</td>\n",
       "      <td>Adele</td>\n",
       "      <td>Rolling In The Deep</td>\n",
       "      <td>30.01.2011</td>\n",
       "      <td>93</td>\n",
       "      <td>1</td>\n",
       "      <td>6588</td>\n",
       "      <td>/song/Adele/Rolling-In-The-Deep-767937</td>\n",
       "      <td>There's a fire starting in my heart\\nReaching ...</td>\n",
       "    </tr>\n",
       "  </tbody>\n",
       "</table>\n",
       "</div>"
      ],
      "text/plain": [
       "   Rang                             Artist  \\\n",
       "0     1                   DJ Ötzi & Nik P.   \n",
       "1     2                         Ed Sheeran   \n",
       "2     3      Luis Fonsi feat. Daddy Yankee   \n",
       "3     4  DJ Antoine feat. The Beat Shakers   \n",
       "4     5                              Adele   \n",
       "\n",
       "                                    Titel    Eintritt  Wochen  Peak  Punkte  \\\n",
       "0  Ein Stern (... der deinen Namen trägt)  18.02.2007     118     2    8109   \n",
       "1                            Shape Of You  15.01.2017      93     1    7196   \n",
       "2                               Despacito  22.01.2017      90     1    6854   \n",
       "3                             \"Ma chérie\"  06.06.2010      99     2    6745   \n",
       "4                     Rolling In The Deep  30.01.2011      93     1    6588   \n",
       "\n",
       "                                                Link  \\\n",
       "0  /song/DJ-Oetzi-&-Nik-P./Ein-Stern-(...-der-dei...   \n",
       "1              /song/Ed-Sheeran/Shape-Of-You-1622943   \n",
       "2  /song/Luis-Fonsi-feat.-Daddy-Yankee/Despacito-...   \n",
       "3  /song/DJ-Antoine-feat.-The-Beat-Shakers/Ma-che...   \n",
       "4             /song/Adele/Rolling-In-The-Deep-767937   \n",
       "\n",
       "                                            Songtext  \n",
       "0  Einen Stern, der deinen Namen trägt\\nHoch am H...  \n",
       "1  The club isn't the best place to find a lover\\...  \n",
       "2  Ay\\nFonsi, DY\\nOh, oh no, oh no (ey)\\nHey, yea...  \n",
       "3  When I look into your eyes\\nI see rainbows in ...  \n",
       "4  There's a fire starting in my heart\\nReaching ...  "
      ]
     },
     "execution_count": 36,
     "metadata": {},
     "output_type": "execute_result"
    }
   ],
   "source": [
    "df.head()"
   ]
  },
  {
   "cell_type": "markdown",
   "metadata": {},
   "source": [
    "### Apply mit einzelnen Einträgen"
   ]
  },
  {
   "cell_type": "markdown",
   "metadata": {},
   "source": [
    "Wir probieren jetz an diesem Datenset unsere obigen Funktionen aus.\n",
    "\n",
    "Das Prinzip: Wir nehmen eine Spalte, und wenden auf jeden einzelnen Eitrag darin eine Funktion an.\n",
    "\n",
    "Zum Beispiel auf alle Einträge in der Spalte \"Punkte\":"
   ]
  },
  {
   "cell_type": "code",
   "execution_count": 37,
   "metadata": {},
   "outputs": [
    {
     "data": {
      "text/plain": [
       "0     8110\n",
       "1     7197\n",
       "2     6855\n",
       "3     6746\n",
       "4     6589\n",
       "5     6548\n",
       "6     6126\n",
       "7     6086\n",
       "8     6005\n",
       "9     6002\n",
       "10    5894\n",
       "11    5843\n",
       "12    5775\n",
       "13    5664\n",
       "14    5628\n",
       "15    5563\n",
       "16    5537\n",
       "17    5496\n",
       "18    5366\n",
       "19    5357\n",
       "20    5287\n",
       "21    5214\n",
       "22    5159\n",
       "23    5157\n",
       "24    5115\n",
       "25    5058\n",
       "26    4970\n",
       "27    4956\n",
       "28    4895\n",
       "29    4859\n",
       "      ... \n",
       "70    4167\n",
       "71    4159\n",
       "72    4159\n",
       "73    4153\n",
       "74    4151\n",
       "75    4132\n",
       "76    4122\n",
       "77    4114\n",
       "78    4089\n",
       "79    4056\n",
       "80    4045\n",
       "81    4029\n",
       "82    4018\n",
       "83    4014\n",
       "84    3999\n",
       "85    3994\n",
       "86    3993\n",
       "87    3984\n",
       "88    3980\n",
       "89    3970\n",
       "90    3956\n",
       "91    3940\n",
       "92    3935\n",
       "93    3931\n",
       "94    3923\n",
       "95    3903\n",
       "96    3900\n",
       "97    3895\n",
       "98    3878\n",
       "99    3874\n",
       "Name: Punkte, Length: 100, dtype: int64"
      ]
     },
     "execution_count": 37,
     "metadata": {},
     "output_type": "execute_result"
    }
   ],
   "source": [
    "df['Punkte'].apply(mach_was_mit_zahl)"
   ]
  },
  {
   "cell_type": "markdown",
   "metadata": {},
   "source": [
    "Warum funktioniert das hier nicht?"
   ]
  },
  {
   "cell_type": "code",
   "execution_count": 38,
   "metadata": {},
   "outputs": [
    {
     "data": {
      "text/plain": [
       "0     8110\n",
       "1     7197\n",
       "2     6855\n",
       "3     6746\n",
       "4     6589\n",
       "5     6548\n",
       "6     6126\n",
       "7     6086\n",
       "8     6005\n",
       "9     6002\n",
       "10    5894\n",
       "11    5843\n",
       "12    5775\n",
       "13    5664\n",
       "14    5628\n",
       "15    5563\n",
       "16    5537\n",
       "17    5496\n",
       "18    5366\n",
       "19    5357\n",
       "20    5287\n",
       "21    5214\n",
       "22    5159\n",
       "23    5157\n",
       "24    5115\n",
       "25    5058\n",
       "26    4970\n",
       "27    4956\n",
       "28    4895\n",
       "29    4859\n",
       "      ... \n",
       "70    4167\n",
       "71    4159\n",
       "72    4159\n",
       "73    4153\n",
       "74    4151\n",
       "75    4132\n",
       "76    4122\n",
       "77    4114\n",
       "78    4089\n",
       "79    4056\n",
       "80    4045\n",
       "81    4029\n",
       "82    4018\n",
       "83    4014\n",
       "84    3999\n",
       "85    3994\n",
       "86    3993\n",
       "87    3984\n",
       "88    3980\n",
       "89    3970\n",
       "90    3956\n",
       "91    3940\n",
       "92    3935\n",
       "93    3931\n",
       "94    3923\n",
       "95    3903\n",
       "96    3900\n",
       "97    3895\n",
       "98    3878\n",
       "99    3874\n",
       "Name: Punkte, Length: 100, dtype: int64"
      ]
     },
     "execution_count": 38,
     "metadata": {},
     "output_type": "execute_result"
    }
   ],
   "source": [
    "mach_was_mit_zahl(df['Punkte'])"
   ]
  },
  {
   "cell_type": "markdown",
   "metadata": {},
   "source": [
    "Wenn die Funktion `apply()` auf eine Serie angewendet wird, generiert sie - eine Serie. Wir können diese Serie als Spalte an die Tabelle anfügen.\n",
    "\n",
    "Zum Beispiel mit unserer Zahlen-Funktion:"
   ]
  },
  {
   "cell_type": "code",
   "execution_count": 39,
   "metadata": {},
   "outputs": [],
   "source": [
    "df['Punkte_Formatiert'] = df['Punkte'].apply(mach_was_mit_zahl)"
   ]
  },
  {
   "cell_type": "code",
   "execution_count": 40,
   "metadata": {},
   "outputs": [
    {
     "data": {
      "text/html": [
       "<div>\n",
       "<style scoped>\n",
       "    .dataframe tbody tr th:only-of-type {\n",
       "        vertical-align: middle;\n",
       "    }\n",
       "\n",
       "    .dataframe tbody tr th {\n",
       "        vertical-align: top;\n",
       "    }\n",
       "\n",
       "    .dataframe thead th {\n",
       "        text-align: right;\n",
       "    }\n",
       "</style>\n",
       "<table border=\"1\" class=\"dataframe\">\n",
       "  <thead>\n",
       "    <tr style=\"text-align: right;\">\n",
       "      <th></th>\n",
       "      <th>Rang</th>\n",
       "      <th>Artist</th>\n",
       "      <th>Titel</th>\n",
       "      <th>Eintritt</th>\n",
       "      <th>Wochen</th>\n",
       "      <th>Peak</th>\n",
       "      <th>Punkte</th>\n",
       "      <th>Link</th>\n",
       "      <th>Songtext</th>\n",
       "      <th>Punkte_Formatiert</th>\n",
       "    </tr>\n",
       "  </thead>\n",
       "  <tbody>\n",
       "    <tr>\n",
       "      <th>0</th>\n",
       "      <td>1</td>\n",
       "      <td>DJ Ötzi &amp; Nik P.</td>\n",
       "      <td>Ein Stern (... der deinen Namen trägt)</td>\n",
       "      <td>18.02.2007</td>\n",
       "      <td>118</td>\n",
       "      <td>2</td>\n",
       "      <td>8109</td>\n",
       "      <td>/song/DJ-Oetzi-&amp;-Nik-P./Ein-Stern-(...-der-dei...</td>\n",
       "      <td>Einen Stern, der deinen Namen trägt\\nHoch am H...</td>\n",
       "      <td>8110</td>\n",
       "    </tr>\n",
       "    <tr>\n",
       "      <th>1</th>\n",
       "      <td>2</td>\n",
       "      <td>Ed Sheeran</td>\n",
       "      <td>Shape Of You</td>\n",
       "      <td>15.01.2017</td>\n",
       "      <td>93</td>\n",
       "      <td>1</td>\n",
       "      <td>7196</td>\n",
       "      <td>/song/Ed-Sheeran/Shape-Of-You-1622943</td>\n",
       "      <td>The club isn't the best place to find a lover\\...</td>\n",
       "      <td>7197</td>\n",
       "    </tr>\n",
       "    <tr>\n",
       "      <th>2</th>\n",
       "      <td>3</td>\n",
       "      <td>Luis Fonsi feat. Daddy Yankee</td>\n",
       "      <td>Despacito</td>\n",
       "      <td>22.01.2017</td>\n",
       "      <td>90</td>\n",
       "      <td>1</td>\n",
       "      <td>6854</td>\n",
       "      <td>/song/Luis-Fonsi-feat.-Daddy-Yankee/Despacito-...</td>\n",
       "      <td>Ay\\nFonsi, DY\\nOh, oh no, oh no (ey)\\nHey, yea...</td>\n",
       "      <td>6855</td>\n",
       "    </tr>\n",
       "    <tr>\n",
       "      <th>3</th>\n",
       "      <td>4</td>\n",
       "      <td>DJ Antoine feat. The Beat Shakers</td>\n",
       "      <td>\"Ma chérie\"</td>\n",
       "      <td>06.06.2010</td>\n",
       "      <td>99</td>\n",
       "      <td>2</td>\n",
       "      <td>6745</td>\n",
       "      <td>/song/DJ-Antoine-feat.-The-Beat-Shakers/Ma-che...</td>\n",
       "      <td>When I look into your eyes\\nI see rainbows in ...</td>\n",
       "      <td>6746</td>\n",
       "    </tr>\n",
       "    <tr>\n",
       "      <th>4</th>\n",
       "      <td>5</td>\n",
       "      <td>Adele</td>\n",
       "      <td>Rolling In The Deep</td>\n",
       "      <td>30.01.2011</td>\n",
       "      <td>93</td>\n",
       "      <td>1</td>\n",
       "      <td>6588</td>\n",
       "      <td>/song/Adele/Rolling-In-The-Deep-767937</td>\n",
       "      <td>There's a fire starting in my heart\\nReaching ...</td>\n",
       "      <td>6589</td>\n",
       "    </tr>\n",
       "  </tbody>\n",
       "</table>\n",
       "</div>"
      ],
      "text/plain": [
       "   Rang                             Artist  \\\n",
       "0     1                   DJ Ötzi & Nik P.   \n",
       "1     2                         Ed Sheeran   \n",
       "2     3      Luis Fonsi feat. Daddy Yankee   \n",
       "3     4  DJ Antoine feat. The Beat Shakers   \n",
       "4     5                              Adele   \n",
       "\n",
       "                                    Titel    Eintritt  Wochen  Peak  Punkte  \\\n",
       "0  Ein Stern (... der deinen Namen trägt)  18.02.2007     118     2    8109   \n",
       "1                            Shape Of You  15.01.2017      93     1    7196   \n",
       "2                               Despacito  22.01.2017      90     1    6854   \n",
       "3                             \"Ma chérie\"  06.06.2010      99     2    6745   \n",
       "4                     Rolling In The Deep  30.01.2011      93     1    6588   \n",
       "\n",
       "                                                Link  \\\n",
       "0  /song/DJ-Oetzi-&-Nik-P./Ein-Stern-(...-der-dei...   \n",
       "1              /song/Ed-Sheeran/Shape-Of-You-1622943   \n",
       "2  /song/Luis-Fonsi-feat.-Daddy-Yankee/Despacito-...   \n",
       "3  /song/DJ-Antoine-feat.-The-Beat-Shakers/Ma-che...   \n",
       "4             /song/Adele/Rolling-In-The-Deep-767937   \n",
       "\n",
       "                                            Songtext  Punkte_Formatiert  \n",
       "0  Einen Stern, der deinen Namen trägt\\nHoch am H...               8110  \n",
       "1  The club isn't the best place to find a lover\\...               7197  \n",
       "2  Ay\\nFonsi, DY\\nOh, oh no, oh no (ey)\\nHey, yea...               6855  \n",
       "3  When I look into your eyes\\nI see rainbows in ...               6746  \n",
       "4  There's a fire starting in my heart\\nReaching ...               6589  "
      ]
     },
     "execution_count": 40,
     "metadata": {},
     "output_type": "execute_result"
    }
   ],
   "source": [
    "df.head()"
   ]
  },
  {
   "cell_type": "markdown",
   "metadata": {},
   "source": [
    "Oder mit der Wort-Funktion:"
   ]
  },
  {
   "cell_type": "code",
   "execution_count": 41,
   "metadata": {},
   "outputs": [],
   "source": [
    "#Testen Sie hier Ihre Wort-Funktion\n",
    "df['Anzahl Telefonbucheinträge'] = df['Artist'].apply(mach_was_mit_wort)"
   ]
  },
  {
   "cell_type": "code",
   "execution_count": 42,
   "metadata": {},
   "outputs": [
    {
     "data": {
      "text/html": [
       "<div>\n",
       "<style scoped>\n",
       "    .dataframe tbody tr th:only-of-type {\n",
       "        vertical-align: middle;\n",
       "    }\n",
       "\n",
       "    .dataframe tbody tr th {\n",
       "        vertical-align: top;\n",
       "    }\n",
       "\n",
       "    .dataframe thead th {\n",
       "        text-align: right;\n",
       "    }\n",
       "</style>\n",
       "<table border=\"1\" class=\"dataframe\">\n",
       "  <thead>\n",
       "    <tr style=\"text-align: right;\">\n",
       "      <th></th>\n",
       "      <th>Rang</th>\n",
       "      <th>Artist</th>\n",
       "      <th>Titel</th>\n",
       "      <th>Eintritt</th>\n",
       "      <th>Wochen</th>\n",
       "      <th>Peak</th>\n",
       "      <th>Punkte</th>\n",
       "      <th>Link</th>\n",
       "      <th>Songtext</th>\n",
       "      <th>Punkte_Formatiert</th>\n",
       "      <th>Anzahl Telefonbucheinträge</th>\n",
       "    </tr>\n",
       "  </thead>\n",
       "  <tbody>\n",
       "    <tr>\n",
       "      <th>87</th>\n",
       "      <td>88</td>\n",
       "      <td>Yves Larock</td>\n",
       "      <td>Rise Up</td>\n",
       "      <td>07.10.2007</td>\n",
       "      <td>88</td>\n",
       "      <td>16</td>\n",
       "      <td>3983</td>\n",
       "      <td>/song/Yves-Larock/Rise-Up-335302</td>\n",
       "      <td>Eh!\\n\\nRise up\\n\\nDon't you fall down again\\nR...</td>\n",
       "      <td>3984</td>\n",
       "      <td>Ich hasse Yves Larock</td>\n",
       "    </tr>\n",
       "    <tr>\n",
       "      <th>39</th>\n",
       "      <td>40</td>\n",
       "      <td>Wham!</td>\n",
       "      <td>Last Christmas</td>\n",
       "      <td>13.01.1985</td>\n",
       "      <td>78</td>\n",
       "      <td>4</td>\n",
       "      <td>4669</td>\n",
       "      <td>/song/Wham!/Last-Christmas-1203</td>\n",
       "      <td>Last Christmas I gave you my heart\\nBut the ve...</td>\n",
       "      <td>4670</td>\n",
       "      <td>Ich hasse Wham!</td>\n",
       "    </tr>\n",
       "    <tr>\n",
       "      <th>36</th>\n",
       "      <td>37</td>\n",
       "      <td>Unheilig</td>\n",
       "      <td>Geboren um zu leben</td>\n",
       "      <td>28.02.2010</td>\n",
       "      <td>84</td>\n",
       "      <td>13</td>\n",
       "      <td>4678</td>\n",
       "      <td>/song/Unheilig/Geboren-um-zu-leben-665166</td>\n",
       "      <td>Es fällt mir schwer\\nohne Dich zu leben\\nJeden...</td>\n",
       "      <td>4679</td>\n",
       "      <td>Ich hasse Unheilig</td>\n",
       "    </tr>\n",
       "    <tr>\n",
       "      <th>65</th>\n",
       "      <td>66</td>\n",
       "      <td>Tom Odell</td>\n",
       "      <td>Another Love</td>\n",
       "      <td>17.02.2013</td>\n",
       "      <td>85</td>\n",
       "      <td>23</td>\n",
       "      <td>4239</td>\n",
       "      <td>/song/Tom-Odell/Another-Love-1084143</td>\n",
       "      <td>I wanna take you somewhere so you know I care\\...</td>\n",
       "      <td>4240</td>\n",
       "      <td>Ich hasse Tom Odell</td>\n",
       "    </tr>\n",
       "    <tr>\n",
       "      <th>62</th>\n",
       "      <td>63</td>\n",
       "      <td>Tiziano Ferro</td>\n",
       "      <td>Xdono</td>\n",
       "      <td>30.09.2001</td>\n",
       "      <td>61</td>\n",
       "      <td>4</td>\n",
       "      <td>4290</td>\n",
       "      <td>/song/Tiziano-Ferro/Xdono-4883</td>\n",
       "      <td>NaN</td>\n",
       "      <td>4291</td>\n",
       "      <td>Ich hasse Tiziano Ferro</td>\n",
       "    </tr>\n",
       "    <tr>\n",
       "      <th>16</th>\n",
       "      <td>17</td>\n",
       "      <td>Timbaland Presents OneRepublic</td>\n",
       "      <td>Apologize</td>\n",
       "      <td>04.11.2007</td>\n",
       "      <td>89</td>\n",
       "      <td>1</td>\n",
       "      <td>5536</td>\n",
       "      <td>/song/Timbaland-Presents-OneRepublic/Apologize...</td>\n",
       "      <td>I'm holding on your rope\\nGot me ten feet off ...</td>\n",
       "      <td>5537</td>\n",
       "      <td>Ich hasse Timbaland Presents OneRepublic</td>\n",
       "    </tr>\n",
       "    <tr>\n",
       "      <th>7</th>\n",
       "      <td>8</td>\n",
       "      <td>The Black Eyed Peas</td>\n",
       "      <td>I Gotta Feeling</td>\n",
       "      <td>19.07.2009</td>\n",
       "      <td>87</td>\n",
       "      <td>1</td>\n",
       "      <td>6085</td>\n",
       "      <td>/song/The-Black-Eyed-Peas/I-Gotta-Feeling-584715</td>\n",
       "      <td>I gotta feeling\\nThat tonight's gonna be a goo...</td>\n",
       "      <td>6086</td>\n",
       "      <td>Ich hasse The Black Eyed Peas</td>\n",
       "    </tr>\n",
       "    <tr>\n",
       "      <th>66</th>\n",
       "      <td>67</td>\n",
       "      <td>Stromae</td>\n",
       "      <td>Papaoutai</td>\n",
       "      <td>23.06.2013</td>\n",
       "      <td>58</td>\n",
       "      <td>4</td>\n",
       "      <td>4218</td>\n",
       "      <td>/song/Stromae/Papaoutai-1142159</td>\n",
       "      <td>NaN</td>\n",
       "      <td>4219</td>\n",
       "      <td>Ich hasse Stromae</td>\n",
       "    </tr>\n",
       "    <tr>\n",
       "      <th>33</th>\n",
       "      <td>34</td>\n",
       "      <td>Stromae</td>\n",
       "      <td>Alors on danse</td>\n",
       "      <td>21.02.2010</td>\n",
       "      <td>69</td>\n",
       "      <td>1</td>\n",
       "      <td>4709</td>\n",
       "      <td>/song/Stromae/Alors-on-danse-604548</td>\n",
       "      <td>NaN</td>\n",
       "      <td>4710</td>\n",
       "      <td>Ich hasse Stromae</td>\n",
       "    </tr>\n",
       "    <tr>\n",
       "      <th>72</th>\n",
       "      <td>73</td>\n",
       "      <td>Snow Patrol</td>\n",
       "      <td>Chasing Cars</td>\n",
       "      <td>26.11.2006</td>\n",
       "      <td>106</td>\n",
       "      <td>4</td>\n",
       "      <td>4158</td>\n",
       "      <td>/song/Snow-Patrol/Chasing-Cars-207283</td>\n",
       "      <td>We'll do it all\\nEverything\\nOn our own\\nWe do...</td>\n",
       "      <td>4159</td>\n",
       "      <td>Ich hasse Snow Patrol</td>\n",
       "    </tr>\n",
       "  </tbody>\n",
       "</table>\n",
       "</div>"
      ],
      "text/plain": [
       "    Rang                          Artist                Titel    Eintritt  \\\n",
       "87    88                     Yves Larock              Rise Up  07.10.2007   \n",
       "39    40                           Wham!       Last Christmas  13.01.1985   \n",
       "36    37                        Unheilig  Geboren um zu leben  28.02.2010   \n",
       "65    66                       Tom Odell         Another Love  17.02.2013   \n",
       "62    63                   Tiziano Ferro                Xdono  30.09.2001   \n",
       "16    17  Timbaland Presents OneRepublic            Apologize  04.11.2007   \n",
       "7      8             The Black Eyed Peas      I Gotta Feeling  19.07.2009   \n",
       "66    67                         Stromae            Papaoutai  23.06.2013   \n",
       "33    34                         Stromae       Alors on danse  21.02.2010   \n",
       "72    73                     Snow Patrol         Chasing Cars  26.11.2006   \n",
       "\n",
       "    Wochen  Peak  Punkte                                               Link  \\\n",
       "87      88    16    3983                   /song/Yves-Larock/Rise-Up-335302   \n",
       "39      78     4    4669                    /song/Wham!/Last-Christmas-1203   \n",
       "36      84    13    4678          /song/Unheilig/Geboren-um-zu-leben-665166   \n",
       "65      85    23    4239               /song/Tom-Odell/Another-Love-1084143   \n",
       "62      61     4    4290                     /song/Tiziano-Ferro/Xdono-4883   \n",
       "16      89     1    5536  /song/Timbaland-Presents-OneRepublic/Apologize...   \n",
       "7       87     1    6085   /song/The-Black-Eyed-Peas/I-Gotta-Feeling-584715   \n",
       "66      58     4    4218                    /song/Stromae/Papaoutai-1142159   \n",
       "33      69     1    4709                /song/Stromae/Alors-on-danse-604548   \n",
       "72     106     4    4158              /song/Snow-Patrol/Chasing-Cars-207283   \n",
       "\n",
       "                                             Songtext  Punkte_Formatiert  \\\n",
       "87  Eh!\\n\\nRise up\\n\\nDon't you fall down again\\nR...               3984   \n",
       "39  Last Christmas I gave you my heart\\nBut the ve...               4670   \n",
       "36  Es fällt mir schwer\\nohne Dich zu leben\\nJeden...               4679   \n",
       "65  I wanna take you somewhere so you know I care\\...               4240   \n",
       "62                                                NaN               4291   \n",
       "16  I'm holding on your rope\\nGot me ten feet off ...               5537   \n",
       "7   I gotta feeling\\nThat tonight's gonna be a goo...               6086   \n",
       "66                                                NaN               4219   \n",
       "33                                                NaN               4710   \n",
       "72  We'll do it all\\nEverything\\nOn our own\\nWe do...               4159   \n",
       "\n",
       "                  Anzahl Telefonbucheinträge  \n",
       "87                     Ich hasse Yves Larock  \n",
       "39                           Ich hasse Wham!  \n",
       "36                        Ich hasse Unheilig  \n",
       "65                       Ich hasse Tom Odell  \n",
       "62                   Ich hasse Tiziano Ferro  \n",
       "16  Ich hasse Timbaland Presents OneRepublic  \n",
       "7              Ich hasse The Black Eyed Peas  \n",
       "66                         Ich hasse Stromae  \n",
       "33                         Ich hasse Stromae  \n",
       "72                     Ich hasse Snow Patrol  "
      ]
     },
     "execution_count": 42,
     "metadata": {},
     "output_type": "execute_result"
    }
   ],
   "source": [
    "df.sort_values('Anzahl Telefonbucheinträge', ascending=False).head(10)"
   ]
  },
  {
   "cell_type": "markdown",
   "metadata": {},
   "source": [
    "Oder mit der Text-Funktion:"
   ]
  },
  {
   "cell_type": "code",
   "execution_count": 43,
   "metadata": {},
   "outputs": [],
   "source": [
    "#Testen Sie hier Ihre Text-Funktion\n",
    "df['Textanalyse'] = df['Songtext'].astype(str).apply(mach_was_mit_text)"
   ]
  },
  {
   "cell_type": "code",
   "execution_count": 44,
   "metadata": {},
   "outputs": [
    {
     "data": {
      "text/html": [
       "<div>\n",
       "<style scoped>\n",
       "    .dataframe tbody tr th:only-of-type {\n",
       "        vertical-align: middle;\n",
       "    }\n",
       "\n",
       "    .dataframe tbody tr th {\n",
       "        vertical-align: top;\n",
       "    }\n",
       "\n",
       "    .dataframe thead th {\n",
       "        text-align: right;\n",
       "    }\n",
       "</style>\n",
       "<table border=\"1\" class=\"dataframe\">\n",
       "  <thead>\n",
       "    <tr style=\"text-align: right;\">\n",
       "      <th></th>\n",
       "      <th>Rang</th>\n",
       "      <th>Artist</th>\n",
       "      <th>Titel</th>\n",
       "      <th>Eintritt</th>\n",
       "      <th>Wochen</th>\n",
       "      <th>Peak</th>\n",
       "      <th>Punkte</th>\n",
       "      <th>Link</th>\n",
       "      <th>Songtext</th>\n",
       "      <th>Punkte_Formatiert</th>\n",
       "      <th>Anzahl Telefonbucheinträge</th>\n",
       "      <th>Textanalyse</th>\n",
       "    </tr>\n",
       "  </thead>\n",
       "  <tbody>\n",
       "    <tr>\n",
       "      <th>0</th>\n",
       "      <td>1</td>\n",
       "      <td>DJ Ötzi &amp; Nik P.</td>\n",
       "      <td>Ein Stern (... der deinen Namen trägt)</td>\n",
       "      <td>18.02.2007</td>\n",
       "      <td>118</td>\n",
       "      <td>2</td>\n",
       "      <td>8109</td>\n",
       "      <td>/song/DJ-Oetzi-&amp;-Nik-P./Ein-Stern-(...-der-dei...</td>\n",
       "      <td>Einen Stern, der deinen Namen trägt\\nHoch am H...</td>\n",
       "      <td>8110</td>\n",
       "      <td>Ich hasse DJ Ötzi &amp; Nik P.</td>\n",
       "      <td>Ellipsis</td>\n",
       "    </tr>\n",
       "    <tr>\n",
       "      <th>1</th>\n",
       "      <td>2</td>\n",
       "      <td>Ed Sheeran</td>\n",
       "      <td>Shape Of You</td>\n",
       "      <td>15.01.2017</td>\n",
       "      <td>93</td>\n",
       "      <td>1</td>\n",
       "      <td>7196</td>\n",
       "      <td>/song/Ed-Sheeran/Shape-Of-You-1622943</td>\n",
       "      <td>The club isn't the best place to find a lover\\...</td>\n",
       "      <td>7197</td>\n",
       "      <td>Ich hasse Ed Sheeran</td>\n",
       "      <td>Ellipsis</td>\n",
       "    </tr>\n",
       "    <tr>\n",
       "      <th>2</th>\n",
       "      <td>3</td>\n",
       "      <td>Luis Fonsi feat. Daddy Yankee</td>\n",
       "      <td>Despacito</td>\n",
       "      <td>22.01.2017</td>\n",
       "      <td>90</td>\n",
       "      <td>1</td>\n",
       "      <td>6854</td>\n",
       "      <td>/song/Luis-Fonsi-feat.-Daddy-Yankee/Despacito-...</td>\n",
       "      <td>Ay\\nFonsi, DY\\nOh, oh no, oh no (ey)\\nHey, yea...</td>\n",
       "      <td>6855</td>\n",
       "      <td>Ich hasse Luis Fonsi feat. Daddy Yankee</td>\n",
       "      <td>Ellipsis</td>\n",
       "    </tr>\n",
       "    <tr>\n",
       "      <th>3</th>\n",
       "      <td>4</td>\n",
       "      <td>DJ Antoine feat. The Beat Shakers</td>\n",
       "      <td>\"Ma chérie\"</td>\n",
       "      <td>06.06.2010</td>\n",
       "      <td>99</td>\n",
       "      <td>2</td>\n",
       "      <td>6745</td>\n",
       "      <td>/song/DJ-Antoine-feat.-The-Beat-Shakers/Ma-che...</td>\n",
       "      <td>When I look into your eyes\\nI see rainbows in ...</td>\n",
       "      <td>6746</td>\n",
       "      <td>Ich hasse DJ Antoine feat. The Beat Shakers</td>\n",
       "      <td>Ellipsis</td>\n",
       "    </tr>\n",
       "    <tr>\n",
       "      <th>4</th>\n",
       "      <td>5</td>\n",
       "      <td>Adele</td>\n",
       "      <td>Rolling In The Deep</td>\n",
       "      <td>30.01.2011</td>\n",
       "      <td>93</td>\n",
       "      <td>1</td>\n",
       "      <td>6588</td>\n",
       "      <td>/song/Adele/Rolling-In-The-Deep-767937</td>\n",
       "      <td>There's a fire starting in my heart\\nReaching ...</td>\n",
       "      <td>6589</td>\n",
       "      <td>Ich hasse Adele</td>\n",
       "      <td>Ellipsis</td>\n",
       "    </tr>\n",
       "  </tbody>\n",
       "</table>\n",
       "</div>"
      ],
      "text/plain": [
       "   Rang                             Artist  \\\n",
       "0     1                   DJ Ötzi & Nik P.   \n",
       "1     2                         Ed Sheeran   \n",
       "2     3      Luis Fonsi feat. Daddy Yankee   \n",
       "3     4  DJ Antoine feat. The Beat Shakers   \n",
       "4     5                              Adele   \n",
       "\n",
       "                                    Titel    Eintritt  Wochen  Peak  Punkte  \\\n",
       "0  Ein Stern (... der deinen Namen trägt)  18.02.2007     118     2    8109   \n",
       "1                            Shape Of You  15.01.2017      93     1    7196   \n",
       "2                               Despacito  22.01.2017      90     1    6854   \n",
       "3                             \"Ma chérie\"  06.06.2010      99     2    6745   \n",
       "4                     Rolling In The Deep  30.01.2011      93     1    6588   \n",
       "\n",
       "                                                Link  \\\n",
       "0  /song/DJ-Oetzi-&-Nik-P./Ein-Stern-(...-der-dei...   \n",
       "1              /song/Ed-Sheeran/Shape-Of-You-1622943   \n",
       "2  /song/Luis-Fonsi-feat.-Daddy-Yankee/Despacito-...   \n",
       "3  /song/DJ-Antoine-feat.-The-Beat-Shakers/Ma-che...   \n",
       "4             /song/Adele/Rolling-In-The-Deep-767937   \n",
       "\n",
       "                                            Songtext  Punkte_Formatiert  \\\n",
       "0  Einen Stern, der deinen Namen trägt\\nHoch am H...               8110   \n",
       "1  The club isn't the best place to find a lover\\...               7197   \n",
       "2  Ay\\nFonsi, DY\\nOh, oh no, oh no (ey)\\nHey, yea...               6855   \n",
       "3  When I look into your eyes\\nI see rainbows in ...               6746   \n",
       "4  There's a fire starting in my heart\\nReaching ...               6589   \n",
       "\n",
       "                    Anzahl Telefonbucheinträge Textanalyse  \n",
       "0                   Ich hasse DJ Ötzi & Nik P.    Ellipsis  \n",
       "1                         Ich hasse Ed Sheeran    Ellipsis  \n",
       "2      Ich hasse Luis Fonsi feat. Daddy Yankee    Ellipsis  \n",
       "3  Ich hasse DJ Antoine feat. The Beat Shakers    Ellipsis  \n",
       "4                              Ich hasse Adele    Ellipsis  "
      ]
     },
     "execution_count": 44,
     "metadata": {},
     "output_type": "execute_result"
    }
   ],
   "source": [
    "df.head()"
   ]
  },
  {
   "cell_type": "code",
   "execution_count": null,
   "metadata": {},
   "outputs": [],
   "source": []
  },
  {
   "cell_type": "code",
   "execution_count": null,
   "metadata": {},
   "outputs": [],
   "source": []
  },
  {
   "cell_type": "code",
   "execution_count": null,
   "metadata": {},
   "outputs": [],
   "source": []
  },
  {
   "cell_type": "markdown",
   "metadata": {},
   "source": [
    "### Apply mit ganzen Zeilen"
   ]
  },
  {
   "cell_type": "markdown",
   "metadata": {},
   "source": [
    "Apply funktioniert nicht nur mit einzelnen Spalten und deren Einträgen, sondern auch mit mehreren Spalten und deren Einträgen auf einmal."
   ]
  },
  {
   "cell_type": "code",
   "execution_count": 45,
   "metadata": {},
   "outputs": [],
   "source": [
    "# Brauchen wir, damit es den Inhalt der Einträge vollständig anzeigt...\n",
    "pd.set_option(\"display.max_colwidth\", 200)"
   ]
  },
  {
   "cell_type": "code",
   "execution_count": 46,
   "metadata": {},
   "outputs": [
    {
     "data": {
      "text/plain": [
       "0                     Der Song Ein Stern (... der deinen Namen trägt) von DJ Ötzi & Nik P. war 118 Wochen in den Charts.\n",
       "1                                                      Der Song Shape Of You von Ed Sheeran war 93 Wochen in den Charts.\n",
       "2                                      Der Song Despacito von Luis Fonsi feat. Daddy Yankee war 90 Wochen in den Charts.\n",
       "3                                Der Song \"Ma chérie\" von DJ Antoine feat. The Beat Shakers war 99 Wochen in den Charts.\n",
       "4                                                    Der Song Rolling In The Deep von Adele war 93 Wochen in den Charts.\n",
       "5                                                        Der Song All Of Me von John Legend war 97 Wochen in den Charts.\n",
       "6                                               Der Song This Is The Life von Amy Macdonald war 94 Wochen in den Charts.\n",
       "7                                          Der Song I Gotta Feeling von The Black Eyed Peas war 87 Wochen in den Charts.\n",
       "8                 Der Song Waka Waka (This Time For Africa) von Shakira feat. Freshlyground war 86 Wochen in den Charts.\n",
       "9                                              Der Song Infinity 2008 von Guru Josh Project war 85 Wochen in den Charts.\n",
       "10                                                   Der Song Sonnentanz von Klangkarussell war 87 Wochen in den Charts.\n",
       "11                                      Der Song Atemlos durch die Nacht von Helene Fischer war 80 Wochen in den Charts.\n",
       "12                                                          Der Song Heavy Cross von Gossip war 80 Wochen in den Charts.\n",
       "13                                                     Der Song Happy von Pharrell Williams war 80 Wochen in den Charts.\n",
       "14                                                      Der Song Someone Like You von Adele war 95 Wochen in den Charts.\n",
       "15                                                        Der Song Poker Face von Lady Gaga war 72 Wochen in den Charts.\n",
       "16                                    Der Song Apologize von Timbaland Presents OneRepublic war 89 Wochen in den Charts.\n",
       "17                                                           Der Song Faded von Alan Walker war 86 Wochen in den Charts.\n",
       "18                                                        Der Song Let Her Go von Passenger war 88 Wochen in den Charts.\n",
       "19                                                        Der Song Bring en hei von Baschi war 100 Wochen in den Charts.\n",
       "20                                          Der Song Sexy Bitch von David Guetta feat. Akon war 77 Wochen in den Charts.\n",
       "21                                                         Der Song Rehab von Amy Winehouse war 88 Wochen in den Charts.\n",
       "22                                     Der Song Lean On von Major Lazer & DJ Snake feat. MØ war 65 Wochen in den Charts.\n",
       "23    Der Song Prayer In C (Robin Schulz Remix) von Lilly Wood & The Prick and Robin Schulz war 68 Wochen in den Charts.\n",
       "24                                                          Der Song Perfect von Ed Sheeran war 57 Wochen in den Charts.\n",
       "25                                                Der Song You're Beautiful von James Blunt war 97 Wochen in den Charts.\n",
       "26                                                   Der Song Relax (Take It Easy) von Mika war 75 Wochen in den Charts.\n",
       "27                                              Der Song Up In The Sky von 77 Bombay Street war 82 Wochen in den Charts.\n",
       "28                                                          Der Song Wake Me Up! von Avicii war 68 Wochen in den Charts.\n",
       "29                                                    Der Song Take Me To Church von Hozier war 68 Wochen in den Charts.\n",
       "                                                             ...                                                        \n",
       "70                                                    Der Song Believer von Imagine Dragons war 67 Wochen in den Charts.\n",
       "71                                                   Der Song Stolen Dance von Milky Chance war 60 Wochen in den Charts.\n",
       "72                                                   Der Song Chasing Cars von Snow Patrol war 106 Wochen in den Charts.\n",
       "73                                                  Der Song Set Fire To The Rain von Adele war 57 Wochen in den Charts.\n",
       "74                                            Der Song Are You With Me von Lost Frequencies war 56 Wochen in den Charts.\n",
       "75                                              Der Song Somebody Dance With Me von DJ BoBo war 48 Wochen in den Charts.\n",
       "76                                                    Der Song I Follow Rivers von Lykke Li war 61 Wochen in den Charts.\n",
       "77                                                             Der Song Run von Leona Lewis war 72 Wochen in den Charts.\n",
       "78                   Der Song Welcome To St. Tropez von DJ Antoine vs. Timati feat. Kalenna war 53 Wochen in den Charts.\n",
       "79                                Der Song Love Is Gone von David Guetta feat. Chris Willis war 75 Wochen in den Charts.\n",
       "80                                 Der Song Get Lucky von Daft Punk feat. Pharrell Williams war 56 Wochen in den Charts.\n",
       "81                                      Der Song Stole The Show von Kygo feat. Parson James war 56 Wochen in den Charts.\n",
       "82                                                Der Song Mr Rock & Roll von Amy Macdonald war 65 Wochen in den Charts.\n",
       "83                                    Der Song Sugar von Robin Schulz feat. Francesco Yates war 51 Wochen in den Charts.\n",
       "84                                             Der Song My Heart Will Go On von Céline Dion war 49 Wochen in den Charts.\n",
       "85                                                     Der Song Thunder von Imagine Dragons war 54 Wochen in den Charts.\n",
       "86                     Der Song Party Rock Anthem von LMFAO feat. Lauren Bennett & GoonRock war 54 Wochen in den Charts.\n",
       "87                                                         Der Song Rise Up von Yves Larock war 88 Wochen in den Charts.\n",
       "88                                                          Der Song Sofia von Alvaro Soler war 71 Wochen in den Charts.\n",
       "89                             Der Song Somebody That I Used To Know von Gotye feat. Kimbra war 58 Wochen in den Charts.\n",
       "90                                      Der Song Havana von Camila Cabello feat. Young Thug war 58 Wochen in den Charts.\n",
       "91                                              Der Song Tage wie diese von Die Toten Hosen war 62 Wochen in den Charts.\n",
       "92                              Der Song All Good Things (Come To An End) von Nelly Furtado war 62 Wochen in den Charts.\n",
       "93                                         Der Song One Dance von Drake feat. Wizkid & Kyla war 51 Wochen in den Charts.\n",
       "94                                                       Der Song Hot N Cold von Katy Perry war 62 Wochen in den Charts.\n",
       "95                                                      Der Song Maneater von Nelly Furtado war 63 Wochen in den Charts.\n",
       "96                                   Der Song On The Floor von Jennifer Lopez feat. Pitbull war 51 Wochen in den Charts.\n",
       "97                                    Der Song Hips Don't Lie von Shakira feat. Wyclef Jean war 65 Wochen in den Charts.\n",
       "98                                   Der Song Can't Stop The Feeling! von Justin Timberlake war 62 Wochen in den Charts.\n",
       "99                                            Der Song Right Round von Flo Rida feat. Ke$ha war 59 Wochen in den Charts.\n",
       "Length: 100, dtype: object"
      ]
     },
     "execution_count": 46,
     "metadata": {},
     "output_type": "execute_result"
    }
   ],
   "source": [
    "df.apply(mach_was_mit_dictionary, axis=1)"
   ]
  },
  {
   "cell_type": "markdown",
   "metadata": {},
   "source": [
    "Warum funktioniert das?\n",
    "- Checken wir nochmal den Dictionary, mit dem wir vorher unsere Funktion getestet haben"
   ]
  },
  {
   "cell_type": "code",
   "execution_count": 47,
   "metadata": {},
   "outputs": [
    {
     "data": {
      "text/plain": [
       "{'Rang': 20,\n",
       " 'Artist': 'Baschi',\n",
       " 'Titel': 'Bring en hei',\n",
       " 'Eintritt': '28.05.2006',\n",
       " 'Wochen': 100,\n",
       " 'Peak': 1,\n",
       " 'Punkte': 5356,\n",
       " 'Link': '/song/Baschi/Bring-en-hei-193080'}"
      ]
     },
     "execution_count": 47,
     "metadata": {},
     "output_type": "execute_result"
    }
   ],
   "source": [
    "my_dictionary"
   ]
  },
  {
   "cell_type": "markdown",
   "metadata": {},
   "source": [
    "- und nun: eine beliebige Zeile (sagen wir, Nr. 19) aus dem Dataframe:"
   ]
  },
  {
   "cell_type": "code",
   "execution_count": 48,
   "metadata": {},
   "outputs": [
    {
     "data": {
      "text/plain": [
       "Rang                                                                                                                                                                                                                               20\n",
       "Artist                                                                                                                                                                                                                         Baschi\n",
       "Titel                                                                                                                                                                                                                    Bring en hei\n",
       "Eintritt                                                                                                                                                                                                                   28.05.2006\n",
       "Wochen                                                                                                                                                                                                                            100\n",
       "Peak                                                                                                                                                                                                                                1\n",
       "Punkte                                                                                                                                                                                                                           5356\n",
       "Link                                                                                                                                                                                                 /song/Baschi/Bring-en-hei-193080\n",
       "Songtext                      Chum bring en hei, chum bring en\\nChum bring en hei, chum bring en\\nChum bring en hei, zu mir...\\n(1, 2, 3, 4, 5, 6, 7, 11)\\nS'ganze Lebe nume für 90 Minute\\nEs wartet alles nur uf di\\nDas isch mi...\n",
       "Punkte_Formatiert                                                                                                                                                                                                                5357\n",
       "Anzahl Telefonbucheinträge                                                                                                                                                                                           Ich hasse Baschi\n",
       "Textanalyse                                                                                                                                                                                                                  Ellipsis\n",
       "Name: 19, dtype: object"
      ]
     },
     "execution_count": 48,
     "metadata": {},
     "output_type": "execute_result"
    }
   ],
   "source": [
    "df.loc[19]"
   ]
  },
  {
   "cell_type": "markdown",
   "metadata": {},
   "source": [
    "=> Die Sache klappt, weil die Keys im Test-Dictionary denselben Namen haben wie die Spalten in unserem Dataframe"
   ]
  },
  {
   "cell_type": "markdown",
   "metadata": {},
   "source": [
    "### Warum apply()??"
   ]
  },
  {
   "cell_type": "markdown",
   "metadata": {},
   "source": [
    "Einen Grund haben wir soeben gesehen: Man kann mehrere Spalten auf einmal verarbeiten."
   ]
  },
  {
   "cell_type": "markdown",
   "metadata": {},
   "source": [
    "Ein anderer Grund ist: Mann kann beliebig komplizierte Prozeduren implementieren, um eine neue Spalte zu generieren.\n",
    "\n",
    "Zum Beispiel können wir unsere eigenen Coolness_Punkte als Alternative zum Punktesystem der Hitparade testen."
   ]
  },
  {
   "cell_type": "code",
   "execution_count": 49,
   "metadata": {},
   "outputs": [],
   "source": [
    "def coolness_punkte(row):\n",
    "    if row['Artist'] == 'DJ BoBo':\n",
    "        score = 0\n",
    "    else:\n",
    "        score = row['Peak'] * row['Wochen'] * 52\n",
    "    return score"
   ]
  },
  {
   "cell_type": "code",
   "execution_count": 50,
   "metadata": {},
   "outputs": [],
   "source": [
    "df['Coolness_Punkte'] = df.apply(coolness_punkte, axis=1)"
   ]
  },
  {
   "cell_type": "code",
   "execution_count": 51,
   "metadata": {},
   "outputs": [
    {
     "data": {
      "text/html": [
       "<div>\n",
       "<style scoped>\n",
       "    .dataframe tbody tr th:only-of-type {\n",
       "        vertical-align: middle;\n",
       "    }\n",
       "\n",
       "    .dataframe tbody tr th {\n",
       "        vertical-align: top;\n",
       "    }\n",
       "\n",
       "    .dataframe thead th {\n",
       "        text-align: right;\n",
       "    }\n",
       "</style>\n",
       "<table border=\"1\" class=\"dataframe\">\n",
       "  <thead>\n",
       "    <tr style=\"text-align: right;\">\n",
       "      <th></th>\n",
       "      <th>Rang</th>\n",
       "      <th>Artist</th>\n",
       "      <th>Titel</th>\n",
       "      <th>Eintritt</th>\n",
       "      <th>Wochen</th>\n",
       "      <th>Peak</th>\n",
       "      <th>Punkte</th>\n",
       "      <th>Link</th>\n",
       "      <th>Songtext</th>\n",
       "      <th>Punkte_Formatiert</th>\n",
       "      <th>Anzahl Telefonbucheinträge</th>\n",
       "      <th>Textanalyse</th>\n",
       "      <th>Coolness_Punkte</th>\n",
       "    </tr>\n",
       "  </thead>\n",
       "  <tbody>\n",
       "    <tr>\n",
       "      <th>75</th>\n",
       "      <td>76</td>\n",
       "      <td>DJ BoBo</td>\n",
       "      <td>Somebody Dance With Me</td>\n",
       "      <td>10.01.1993</td>\n",
       "      <td>48</td>\n",
       "      <td>1</td>\n",
       "      <td>4131</td>\n",
       "      <td>/song/DJ-BoBo/Somebody-Dance-With-Me-2561</td>\n",
       "      <td>I'm back again on a higher stage\\nListen to the party beat and get in range\\n'Cause you know when I flow and I show you so\\nWhich way is better which way you got to go\\nTo make a fun house party a...</td>\n",
       "      <td>4132</td>\n",
       "      <td>Ich hasse DJ BoBo</td>\n",
       "      <td>Ellipsis</td>\n",
       "      <td>0</td>\n",
       "    </tr>\n",
       "  </tbody>\n",
       "</table>\n",
       "</div>"
      ],
      "text/plain": [
       "    Rang   Artist                   Titel    Eintritt  Wochen  Peak  Punkte  \\\n",
       "75    76  DJ BoBo  Somebody Dance With Me  10.01.1993      48     1    4131   \n",
       "\n",
       "                                         Link  \\\n",
       "75  /song/DJ-BoBo/Somebody-Dance-With-Me-2561   \n",
       "\n",
       "                                                                                                                                                                                                   Songtext  \\\n",
       "75  I'm back again on a higher stage\\nListen to the party beat and get in range\\n'Cause you know when I flow and I show you so\\nWhich way is better which way you got to go\\nTo make a fun house party a...   \n",
       "\n",
       "    Punkte_Formatiert Anzahl Telefonbucheinträge Textanalyse  Coolness_Punkte  \n",
       "75               4132          Ich hasse DJ BoBo    Ellipsis                0  "
      ]
     },
     "execution_count": 51,
     "metadata": {},
     "output_type": "execute_result"
    }
   ],
   "source": [
    "df[df['Artist'] == 'DJ BoBo']"
   ]
  },
  {
   "cell_type": "code",
   "execution_count": 52,
   "metadata": {},
   "outputs": [
    {
     "data": {
      "text/html": [
       "<div>\n",
       "<style scoped>\n",
       "    .dataframe tbody tr th:only-of-type {\n",
       "        vertical-align: middle;\n",
       "    }\n",
       "\n",
       "    .dataframe tbody tr th {\n",
       "        vertical-align: top;\n",
       "    }\n",
       "\n",
       "    .dataframe thead th {\n",
       "        text-align: right;\n",
       "    }\n",
       "</style>\n",
       "<table border=\"1\" class=\"dataframe\">\n",
       "  <thead>\n",
       "    <tr style=\"text-align: right;\">\n",
       "      <th></th>\n",
       "      <th>Rang</th>\n",
       "      <th>Artist</th>\n",
       "      <th>Titel</th>\n",
       "      <th>Eintritt</th>\n",
       "      <th>Wochen</th>\n",
       "      <th>Peak</th>\n",
       "      <th>Punkte</th>\n",
       "      <th>Link</th>\n",
       "      <th>Songtext</th>\n",
       "      <th>Punkte_Formatiert</th>\n",
       "      <th>Anzahl Telefonbucheinträge</th>\n",
       "      <th>Textanalyse</th>\n",
       "      <th>Coolness_Punkte</th>\n",
       "    </tr>\n",
       "  </thead>\n",
       "  <tbody>\n",
       "    <tr>\n",
       "      <th>0</th>\n",
       "      <td>1</td>\n",
       "      <td>DJ Ötzi &amp; Nik P.</td>\n",
       "      <td>Ein Stern (... der deinen Namen trägt)</td>\n",
       "      <td>18.02.2007</td>\n",
       "      <td>118</td>\n",
       "      <td>2</td>\n",
       "      <td>8109</td>\n",
       "      <td>/song/DJ-Oetzi-&amp;-Nik-P./Ein-Stern-(...-der-deinen-Namen-traegt)-283118</td>\n",
       "      <td>Einen Stern, der deinen Namen trägt\\nHoch am Himmelszelt\\nDen schenk ich Dir heut' Nacht\\nEinen Stern, der deinen Namen trägt\\nAlle Zeiten überlebt\\nUnd über unsere Liebe wacht\\n\\nSeit Jahren scho...</td>\n",
       "      <td>8110</td>\n",
       "      <td>Ich hasse DJ Ötzi &amp; Nik P.</td>\n",
       "      <td>Ellipsis</td>\n",
       "      <td>12272</td>\n",
       "    </tr>\n",
       "    <tr>\n",
       "      <th>1</th>\n",
       "      <td>2</td>\n",
       "      <td>Ed Sheeran</td>\n",
       "      <td>Shape Of You</td>\n",
       "      <td>15.01.2017</td>\n",
       "      <td>93</td>\n",
       "      <td>1</td>\n",
       "      <td>7196</td>\n",
       "      <td>/song/Ed-Sheeran/Shape-Of-You-1622943</td>\n",
       "      <td>The club isn't the best place to find a lover\\nSo the bar is where I go\\nMe and my friends at the table doing shots\\nDrinking fast and then we talk slow\\n\\nCome over and start up a conversation wi...</td>\n",
       "      <td>7197</td>\n",
       "      <td>Ich hasse Ed Sheeran</td>\n",
       "      <td>Ellipsis</td>\n",
       "      <td>4836</td>\n",
       "    </tr>\n",
       "    <tr>\n",
       "      <th>2</th>\n",
       "      <td>3</td>\n",
       "      <td>Luis Fonsi feat. Daddy Yankee</td>\n",
       "      <td>Despacito</td>\n",
       "      <td>22.01.2017</td>\n",
       "      <td>90</td>\n",
       "      <td>1</td>\n",
       "      <td>6854</td>\n",
       "      <td>/song/Luis-Fonsi-feat.-Daddy-Yankee/Despacito-1625640</td>\n",
       "      <td>Ay\\nFonsi, DY\\nOh, oh no, oh no (ey)\\nHey, yeah, diri-diri-diriridi, Daddy, go!\\n\\nSí, sabes que ya llevo un rato mirándote\\nTengo que bailar contigo hoy (DY)\\nVi que tu mirada ya estaba llamándom...</td>\n",
       "      <td>6855</td>\n",
       "      <td>Ich hasse Luis Fonsi feat. Daddy Yankee</td>\n",
       "      <td>Ellipsis</td>\n",
       "      <td>4680</td>\n",
       "    </tr>\n",
       "    <tr>\n",
       "      <th>3</th>\n",
       "      <td>4</td>\n",
       "      <td>DJ Antoine feat. The Beat Shakers</td>\n",
       "      <td>\"Ma chérie\"</td>\n",
       "      <td>06.06.2010</td>\n",
       "      <td>99</td>\n",
       "      <td>2</td>\n",
       "      <td>6745</td>\n",
       "      <td>/song/DJ-Antoine-feat.-The-Beat-Shakers/Ma-cherie-711060</td>\n",
       "      <td>When I look into your eyes\\nI see rainbows in the skies.\\nBaby when you're close to me\\nI know you are ma cherie.\\n\\nWe are gonna dance into the sea\\nAll I want is you - you're ma cherie\\nNever se...</td>\n",
       "      <td>6746</td>\n",
       "      <td>Ich hasse DJ Antoine feat. The Beat Shakers</td>\n",
       "      <td>Ellipsis</td>\n",
       "      <td>10296</td>\n",
       "    </tr>\n",
       "    <tr>\n",
       "      <th>4</th>\n",
       "      <td>5</td>\n",
       "      <td>Adele</td>\n",
       "      <td>Rolling In The Deep</td>\n",
       "      <td>30.01.2011</td>\n",
       "      <td>93</td>\n",
       "      <td>1</td>\n",
       "      <td>6588</td>\n",
       "      <td>/song/Adele/Rolling-In-The-Deep-767937</td>\n",
       "      <td>There's a fire starting in my heart\\nReaching a fever pitch and it's bring me out the dark\\nFinally, I can see you crystal clear\\nGo ahead and sell me out and I'll lay your ship bare\\n\\nSee how I'...</td>\n",
       "      <td>6589</td>\n",
       "      <td>Ich hasse Adele</td>\n",
       "      <td>Ellipsis</td>\n",
       "      <td>4836</td>\n",
       "    </tr>\n",
       "  </tbody>\n",
       "</table>\n",
       "</div>"
      ],
      "text/plain": [
       "   Rang                             Artist  \\\n",
       "0     1                   DJ Ötzi & Nik P.   \n",
       "1     2                         Ed Sheeran   \n",
       "2     3      Luis Fonsi feat. Daddy Yankee   \n",
       "3     4  DJ Antoine feat. The Beat Shakers   \n",
       "4     5                              Adele   \n",
       "\n",
       "                                    Titel    Eintritt  Wochen  Peak  Punkte  \\\n",
       "0  Ein Stern (... der deinen Namen trägt)  18.02.2007     118     2    8109   \n",
       "1                            Shape Of You  15.01.2017      93     1    7196   \n",
       "2                               Despacito  22.01.2017      90     1    6854   \n",
       "3                             \"Ma chérie\"  06.06.2010      99     2    6745   \n",
       "4                     Rolling In The Deep  30.01.2011      93     1    6588   \n",
       "\n",
       "                                                                     Link  \\\n",
       "0  /song/DJ-Oetzi-&-Nik-P./Ein-Stern-(...-der-deinen-Namen-traegt)-283118   \n",
       "1                                   /song/Ed-Sheeran/Shape-Of-You-1622943   \n",
       "2                   /song/Luis-Fonsi-feat.-Daddy-Yankee/Despacito-1625640   \n",
       "3                /song/DJ-Antoine-feat.-The-Beat-Shakers/Ma-cherie-711060   \n",
       "4                                  /song/Adele/Rolling-In-The-Deep-767937   \n",
       "\n",
       "                                                                                                                                                                                                  Songtext  \\\n",
       "0  Einen Stern, der deinen Namen trägt\\nHoch am Himmelszelt\\nDen schenk ich Dir heut' Nacht\\nEinen Stern, der deinen Namen trägt\\nAlle Zeiten überlebt\\nUnd über unsere Liebe wacht\\n\\nSeit Jahren scho...   \n",
       "1  The club isn't the best place to find a lover\\nSo the bar is where I go\\nMe and my friends at the table doing shots\\nDrinking fast and then we talk slow\\n\\nCome over and start up a conversation wi...   \n",
       "2  Ay\\nFonsi, DY\\nOh, oh no, oh no (ey)\\nHey, yeah, diri-diri-diriridi, Daddy, go!\\n\\nSí, sabes que ya llevo un rato mirándote\\nTengo que bailar contigo hoy (DY)\\nVi que tu mirada ya estaba llamándom...   \n",
       "3  When I look into your eyes\\nI see rainbows in the skies.\\nBaby when you're close to me\\nI know you are ma cherie.\\n\\nWe are gonna dance into the sea\\nAll I want is you - you're ma cherie\\nNever se...   \n",
       "4  There's a fire starting in my heart\\nReaching a fever pitch and it's bring me out the dark\\nFinally, I can see you crystal clear\\nGo ahead and sell me out and I'll lay your ship bare\\n\\nSee how I'...   \n",
       "\n",
       "   Punkte_Formatiert                   Anzahl Telefonbucheinträge Textanalyse  \\\n",
       "0               8110                   Ich hasse DJ Ötzi & Nik P.    Ellipsis   \n",
       "1               7197                         Ich hasse Ed Sheeran    Ellipsis   \n",
       "2               6855      Ich hasse Luis Fonsi feat. Daddy Yankee    Ellipsis   \n",
       "3               6746  Ich hasse DJ Antoine feat. The Beat Shakers    Ellipsis   \n",
       "4               6589                              Ich hasse Adele    Ellipsis   \n",
       "\n",
       "   Coolness_Punkte  \n",
       "0            12272  \n",
       "1             4836  \n",
       "2             4680  \n",
       "3            10296  \n",
       "4             4836  "
      ]
     },
     "execution_count": 52,
     "metadata": {},
     "output_type": "execute_result"
    }
   ],
   "source": [
    "df.head(5)"
   ]
  },
  {
   "cell_type": "code",
   "execution_count": null,
   "metadata": {},
   "outputs": [],
   "source": []
  },
  {
   "cell_type": "code",
   "execution_count": null,
   "metadata": {},
   "outputs": [],
   "source": []
  },
  {
   "cell_type": "markdown",
   "metadata": {},
   "source": [
    "## Funktionen ausführen 3: Lambda"
   ]
  },
  {
   "cell_type": "markdown",
   "metadata": {},
   "source": [
    "Nehmen wir an, wir haben eine Funktion von jemandem erhalten, die wir gerne benutzen würden."
   ]
  },
  {
   "cell_type": "markdown",
   "metadata": {},
   "source": [
    "Sie nimmt zwei Zahlen als Inputs und gibt die grössere davon zurück."
   ]
  },
  {
   "cell_type": "code",
   "execution_count": 53,
   "metadata": {},
   "outputs": [],
   "source": [
    "def groessere_zahl(zahl1, zahl2):\n",
    "    if zahl1 < zahl2:\n",
    "        return zahl2\n",
    "    else:\n",
    "        return zahl1"
   ]
  },
  {
   "cell_type": "code",
   "execution_count": 54,
   "metadata": {},
   "outputs": [
    {
     "data": {
      "text/plain": [
       "5"
      ]
     },
     "execution_count": 54,
     "metadata": {},
     "output_type": "execute_result"
    }
   ],
   "source": [
    "groessere_zahl(4, 5)"
   ]
  },
  {
   "cell_type": "markdown",
   "metadata": {},
   "source": [
    "Was tun, wenn wir diese Funktion innerhalb vom einem Dataframe benutzen wollen?\n",
    "\n",
    "Zum Beispiel, um die zwei Spalten \"Punkte\" und \"Coolness_Punkte\" in unseren Single-Charts zu vergleichen?"
   ]
  },
  {
   "cell_type": "markdown",
   "metadata": {},
   "source": [
    "Eine Option wäre: Eine Hilfsfunktion zu schreiben, die eine Zeile im Dataframe als Input nimmt, und diese mit `apply()` aufzurufen:"
   ]
  },
  {
   "cell_type": "code",
   "execution_count": 55,
   "metadata": {},
   "outputs": [],
   "source": [
    "def hilfsfunktion(row):\n",
    "    return groessere_zahl(row['Punkte'], row['Coolness_Punkte'])    "
   ]
  },
  {
   "cell_type": "code",
   "execution_count": 56,
   "metadata": {},
   "outputs": [
    {
     "data": {
      "text/plain": [
       "0     12272\n",
       "1      7196\n",
       "2      6854\n",
       "3     10296\n",
       "4      6588\n",
       "5      6547\n",
       "6      9776\n",
       "7      6085\n",
       "8      6004\n",
       "9      8840\n",
       "10    13572\n",
       "11     8320\n",
       "12     8320\n",
       "13     5663\n",
       "14     5627\n",
       "15     5562\n",
       "16     5536\n",
       "17     5495\n",
       "18     5365\n",
       "19     5356\n",
       "20     8008\n",
       "21    50336\n",
       "22     5158\n",
       "23     5156\n",
       "24     5114\n",
       "25    10088\n",
       "26     7800\n",
       "27    29848\n",
       "28     4894\n",
       "29     4858\n",
       "      ...  \n",
       "70    20904\n",
       "71     4158\n",
       "72    22048\n",
       "73    11856\n",
       "74     4150\n",
       "75     4131\n",
       "76     6344\n",
       "77     7488\n",
       "78     5512\n",
       "79    42900\n",
       "80     4044\n",
       "81     8736\n",
       "82    10140\n",
       "83     4013\n",
       "84     3998\n",
       "85     5616\n",
       "86     3992\n",
       "87    73216\n",
       "88     3979\n",
       "89     6032\n",
       "90     6032\n",
       "91    12896\n",
       "92     3934\n",
       "93     3930\n",
       "94     3922\n",
       "95     9828\n",
       "96     3899\n",
       "97     3894\n",
       "98     3877\n",
       "99     6136\n",
       "Length: 100, dtype: int64"
      ]
     },
     "execution_count": 56,
     "metadata": {},
     "output_type": "execute_result"
    }
   ],
   "source": [
    "df.apply(hilfsfunktion, axis=1)"
   ]
  },
  {
   "cell_type": "markdown",
   "metadata": {},
   "source": [
    "Wir können uns die Definition dieser Hilfsfunktion aber auch sparen, indem wir eine anonyme Funktion on the spot definiteren.\n",
    "\n",
    "Dazu verwenden wir das Keyword `lambda`:"
   ]
  },
  {
   "cell_type": "code",
   "execution_count": 57,
   "metadata": {},
   "outputs": [
    {
     "data": {
      "text/plain": [
       "0     12272\n",
       "1      7196\n",
       "2      6854\n",
       "3     10296\n",
       "4      6588\n",
       "5      6547\n",
       "6      9776\n",
       "7      6085\n",
       "8      6004\n",
       "9      8840\n",
       "10    13572\n",
       "11     8320\n",
       "12     8320\n",
       "13     5663\n",
       "14     5627\n",
       "15     5562\n",
       "16     5536\n",
       "17     5495\n",
       "18     5365\n",
       "19     5356\n",
       "20     8008\n",
       "21    50336\n",
       "22     5158\n",
       "23     5156\n",
       "24     5114\n",
       "25    10088\n",
       "26     7800\n",
       "27    29848\n",
       "28     4894\n",
       "29     4858\n",
       "      ...  \n",
       "70    20904\n",
       "71     4158\n",
       "72    22048\n",
       "73    11856\n",
       "74     4150\n",
       "75     4131\n",
       "76     6344\n",
       "77     7488\n",
       "78     5512\n",
       "79    42900\n",
       "80     4044\n",
       "81     8736\n",
       "82    10140\n",
       "83     4013\n",
       "84     3998\n",
       "85     5616\n",
       "86     3992\n",
       "87    73216\n",
       "88     3979\n",
       "89     6032\n",
       "90     6032\n",
       "91    12896\n",
       "92     3934\n",
       "93     3930\n",
       "94     3922\n",
       "95     9828\n",
       "96     3899\n",
       "97     3894\n",
       "98     3877\n",
       "99     6136\n",
       "Length: 100, dtype: int64"
      ]
     },
     "execution_count": 57,
     "metadata": {},
     "output_type": "execute_result"
    }
   ],
   "source": [
    "df.apply(lambda row: groessere_zahl(row['Punkte'], row['Coolness_Punkte']), axis=1)"
   ]
  },
  {
   "cell_type": "markdown",
   "metadata": {},
   "source": [
    "### Im Detail... was hat es genau mit diesem Lambda auf sich?"
   ]
  },
  {
   "cell_type": "markdown",
   "metadata": {},
   "source": [
    " https://www.programiz.com/python-programming/anonymous-function"
   ]
  },
  {
   "cell_type": "markdown",
   "metadata": {},
   "source": [
    "=> Eine Funktion, die keinen Namen trägt! (würde DJ Ötzi sagen)"
   ]
  },
  {
   "cell_type": "code",
   "execution_count": 58,
   "metadata": {},
   "outputs": [
    {
     "data": {
      "text/plain": [
       "7"
      ]
     },
     "execution_count": 58,
     "metadata": {},
     "output_type": "execute_result"
    }
   ],
   "source": [
    "(lambda x: x + 5)(2) # so müssen wir die Funktion nicht benennen"
   ]
  },
  {
   "cell_type": "markdown",
   "metadata": {},
   "source": [
    "Der Gag an Lambda-Funktionen ist, dass man Sie im selben Moment definieren und benutzen kann. Den Variablennamen nach dem Lambda können wir frei wählen. noch ein Beispiel für eine Lambda-Funktion, die eine Liste verarbeitet:"
   ]
  },
  {
   "cell_type": "code",
   "execution_count": 59,
   "metadata": {},
   "outputs": [],
   "source": [
    "my_list = [2, 3]"
   ]
  },
  {
   "cell_type": "code",
   "execution_count": 60,
   "metadata": {},
   "outputs": [
    {
     "data": {
      "text/plain": [
       "5"
      ]
     },
     "execution_count": 60,
     "metadata": {},
     "output_type": "execute_result"
    }
   ],
   "source": [
    "(lambda liste: liste[0] + liste[1])(my_list)"
   ]
  },
  {
   "cell_type": "markdown",
   "metadata": {},
   "source": [
    "Wir brauchen diese anonymen Funktionen bei Pandas eigentlich nur im Zusammenspiel mit `apply()` - und zwar genau dann, wenn wir auf alle Elemente in einer Tablle eine bestimmte Funktion anwenden wollen, die mehr als ein Argument braucht."
   ]
  },
  {
   "cell_type": "code",
   "execution_count": 61,
   "metadata": {},
   "outputs": [],
   "source": [
    "df['Groessere Punktzahl'] = df.apply(lambda row: groessere_zahl(row['Punkte'], row['Coolness_Punkte']), axis=1)"
   ]
  },
  {
   "cell_type": "code",
   "execution_count": 62,
   "metadata": {},
   "outputs": [
    {
     "data": {
      "text/html": [
       "<div>\n",
       "<style scoped>\n",
       "    .dataframe tbody tr th:only-of-type {\n",
       "        vertical-align: middle;\n",
       "    }\n",
       "\n",
       "    .dataframe tbody tr th {\n",
       "        vertical-align: top;\n",
       "    }\n",
       "\n",
       "    .dataframe thead th {\n",
       "        text-align: right;\n",
       "    }\n",
       "</style>\n",
       "<table border=\"1\" class=\"dataframe\">\n",
       "  <thead>\n",
       "    <tr style=\"text-align: right;\">\n",
       "      <th></th>\n",
       "      <th>Rang</th>\n",
       "      <th>Artist</th>\n",
       "      <th>Titel</th>\n",
       "      <th>Eintritt</th>\n",
       "      <th>Wochen</th>\n",
       "      <th>Peak</th>\n",
       "      <th>Punkte</th>\n",
       "      <th>Link</th>\n",
       "      <th>Songtext</th>\n",
       "      <th>Punkte_Formatiert</th>\n",
       "      <th>Anzahl Telefonbucheinträge</th>\n",
       "      <th>Textanalyse</th>\n",
       "      <th>Coolness_Punkte</th>\n",
       "      <th>Groessere Punktzahl</th>\n",
       "    </tr>\n",
       "  </thead>\n",
       "  <tbody>\n",
       "    <tr>\n",
       "      <th>0</th>\n",
       "      <td>1</td>\n",
       "      <td>DJ Ötzi &amp; Nik P.</td>\n",
       "      <td>Ein Stern (... der deinen Namen trägt)</td>\n",
       "      <td>18.02.2007</td>\n",
       "      <td>118</td>\n",
       "      <td>2</td>\n",
       "      <td>8109</td>\n",
       "      <td>/song/DJ-Oetzi-&amp;-Nik-P./Ein-Stern-(...-der-deinen-Namen-traegt)-283118</td>\n",
       "      <td>Einen Stern, der deinen Namen trägt\\nHoch am Himmelszelt\\nDen schenk ich Dir heut' Nacht\\nEinen Stern, der deinen Namen trägt\\nAlle Zeiten überlebt\\nUnd über unsere Liebe wacht\\n\\nSeit Jahren scho...</td>\n",
       "      <td>8110</td>\n",
       "      <td>Ich hasse DJ Ötzi &amp; Nik P.</td>\n",
       "      <td>Ellipsis</td>\n",
       "      <td>12272</td>\n",
       "      <td>12272</td>\n",
       "    </tr>\n",
       "    <tr>\n",
       "      <th>1</th>\n",
       "      <td>2</td>\n",
       "      <td>Ed Sheeran</td>\n",
       "      <td>Shape Of You</td>\n",
       "      <td>15.01.2017</td>\n",
       "      <td>93</td>\n",
       "      <td>1</td>\n",
       "      <td>7196</td>\n",
       "      <td>/song/Ed-Sheeran/Shape-Of-You-1622943</td>\n",
       "      <td>The club isn't the best place to find a lover\\nSo the bar is where I go\\nMe and my friends at the table doing shots\\nDrinking fast and then we talk slow\\n\\nCome over and start up a conversation wi...</td>\n",
       "      <td>7197</td>\n",
       "      <td>Ich hasse Ed Sheeran</td>\n",
       "      <td>Ellipsis</td>\n",
       "      <td>4836</td>\n",
       "      <td>7196</td>\n",
       "    </tr>\n",
       "    <tr>\n",
       "      <th>2</th>\n",
       "      <td>3</td>\n",
       "      <td>Luis Fonsi feat. Daddy Yankee</td>\n",
       "      <td>Despacito</td>\n",
       "      <td>22.01.2017</td>\n",
       "      <td>90</td>\n",
       "      <td>1</td>\n",
       "      <td>6854</td>\n",
       "      <td>/song/Luis-Fonsi-feat.-Daddy-Yankee/Despacito-1625640</td>\n",
       "      <td>Ay\\nFonsi, DY\\nOh, oh no, oh no (ey)\\nHey, yeah, diri-diri-diriridi, Daddy, go!\\n\\nSí, sabes que ya llevo un rato mirándote\\nTengo que bailar contigo hoy (DY)\\nVi que tu mirada ya estaba llamándom...</td>\n",
       "      <td>6855</td>\n",
       "      <td>Ich hasse Luis Fonsi feat. Daddy Yankee</td>\n",
       "      <td>Ellipsis</td>\n",
       "      <td>4680</td>\n",
       "      <td>6854</td>\n",
       "    </tr>\n",
       "    <tr>\n",
       "      <th>3</th>\n",
       "      <td>4</td>\n",
       "      <td>DJ Antoine feat. The Beat Shakers</td>\n",
       "      <td>\"Ma chérie\"</td>\n",
       "      <td>06.06.2010</td>\n",
       "      <td>99</td>\n",
       "      <td>2</td>\n",
       "      <td>6745</td>\n",
       "      <td>/song/DJ-Antoine-feat.-The-Beat-Shakers/Ma-cherie-711060</td>\n",
       "      <td>When I look into your eyes\\nI see rainbows in the skies.\\nBaby when you're close to me\\nI know you are ma cherie.\\n\\nWe are gonna dance into the sea\\nAll I want is you - you're ma cherie\\nNever se...</td>\n",
       "      <td>6746</td>\n",
       "      <td>Ich hasse DJ Antoine feat. The Beat Shakers</td>\n",
       "      <td>Ellipsis</td>\n",
       "      <td>10296</td>\n",
       "      <td>10296</td>\n",
       "    </tr>\n",
       "    <tr>\n",
       "      <th>4</th>\n",
       "      <td>5</td>\n",
       "      <td>Adele</td>\n",
       "      <td>Rolling In The Deep</td>\n",
       "      <td>30.01.2011</td>\n",
       "      <td>93</td>\n",
       "      <td>1</td>\n",
       "      <td>6588</td>\n",
       "      <td>/song/Adele/Rolling-In-The-Deep-767937</td>\n",
       "      <td>There's a fire starting in my heart\\nReaching a fever pitch and it's bring me out the dark\\nFinally, I can see you crystal clear\\nGo ahead and sell me out and I'll lay your ship bare\\n\\nSee how I'...</td>\n",
       "      <td>6589</td>\n",
       "      <td>Ich hasse Adele</td>\n",
       "      <td>Ellipsis</td>\n",
       "      <td>4836</td>\n",
       "      <td>6588</td>\n",
       "    </tr>\n",
       "    <tr>\n",
       "      <th>5</th>\n",
       "      <td>6</td>\n",
       "      <td>John Legend</td>\n",
       "      <td>All Of Me</td>\n",
       "      <td>02.02.2014</td>\n",
       "      <td>97</td>\n",
       "      <td>1</td>\n",
       "      <td>6547</td>\n",
       "      <td>/song/John-Legend/All-Of-Me-1183051</td>\n",
       "      <td>What would I do without your smart mouth?\\nDrawing me in, and you kicking me out\\nYou've got my head spinning, no kidding, I can't pin you down\\nWhat's going on in that beautiful mind\\nI'm on your...</td>\n",
       "      <td>6548</td>\n",
       "      <td>Ich hasse John Legend</td>\n",
       "      <td>Ellipsis</td>\n",
       "      <td>5044</td>\n",
       "      <td>6547</td>\n",
       "    </tr>\n",
       "    <tr>\n",
       "      <th>6</th>\n",
       "      <td>7</td>\n",
       "      <td>Amy Macdonald</td>\n",
       "      <td>This Is The Life</td>\n",
       "      <td>23.03.2008</td>\n",
       "      <td>94</td>\n",
       "      <td>2</td>\n",
       "      <td>6125</td>\n",
       "      <td>/song/Amy-Macdonald/This-Is-The-Life-349688</td>\n",
       "      <td>Oh the wind whistles down\\nThe cold dark street tonight\\nAnd the people they were dancing to the music vibe\\nAnd the boys chase the girls with the curls in their hair\\n\\nWhile the shy tormented yo...</td>\n",
       "      <td>6126</td>\n",
       "      <td>Ich hasse Amy Macdonald</td>\n",
       "      <td>Ellipsis</td>\n",
       "      <td>9776</td>\n",
       "      <td>9776</td>\n",
       "    </tr>\n",
       "    <tr>\n",
       "      <th>7</th>\n",
       "      <td>8</td>\n",
       "      <td>The Black Eyed Peas</td>\n",
       "      <td>I Gotta Feeling</td>\n",
       "      <td>19.07.2009</td>\n",
       "      <td>87</td>\n",
       "      <td>1</td>\n",
       "      <td>6085</td>\n",
       "      <td>/song/The-Black-Eyed-Peas/I-Gotta-Feeling-584715</td>\n",
       "      <td>I gotta feeling\\nThat tonight's gonna be a good night\\nThat tonight's gonna be a good night\\nThat tonight's gonna be a good, good night\\n\\nA feeling\\nThat tonight's gonna be a good night\\nThat ton...</td>\n",
       "      <td>6086</td>\n",
       "      <td>Ich hasse The Black Eyed Peas</td>\n",
       "      <td>Ellipsis</td>\n",
       "      <td>4524</td>\n",
       "      <td>6085</td>\n",
       "    </tr>\n",
       "    <tr>\n",
       "      <th>8</th>\n",
       "      <td>9</td>\n",
       "      <td>Shakira feat. Freshlyground</td>\n",
       "      <td>Waka Waka (This Time For Africa)</td>\n",
       "      <td>23.05.2010</td>\n",
       "      <td>86</td>\n",
       "      <td>1</td>\n",
       "      <td>6004</td>\n",
       "      <td>/song/Shakira-feat.-Freshlyground/Waka-Waka-(This-Time-For-Africa)-700659</td>\n",
       "      <td>You're a good soldier\\nChoosing your battles\\nPick yourself up\\nDust yourself off\\nAnd get back in the saddle\\n\\nYou're on the front line\\nEveryone's watching\\nYou know it's serious\\nWe are gettin...</td>\n",
       "      <td>6005</td>\n",
       "      <td>Ich hasse Shakira feat. Freshlyground</td>\n",
       "      <td>Ellipsis</td>\n",
       "      <td>4472</td>\n",
       "      <td>6004</td>\n",
       "    </tr>\n",
       "    <tr>\n",
       "      <th>9</th>\n",
       "      <td>10</td>\n",
       "      <td>Guru Josh Project</td>\n",
       "      <td>Infinity 2008</td>\n",
       "      <td>28.09.2008</td>\n",
       "      <td>85</td>\n",
       "      <td>2</td>\n",
       "      <td>6001</td>\n",
       "      <td>/song/Guru-Josh-Project/Infinity-2008-484499</td>\n",
       "      <td>Here's my key\\nPhilosophy\\nA freak like me\\nJust needs infinity\\n\\nRelax\\nTake your time\\n\\nAnd take your time\\nTo trust in me\\nAnd you will find\\nInfinity, infinity\\n\\nAnd take your time\\nTo trus...</td>\n",
       "      <td>6002</td>\n",
       "      <td>Ich hasse Guru Josh Project</td>\n",
       "      <td>Ellipsis</td>\n",
       "      <td>8840</td>\n",
       "      <td>8840</td>\n",
       "    </tr>\n",
       "  </tbody>\n",
       "</table>\n",
       "</div>"
      ],
      "text/plain": [
       "   Rang                             Artist  \\\n",
       "0     1                   DJ Ötzi & Nik P.   \n",
       "1     2                         Ed Sheeran   \n",
       "2     3      Luis Fonsi feat. Daddy Yankee   \n",
       "3     4  DJ Antoine feat. The Beat Shakers   \n",
       "4     5                              Adele   \n",
       "5     6                        John Legend   \n",
       "6     7                      Amy Macdonald   \n",
       "7     8                The Black Eyed Peas   \n",
       "8     9        Shakira feat. Freshlyground   \n",
       "9    10                  Guru Josh Project   \n",
       "\n",
       "                                    Titel    Eintritt  Wochen  Peak  Punkte  \\\n",
       "0  Ein Stern (... der deinen Namen trägt)  18.02.2007     118     2    8109   \n",
       "1                            Shape Of You  15.01.2017      93     1    7196   \n",
       "2                               Despacito  22.01.2017      90     1    6854   \n",
       "3                             \"Ma chérie\"  06.06.2010      99     2    6745   \n",
       "4                     Rolling In The Deep  30.01.2011      93     1    6588   \n",
       "5                               All Of Me  02.02.2014      97     1    6547   \n",
       "6                        This Is The Life  23.03.2008      94     2    6125   \n",
       "7                         I Gotta Feeling  19.07.2009      87     1    6085   \n",
       "8        Waka Waka (This Time For Africa)  23.05.2010      86     1    6004   \n",
       "9                           Infinity 2008  28.09.2008      85     2    6001   \n",
       "\n",
       "                                                                        Link  \\\n",
       "0     /song/DJ-Oetzi-&-Nik-P./Ein-Stern-(...-der-deinen-Namen-traegt)-283118   \n",
       "1                                      /song/Ed-Sheeran/Shape-Of-You-1622943   \n",
       "2                      /song/Luis-Fonsi-feat.-Daddy-Yankee/Despacito-1625640   \n",
       "3                   /song/DJ-Antoine-feat.-The-Beat-Shakers/Ma-cherie-711060   \n",
       "4                                     /song/Adele/Rolling-In-The-Deep-767937   \n",
       "5                                        /song/John-Legend/All-Of-Me-1183051   \n",
       "6                                /song/Amy-Macdonald/This-Is-The-Life-349688   \n",
       "7                           /song/The-Black-Eyed-Peas/I-Gotta-Feeling-584715   \n",
       "8  /song/Shakira-feat.-Freshlyground/Waka-Waka-(This-Time-For-Africa)-700659   \n",
       "9                               /song/Guru-Josh-Project/Infinity-2008-484499   \n",
       "\n",
       "                                                                                                                                                                                                  Songtext  \\\n",
       "0  Einen Stern, der deinen Namen trägt\\nHoch am Himmelszelt\\nDen schenk ich Dir heut' Nacht\\nEinen Stern, der deinen Namen trägt\\nAlle Zeiten überlebt\\nUnd über unsere Liebe wacht\\n\\nSeit Jahren scho...   \n",
       "1  The club isn't the best place to find a lover\\nSo the bar is where I go\\nMe and my friends at the table doing shots\\nDrinking fast and then we talk slow\\n\\nCome over and start up a conversation wi...   \n",
       "2  Ay\\nFonsi, DY\\nOh, oh no, oh no (ey)\\nHey, yeah, diri-diri-diriridi, Daddy, go!\\n\\nSí, sabes que ya llevo un rato mirándote\\nTengo que bailar contigo hoy (DY)\\nVi que tu mirada ya estaba llamándom...   \n",
       "3  When I look into your eyes\\nI see rainbows in the skies.\\nBaby when you're close to me\\nI know you are ma cherie.\\n\\nWe are gonna dance into the sea\\nAll I want is you - you're ma cherie\\nNever se...   \n",
       "4  There's a fire starting in my heart\\nReaching a fever pitch and it's bring me out the dark\\nFinally, I can see you crystal clear\\nGo ahead and sell me out and I'll lay your ship bare\\n\\nSee how I'...   \n",
       "5  What would I do without your smart mouth?\\nDrawing me in, and you kicking me out\\nYou've got my head spinning, no kidding, I can't pin you down\\nWhat's going on in that beautiful mind\\nI'm on your...   \n",
       "6  Oh the wind whistles down\\nThe cold dark street tonight\\nAnd the people they were dancing to the music vibe\\nAnd the boys chase the girls with the curls in their hair\\n\\nWhile the shy tormented yo...   \n",
       "7  I gotta feeling\\nThat tonight's gonna be a good night\\nThat tonight's gonna be a good night\\nThat tonight's gonna be a good, good night\\n\\nA feeling\\nThat tonight's gonna be a good night\\nThat ton...   \n",
       "8  You're a good soldier\\nChoosing your battles\\nPick yourself up\\nDust yourself off\\nAnd get back in the saddle\\n\\nYou're on the front line\\nEveryone's watching\\nYou know it's serious\\nWe are gettin...   \n",
       "9  Here's my key\\nPhilosophy\\nA freak like me\\nJust needs infinity\\n\\nRelax\\nTake your time\\n\\nAnd take your time\\nTo trust in me\\nAnd you will find\\nInfinity, infinity\\n\\nAnd take your time\\nTo trus...   \n",
       "\n",
       "   Punkte_Formatiert                   Anzahl Telefonbucheinträge Textanalyse  \\\n",
       "0               8110                   Ich hasse DJ Ötzi & Nik P.    Ellipsis   \n",
       "1               7197                         Ich hasse Ed Sheeran    Ellipsis   \n",
       "2               6855      Ich hasse Luis Fonsi feat. Daddy Yankee    Ellipsis   \n",
       "3               6746  Ich hasse DJ Antoine feat. The Beat Shakers    Ellipsis   \n",
       "4               6589                              Ich hasse Adele    Ellipsis   \n",
       "5               6548                        Ich hasse John Legend    Ellipsis   \n",
       "6               6126                      Ich hasse Amy Macdonald    Ellipsis   \n",
       "7               6086                Ich hasse The Black Eyed Peas    Ellipsis   \n",
       "8               6005        Ich hasse Shakira feat. Freshlyground    Ellipsis   \n",
       "9               6002                  Ich hasse Guru Josh Project    Ellipsis   \n",
       "\n",
       "   Coolness_Punkte  Groessere Punktzahl  \n",
       "0            12272                12272  \n",
       "1             4836                 7196  \n",
       "2             4680                 6854  \n",
       "3            10296                10296  \n",
       "4             4836                 6588  \n",
       "5             5044                 6547  \n",
       "6             9776                 9776  \n",
       "7             4524                 6085  \n",
       "8             4472                 6004  \n",
       "9             8840                 8840  "
      ]
     },
     "execution_count": 62,
     "metadata": {},
     "output_type": "execute_result"
    }
   ],
   "source": [
    "df.head(10)"
   ]
  },
  {
   "cell_type": "code",
   "execution_count": null,
   "metadata": {},
   "outputs": [],
   "source": []
  }
 ],
 "metadata": {
  "kernelspec": {
   "display_name": "Python 3",
   "language": "python",
   "name": "python3"
  },
  "language_info": {
   "codemirror_mode": {
    "name": "ipython",
    "version": 3
   },
   "file_extension": ".py",
   "mimetype": "text/x-python",
   "name": "python",
   "nbconvert_exporter": "python",
   "pygments_lexer": "ipython3",
   "version": "3.7.0"
  }
 },
 "nbformat": 4,
 "nbformat_minor": 2
}
