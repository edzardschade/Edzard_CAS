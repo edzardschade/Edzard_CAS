{
 "cells": [
  {
   "cell_type": "markdown",
   "metadata": {},
   "source": [
    "# Aufwärmübung\n",
    "\n",
    "**Inhalt: ** Shapely-Shapes\n",
    "\n",
    "**Nötige Skills**\n",
    "- Basic pandas skills\n",
    "\n",
    "**Lernziele**\n",
    "- Punkte, Linien, Polygone"
   ]
  },
  {
   "cell_type": "markdown",
   "metadata": {},
   "source": [
    "## Setup"
   ]
  },
  {
   "cell_type": "code",
   "execution_count": 1,
   "metadata": {},
   "outputs": [],
   "source": [
    "import pandas as pd\n",
    "import geopandas as gpd\n",
    "from shapely.geometry import Point, LineString, Polygon\n",
    "%matplotlib inline"
   ]
  },
  {
   "cell_type": "code",
   "execution_count": null,
   "metadata": {
    "collapsed": true
   },
   "outputs": [],
   "source": []
  },
  {
   "cell_type": "markdown",
   "metadata": {},
   "source": [
    "## Shapely\n",
    "\n",
    "Eine Library zur mathematischen Analyse von Formen und für die Geometrie: https://shapely.readthedocs.io/en/stable/"
   ]
  },
  {
   "cell_type": "markdown",
   "metadata": {},
   "source": [
    "### Point"
   ]
  },
  {
   "cell_type": "code",
   "execution_count": 28,
   "metadata": {},
   "outputs": [],
   "source": [
    "x1 = 5\n",
    "y1 = 5"
   ]
  },
  {
   "cell_type": "code",
   "execution_count": 29,
   "metadata": {},
   "outputs": [],
   "source": [
    "punkt1 = Point(x1, y1) #dazu brauch es die library point"
   ]
  },
  {
   "cell_type": "code",
   "execution_count": 30,
   "metadata": {},
   "outputs": [
    {
     "data": {
      "image/svg+xml": [
       "<svg xmlns=\"http://www.w3.org/2000/svg\" xmlns:xlink=\"http://www.w3.org/1999/xlink\" width=\"100.0\" height=\"100.0\" viewBox=\"4.0 4.0 2.0 2.0\" preserveAspectRatio=\"xMinYMin meet\"><g transform=\"matrix(1,0,0,-1,0,10.0)\"><circle cx=\"5.0\" cy=\"5.0\" r=\"0.06\" stroke=\"#555555\" stroke-width=\"0.02\" fill=\"#66cc99\" opacity=\"0.6\" /></g></svg>"
      ],
      "text/plain": [
       "<shapely.geometry.point.Point at 0x11a26d198>"
      ]
     },
     "execution_count": 30,
     "metadata": {},
     "output_type": "execute_result"
    }
   ],
   "source": [
    "punkt1"
   ]
  },
  {
   "cell_type": "markdown",
   "metadata": {},
   "source": [
    "### Line"
   ]
  },
  {
   "cell_type": "code",
   "execution_count": 31,
   "metadata": {},
   "outputs": [],
   "source": [
    "x2a = 20\n",
    "y2a = 0\n",
    "\n",
    "x2b = 0\n",
    "y2b = 20"
   ]
  },
  {
   "cell_type": "code",
   "execution_count": 32,
   "metadata": {},
   "outputs": [],
   "source": [
    "linie1 = LineString([Point(x2a, y2a), Point(x2b, y2b)])"
   ]
  },
  {
   "cell_type": "code",
   "execution_count": 33,
   "metadata": {},
   "outputs": [
    {
     "data": {
      "image/svg+xml": [
       "<svg xmlns=\"http://www.w3.org/2000/svg\" xmlns:xlink=\"http://www.w3.org/1999/xlink\" width=\"100.0\" height=\"100.0\" viewBox=\"-0.8 -0.8 21.6 21.6\" preserveAspectRatio=\"xMinYMin meet\"><g transform=\"matrix(1,0,0,-1,0,20.0)\"><polyline fill=\"none\" stroke=\"#66cc99\" stroke-width=\"0.43200000000000005\" points=\"20.0,0.0 0.0,20.0\" opacity=\"0.8\" /></g></svg>"
      ],
      "text/plain": [
       "<shapely.geometry.linestring.LineString at 0x11a26db70>"
      ]
     },
     "execution_count": 33,
     "metadata": {},
     "output_type": "execute_result"
    }
   ],
   "source": [
    "linie1"
   ]
  },
  {
   "cell_type": "markdown",
   "metadata": {},
   "source": [
    "### Polygon"
   ]
  },
  {
   "cell_type": "code",
   "execution_count": 34,
   "metadata": {},
   "outputs": [],
   "source": [
    "x3a = 0\n",
    "y3a = 0\n",
    "\n",
    "x3b = 10\n",
    "y3b = 0\n",
    "\n",
    "x3c = 10\n",
    "y3c = 10\n",
    "\n",
    "x3d = 0\n",
    "y3d = 10"
   ]
  },
  {
   "cell_type": "code",
   "execution_count": 35,
   "metadata": {},
   "outputs": [],
   "source": [
    "polygon1 = Polygon([[x3a, y3a], [x3b, y3b], [x3c, y3c], [x3a, y3d]]) #hier müssen Punkte nicht explizit definiert werden."
   ]
  },
  {
   "cell_type": "code",
   "execution_count": 36,
   "metadata": {
    "scrolled": true
   },
   "outputs": [
    {
     "data": {
      "image/svg+xml": [
       "<svg xmlns=\"http://www.w3.org/2000/svg\" xmlns:xlink=\"http://www.w3.org/1999/xlink\" width=\"100.0\" height=\"100.0\" viewBox=\"-0.4 -0.4 10.8 10.8\" preserveAspectRatio=\"xMinYMin meet\"><g transform=\"matrix(1,0,0,-1,0,10.0)\"><path fill-rule=\"evenodd\" fill=\"#66cc99\" stroke=\"#555555\" stroke-width=\"0.21600000000000003\" opacity=\"0.6\" d=\"M 0.0,0.0 L 10.0,0.0 L 10.0,10.0 L 0.0,10.0 L 0.0,0.0 z\" /></g></svg>"
      ],
      "text/plain": [
       "<shapely.geometry.polygon.Polygon at 0x11a26dd30>"
      ]
     },
     "execution_count": 36,
     "metadata": {},
     "output_type": "execute_result"
    }
   ],
   "source": [
    "polygon1"
   ]
  },
  {
   "cell_type": "markdown",
   "metadata": {},
   "source": [
    "### Let's plot it"
   ]
  },
  {
   "cell_type": "code",
   "execution_count": 37,
   "metadata": {},
   "outputs": [],
   "source": [
    "df = pd.DataFrame({'geometry': [punkt1, linie1]}) "
   ]
  },
  {
   "cell_type": "code",
   "execution_count": 38,
   "metadata": {},
   "outputs": [
    {
     "data": {
      "text/html": [
       "<div>\n",
       "<style scoped>\n",
       "    .dataframe tbody tr th:only-of-type {\n",
       "        vertical-align: middle;\n",
       "    }\n",
       "\n",
       "    .dataframe tbody tr th {\n",
       "        vertical-align: top;\n",
       "    }\n",
       "\n",
       "    .dataframe thead th {\n",
       "        text-align: right;\n",
       "    }\n",
       "</style>\n",
       "<table border=\"1\" class=\"dataframe\">\n",
       "  <thead>\n",
       "    <tr style=\"text-align: right;\">\n",
       "      <th></th>\n",
       "      <th>geometry</th>\n",
       "    </tr>\n",
       "  </thead>\n",
       "  <tbody>\n",
       "    <tr>\n",
       "      <th>0</th>\n",
       "      <td>POINT (5 5)</td>\n",
       "    </tr>\n",
       "    <tr>\n",
       "      <th>1</th>\n",
       "      <td>LINESTRING (20 0, 0 20)</td>\n",
       "    </tr>\n",
       "  </tbody>\n",
       "</table>\n",
       "</div>"
      ],
      "text/plain": [
       "                  geometry\n",
       "0              POINT (5 5)\n",
       "1  LINESTRING (20 0, 0 20)"
      ]
     },
     "execution_count": 38,
     "metadata": {},
     "output_type": "execute_result"
    }
   ],
   "source": [
    "df"
   ]
  },
  {
   "cell_type": "code",
   "execution_count": 39,
   "metadata": {},
   "outputs": [],
   "source": [
    "gdf = gpd.GeoDataFrame(df, geometry='geometry') #geodataframe hat eine zusätzliche \"Geometriespalte\", die das\n",
    "#Bearbeiten mit geopandas erlaubt (das sieht man hier nicht direkt)"
   ]
  },
  {
   "cell_type": "code",
   "execution_count": 40,
   "metadata": {},
   "outputs": [
    {
     "data": {
      "text/html": [
       "<div>\n",
       "<style scoped>\n",
       "    .dataframe tbody tr th:only-of-type {\n",
       "        vertical-align: middle;\n",
       "    }\n",
       "\n",
       "    .dataframe tbody tr th {\n",
       "        vertical-align: top;\n",
       "    }\n",
       "\n",
       "    .dataframe thead th {\n",
       "        text-align: right;\n",
       "    }\n",
       "</style>\n",
       "<table border=\"1\" class=\"dataframe\">\n",
       "  <thead>\n",
       "    <tr style=\"text-align: right;\">\n",
       "      <th></th>\n",
       "      <th>geometry</th>\n",
       "    </tr>\n",
       "  </thead>\n",
       "  <tbody>\n",
       "    <tr>\n",
       "      <th>0</th>\n",
       "      <td>POINT (5 5)</td>\n",
       "    </tr>\n",
       "    <tr>\n",
       "      <th>1</th>\n",
       "      <td>LINESTRING (20 0, 0 20)</td>\n",
       "    </tr>\n",
       "  </tbody>\n",
       "</table>\n",
       "</div>"
      ],
      "text/plain": [
       "                  geometry\n",
       "0              POINT (5 5)\n",
       "1  LINESTRING (20 0, 0 20)"
      ]
     },
     "execution_count": 40,
     "metadata": {},
     "output_type": "execute_result"
    }
   ],
   "source": [
    "gdf"
   ]
  },
  {
   "cell_type": "code",
   "execution_count": 41,
   "metadata": {},
   "outputs": [
    {
     "data": {
      "text/plain": [
       "<matplotlib.axes._subplots.AxesSubplot at 0x11a256a20>"
      ]
     },
     "execution_count": 41,
     "metadata": {},
     "output_type": "execute_result"
    },
    {
     "data": {
      "image/png": "[encoded data removed]",
      "text/plain": [
       "<Figure size 432x288 with 1 Axes>"
      ]
     },
     "metadata": {
      "needs_background": "light"
     },
     "output_type": "display_data"
    }
   ],
   "source": [
    "gdf.plot(alpha=0.5, linewidth=2, edgecolor='black', markersize=5)"
   ]
  },
  {
   "cell_type": "code",
   "execution_count": 42,
   "metadata": {},
   "outputs": [],
   "source": [
    "#Ein Haus zeichnen\n",
    "x3a = 0\n",
    "y3a = 0\n",
    "\n",
    "x3b = 20\n",
    "y3b = 0\n",
    "\n",
    "x3c = 20\n",
    "y3c = 10\n",
    "\n",
    "x3d = 10\n",
    "y3d = 20\n",
    "\n",
    "x3e = 0\n",
    "y3e = 10\n",
    "\n",
    "x3f = 20\n",
    "y3f = 10\n",
    "\n",
    "x3g = 40\n",
    "y3g = 10"
   ]
  },
  {
   "cell_type": "code",
   "execution_count": 43,
   "metadata": {},
   "outputs": [],
   "source": [
    "polygon2 = Polygon([[x3a, y3a], [x3b, y3b], [x3c, y3c], [x3d, y3d], [x3e, y3e], [x3f, y3f], [x3g, y3g]])"
   ]
  },
  {
   "cell_type": "code",
   "execution_count": 44,
   "metadata": {},
   "outputs": [
    {
     "data": {
      "image/svg+xml": [
       "<svg xmlns=\"http://www.w3.org/2000/svg\" xmlns:xlink=\"http://www.w3.org/1999/xlink\" width=\"100.0\" height=\"100.0\" viewBox=\"-1.6 -1.6 43.2 23.200000000000003\" preserveAspectRatio=\"xMinYMin meet\"><g transform=\"matrix(1,0,0,-1,0,20.0)\"><path fill-rule=\"evenodd\" fill=\"#ff3333\" stroke=\"#555555\" stroke-width=\"0.8640000000000001\" opacity=\"0.6\" d=\"M 0.0,0.0 L 20.0,0.0 L 20.0,10.0 L 10.0,20.0 L 0.0,10.0 L 20.0,10.0 L 40.0,10.0 L 0.0,0.0 z\" /></g></svg>"
      ],
      "text/plain": [
       "<shapely.geometry.polygon.Polygon at 0x11a268198>"
      ]
     },
     "execution_count": 44,
     "metadata": {},
     "output_type": "execute_result"
    }
   ],
   "source": [
    "polygon2"
   ]
  },
  {
   "cell_type": "markdown",
   "metadata": {},
   "source": [
    "## Your Turn\n",
    "\n",
    "Wir spielen Picasso und zeichnen ein Haus.\n",
    "\n",
    "**Aufgabe:** Definieren Sie ein paar Rechtecke, Linien und Punkte..."
   ]
  },
  {
   "cell_type": "code",
   "execution_count": 45,
   "metadata": {},
   "outputs": [],
   "source": [
    "polygon1 = Polygon([[x3a, y3a], [x3b, y3b], [x3c, y3c], [x3a, y3d]])"
   ]
  },
  {
   "cell_type": "code",
   "execution_count": 46,
   "metadata": {},
   "outputs": [],
   "source": [
    "linie2 = LineString([Point(0, 10), Point(5, 13), Point(10, 10)])"
   ]
  },
  {
   "cell_type": "code",
   "execution_count": 47,
   "metadata": {},
   "outputs": [],
   "source": [
    "polygon2 = Polygon([[5, 0], [5, 3], [7, 3], [7, 0]])"
   ]
  },
  {
   "cell_type": "code",
   "execution_count": 48,
   "metadata": {},
   "outputs": [],
   "source": [
    "punkt2 = Point(5.5, 1)"
   ]
  },
  {
   "cell_type": "code",
   "execution_count": null,
   "metadata": {},
   "outputs": [],
   "source": []
  },
  {
   "cell_type": "markdown",
   "metadata": {},
   "source": [
    "... fügen Sie die Objekte in ein Geodataframe und plotten Sie dieses!"
   ]
  },
  {
   "cell_type": "code",
   "execution_count": 49,
   "metadata": {},
   "outputs": [],
   "source": [
    "df = pd.DataFrame({'geometry': [polygon1, linie2, polygon2, punkt2]})"
   ]
  },
  {
   "cell_type": "code",
   "execution_count": 50,
   "metadata": {},
   "outputs": [],
   "source": [
    "gdf = gpd.GeoDataFrame(df, geometry='geometry')"
   ]
  },
  {
   "cell_type": "code",
   "execution_count": 51,
   "metadata": {},
   "outputs": [
    {
     "data": {
      "text/html": [
       "<div>\n",
       "<style scoped>\n",
       "    .dataframe tbody tr th:only-of-type {\n",
       "        vertical-align: middle;\n",
       "    }\n",
       "\n",
       "    .dataframe tbody tr th {\n",
       "        vertical-align: top;\n",
       "    }\n",
       "\n",
       "    .dataframe thead th {\n",
       "        text-align: right;\n",
       "    }\n",
       "</style>\n",
       "<table border=\"1\" class=\"dataframe\">\n",
       "  <thead>\n",
       "    <tr style=\"text-align: right;\">\n",
       "      <th></th>\n",
       "      <th>geometry</th>\n",
       "    </tr>\n",
       "  </thead>\n",
       "  <tbody>\n",
       "    <tr>\n",
       "      <th>0</th>\n",
       "      <td>POLYGON ((0 0, 20 0, 20 10, 0 20, 0 0))</td>\n",
       "    </tr>\n",
       "    <tr>\n",
       "      <th>1</th>\n",
       "      <td>LINESTRING (0 10, 5 13, 10 10)</td>\n",
       "    </tr>\n",
       "    <tr>\n",
       "      <th>2</th>\n",
       "      <td>POLYGON ((5 0, 5 3, 7 3, 7 0, 5 0))</td>\n",
       "    </tr>\n",
       "    <tr>\n",
       "      <th>3</th>\n",
       "      <td>POINT (5.5 1)</td>\n",
       "    </tr>\n",
       "  </tbody>\n",
       "</table>\n",
       "</div>"
      ],
      "text/plain": [
       "                                  geometry\n",
       "0  POLYGON ((0 0, 20 0, 20 10, 0 20, 0 0))\n",
       "1           LINESTRING (0 10, 5 13, 10 10)\n",
       "2      POLYGON ((5 0, 5 3, 7 3, 7 0, 5 0))\n",
       "3                            POINT (5.5 1)"
      ]
     },
     "execution_count": 51,
     "metadata": {},
     "output_type": "execute_result"
    }
   ],
   "source": [
    "gdf"
   ]
  },
  {
   "cell_type": "code",
   "execution_count": 52,
   "metadata": {},
   "outputs": [
    {
     "data": {
      "text/plain": [
       "<matplotlib.axes._subplots.AxesSubplot at 0x11c33f2b0>"
      ]
     },
     "execution_count": 52,
     "metadata": {},
     "output_type": "execute_result"
    },
    {
     "data": {
      "image/png": "[encoded data removed]",
      "text/plain": [
       "<Figure size 432x288 with 1 Axes>"
      ]
     },
     "metadata": {
      "needs_background": "light"
     },
     "output_type": "display_data"
    }
   ],
   "source": [
    "gdf.plot(alpha=0.5, linewidth=2, edgecolor='black', markersize=5)"
   ]
  },
  {
   "cell_type": "code",
   "execution_count": null,
   "metadata": {},
   "outputs": [],
   "source": []
  },
  {
   "cell_type": "code",
   "execution_count": null,
   "metadata": {},
   "outputs": [],
   "source": []
  },
  {
   "cell_type": "markdown",
   "metadata": {},
   "source": [
    "## Eigenschaften"
   ]
  },
  {
   "cell_type": "markdown",
   "metadata": {},
   "source": [
    "- Geometrie-Typ"
   ]
  },
  {
   "cell_type": "code",
   "execution_count": 53,
   "metadata": {},
   "outputs": [
    {
     "data": {
      "text/plain": [
       "'Polygon'"
      ]
     },
     "execution_count": 53,
     "metadata": {},
     "output_type": "execute_result"
    }
   ],
   "source": [
    "polygon1.geom_type"
   ]
  },
  {
   "cell_type": "markdown",
   "metadata": {},
   "source": [
    "- Fläche"
   ]
  },
  {
   "cell_type": "code",
   "execution_count": 54,
   "metadata": {},
   "outputs": [
    {
     "data": {
      "text/plain": [
       "300.0"
      ]
     },
     "execution_count": 54,
     "metadata": {},
     "output_type": "execute_result"
    }
   ],
   "source": [
    "polygon1.area"
   ]
  },
  {
   "cell_type": "markdown",
   "metadata": {},
   "source": [
    "- Mittelpunkt"
   ]
  },
  {
   "cell_type": "code",
   "execution_count": 55,
   "metadata": {},
   "outputs": [
    {
     "data": {
      "image/svg+xml": [
       "<svg xmlns=\"http://www.w3.org/2000/svg\" xmlns:xlink=\"http://www.w3.org/1999/xlink\" width=\"100.0\" height=\"100.0\" viewBox=\"7.8888888888888875 6.777777777777779 2.0 2.0\" preserveAspectRatio=\"xMinYMin meet\"><g transform=\"matrix(1,0,0,-1,0,15.555555555555557)\"><circle cx=\"8.888888888888888\" cy=\"7.777777777777779\" r=\"0.06\" stroke=\"#555555\" stroke-width=\"0.02\" fill=\"#66cc99\" opacity=\"0.6\" /></g></svg>"
      ],
      "text/plain": [
       "<shapely.geometry.point.Point at 0x11c2bdf28>"
      ]
     },
     "execution_count": 55,
     "metadata": {},
     "output_type": "execute_result"
    }
   ],
   "source": [
    "polygon1.centroid"
   ]
  },
  {
   "cell_type": "markdown",
   "metadata": {},
   "source": [
    "- Rohdaten"
   ]
  },
  {
   "cell_type": "code",
   "execution_count": 57,
   "metadata": {},
   "outputs": [
    {
     "data": {
      "text/plain": [
       "'POLYGON ((0 0, 20 0, 20 10, 0 20, 0 0))'"
      ]
     },
     "execution_count": 57,
     "metadata": {},
     "output_type": "execute_result"
    }
   ],
   "source": [
    "polygon1.wkt # wkt == quasi textliche Präsentation"
   ]
  },
  {
   "cell_type": "code",
   "execution_count": null,
   "metadata": {},
   "outputs": [],
   "source": []
  },
  {
   "cell_type": "markdown",
   "metadata": {},
   "source": [
    "## Shapes modifizieren"
   ]
  },
  {
   "cell_type": "markdown",
   "metadata": {},
   "source": [
    "### Buffer\n",
    "\n",
    "Praktisch: Erstellt eine \"Pufferzone\" mit dem Radius x rund um ein Shape"
   ]
  },
  {
   "cell_type": "code",
   "execution_count": 59,
   "metadata": {},
   "outputs": [
    {
     "data": {
      "image/svg+xml": [
       "<svg xmlns=\"http://www.w3.org/2000/svg\" xmlns:xlink=\"http://www.w3.org/1999/xlink\" width=\"100.0\" height=\"100.0\" viewBox=\"1.76 1.76 6.48 6.48\" preserveAspectRatio=\"xMinYMin meet\"><g transform=\"matrix(1,0,0,-1,0,10.0)\"><path fill-rule=\"evenodd\" fill=\"#66cc99\" stroke=\"#555555\" stroke-width=\"0.12960000000000002\" opacity=\"0.6\" d=\"M 8.0,5.0 L 7.985554180016591,4.705948579011318 L 7.942355841209691,4.414729033951616 L 7.870821007196627,4.129145968236614 L 7.771638597533861,3.851949702904732 L 7.645763793045066,3.5858097895220085 L 7.4944088369076365,3.333289300941195 L 7.319031360088212,3.096820147509065 L 7.121320343559645,2.878679656440359 L 6.903179852490939,2.680968639911791 L 6.666710699058809,2.505591163092366 L 6.4141902104779955,2.3542362069549365 L 6.148050297095272,2.228361402466141 L 5.870854031763391,2.1291789928033746 L 5.585270966048389,2.0576441587903096 L 5.294051420988686,2.01444581998341 L 5.000000000000004,2.0 L 4.705948579011324,2.014445819983409 L 4.4147290339516205,2.057644158790308 L 4.129145968236618,2.1291789928033715 L 3.8519497029047365,2.2283614024661373 L 3.585809789522013,2.3542362069549316 L 3.333289300941199,2.505591163092361 L 3.096820147509068,2.6809686399117854 L 2.8786796564403616,2.878679656440353 L 2.680968639911793,3.0968201475090593 L 2.505591163092367,3.333289300941189 L 2.354236206954937,3.5858097895220027 L 2.2283614024661413,3.8519497029047267 L 2.1291789928033746,4.129145968236609 L 2.0576441587903096,4.414729033951612 L 2.0144458199834094,4.705948579011315 L 2.0,4.999999999999997 L 2.0144458199834094,5.294051420988679 L 2.057644158790308,5.585270966048382 L 2.129178992803373,5.870854031763385 L 2.228361402466139,6.148050297095268 L 2.3542362069549343,6.414190210477992 L 2.5055911630923635,6.666710699058806 L 2.6809686399117885,6.903179852490936 L 2.878679656440357,7.121320343559642 L 3.096820147509062,7.31903136008821 L 3.3332893009411912,7.494408836907634 L 3.585809789522004,7.645763793045063 L 3.8519497029047267,7.771638597533858 L 4.129145968236608,7.870821007196625 L 4.414729033951609,7.9423558412096895 L 4.705948579011311,7.98555418001659 L 4.999999999999991,8.0 L 5.294051420988672,7.9855541800165915 L 5.585270966048374,7.942355841209693 L 5.8708540317633755,7.87082100719663 L 6.148050297095258,7.771638597533865 L 6.414190210477981,7.645763793045072 L 6.666710699058795,7.494408836907644 L 6.903179852490925,7.31903136008822 L 7.121320343559631,7.121320343559654 L 7.3190313600882,6.9031798524909505 L 7.494408836907626,6.666710699058822 L 7.645763793045056,6.41419021047801 L 7.771638597533852,6.148050297095288 L 7.8708210071966205,5.8708540317634075 L 7.942355841209687,5.585270966048407 L 7.985554180016589,5.294051420988706 L 8.0,5.000000000000025 L 8.0,5.0 z\" /></g></svg>"
      ],
      "text/plain": [
       "<shapely.geometry.polygon.Polygon at 0x11c36a898>"
      ]
     },
     "execution_count": 59,
     "metadata": {},
     "output_type": "execute_result"
    }
   ],
   "source": [
    "punkt1.buffer(3) #Kreis mit Abstnd 3 vom punkt1"
   ]
  },
  {
   "cell_type": "markdown",
   "metadata": {},
   "source": [
    "Können wir auch plotten:"
   ]
  },
  {
   "cell_type": "code",
   "execution_count": 60,
   "metadata": {},
   "outputs": [
    {
     "data": {
      "text/plain": [
       "<matplotlib.axes._subplots.AxesSubplot at 0x11c381f28>"
      ]
     },
     "execution_count": 60,
     "metadata": {},
     "output_type": "execute_result"
    },
    {
     "data": {
      "image/png": "[encoded data removed]",
      "text/plain": [
       "<Figure size 432x288 with 1 Axes>"
      ]
     },
     "metadata": {
      "needs_background": "light"
     },
     "output_type": "display_data"
    }
   ],
   "source": [
    "gdf.buffer(0.5).plot(alpha=0.5, linewidth=2, edgecolor='black', markersize=5)"
   ]
  },
  {
   "cell_type": "markdown",
   "metadata": {},
   "source": [
    "### Union\n",
    "\n",
    "Auch praktisch: Vereinigt zwei (oder mehr) Shapes zu einer einzigen Shape."
   ]
  },
  {
   "cell_type": "code",
   "execution_count": 61,
   "metadata": {},
   "outputs": [
    {
     "data": {
      "image/svg+xml": [
       "<svg xmlns=\"http://www.w3.org/2000/svg\" xmlns:xlink=\"http://www.w3.org/1999/xlink\" width=\"100.0\" height=\"100.0\" viewBox=\"-0.8 -0.8 21.6 21.6\" preserveAspectRatio=\"xMinYMin meet\"><g transform=\"matrix(1,0,0,-1,0,20.0)\"><path fill-rule=\"evenodd\" fill=\"#66cc99\" stroke=\"#555555\" stroke-width=\"0.43200000000000005\" opacity=\"0.6\" d=\"M 0.0,10.0 L 0.0,20.0 L 20.0,10.0 L 20.0,0.0 L 0.0,0.0 L 0.0,10.0 z\" /></g></svg>"
      ],
      "text/plain": [
       "<shapely.geometry.polygon.Polygon at 0x11c458390>"
      ]
     },
     "execution_count": 61,
     "metadata": {},
     "output_type": "execute_result"
    }
   ],
   "source": [
    "polygon1.union(linie2)"
   ]
  },
  {
   "cell_type": "markdown",
   "metadata": {},
   "source": [
    "Um alle shapes in einem Geodataframe zusammenzufügen: `.unary_union`"
   ]
  },
  {
   "cell_type": "code",
   "execution_count": 62,
   "metadata": {},
   "outputs": [
    {
     "data": {
      "image/svg+xml": [
       "<svg xmlns=\"http://www.w3.org/2000/svg\" xmlns:xlink=\"http://www.w3.org/1999/xlink\" width=\"100.0\" height=\"100.0\" viewBox=\"-0.8 -0.8 21.6 21.6\" preserveAspectRatio=\"xMinYMin meet\"><g transform=\"matrix(1,0,0,-1,0,20.0)\"><path fill-rule=\"evenodd\" fill=\"#66cc99\" stroke=\"#555555\" stroke-width=\"0.43200000000000005\" opacity=\"0.6\" d=\"M 7.0,0.0 L 5.0,0.0 L 0.0,0.0 L 0.0,10.0 L 0.0,20.0 L 20.0,10.0 L 20.0,0.0 L 7.0,0.0 z\" /></g></svg>"
      ],
      "text/plain": [
       "<shapely.geometry.polygon.Polygon at 0x11c461f28>"
      ]
     },
     "execution_count": 62,
     "metadata": {},
     "output_type": "execute_result"
    }
   ],
   "source": [
    "gdf.unary_union"
   ]
  },
  {
   "cell_type": "markdown",
   "metadata": {},
   "source": [
    "Auch hier können wir wieder eine Pufferzone darumlegen..."
   ]
  },
  {
   "cell_type": "code",
   "execution_count": 63,
   "metadata": {},
   "outputs": [
    {
     "data": {
      "image/svg+xml": [
       "<svg xmlns=\"http://www.w3.org/2000/svg\" xmlns:xlink=\"http://www.w3.org/1999/xlink\" width=\"100.0\" height=\"100.0\" viewBox=\"-1.3399999999999999 -1.3399999999999999 22.68 22.67989242750346\" preserveAspectRatio=\"xMinYMin meet\"><g transform=\"matrix(1,0,0,-1,0,19.99989242750346)\"><path fill-rule=\"evenodd\" fill=\"#66cc99\" stroke=\"#555555\" stroke-width=\"0.4536\" opacity=\"0.6\" d=\"M 0.0,-0.5 L -0.04900857016478332,-0.49759236333609813 L -0.09754516100806694,-0.49039264020161466 L -0.14514233862723375,-0.47847016786610364 L -0.19134171618254722,-0.4619397662556424 L -0.2356983684130009,-0.4409606321741764 L -0.277785116509803,-0.4157348061512714 L -0.31719664208182397,-0.38650522668136744 L -0.35355339059327495,-0.3535533905932726 L -0.38650522668136944,-0.31719664208182163 L -0.41573480615127334,-0.27778511650980003 L -0.440960632174178,-0.23569836841299785 L -0.46193976625564376,-0.191341716182544 L -0.47847016786610463,-0.14514233862723044 L -0.4903926402016153,-0.09754516100806353 L -0.49759236333609846,-0.04900857016477985 L -0.5,0.0 L -0.5,20.0 L -0.4976554841334318,20.04836340674435 L -0.4906439235523215,20.09627325839081 L -0.4790310731167965,20.143280253309975 L -0.46292583887526534,20.188943556920133 L -0.44247925673658445,20.232834935861952 L -0.4178830760457185,20.274542773998093 L -0.38936796134621465,20.313675932575475 L -0.3572013291934726,20.34986741834932 L -0.32168484030531724,20.382777825269102 L -0.28315157056864065,20.41209851745003 L -0.24196288743259675,20.437554523579955 L -0.1985050609817272,20.45890711561779 L -0.15318564147059466,20.475956047600242 L -0.10642963729162917,20.48854143356114 L -0.05867552921945039,20.496545246952195 L -0.01037115831033445,20.49989242750346 L 0.03803047397963456,20.498551585143286 L 0.08607545407097013,20.49253529437643 L 0.1333132130911399,20.481899976359532 L 0.17930075233804818,20.466745369779936 L 0.22360679774997896,20.447213595499957 L 20.22360679774998,10.447213595499958 L 20.267411177030947,10.422482262821676 L 20.308508860532214,10.393474628118655 L 20.34648386367258,10.360484302313598 L 20.380951809172544,10.323845208530507 L 20.411563817663428,10.283928202174963 L 20.43801003899196,10.241137317191395 L 20.46002278847699,10.19590567649217 L 20.47737925637365,10.148691107952505 L 20.48990376312011,10.099971510345462 L 20.497469537539764,10.050240016122329 L 20.5,10.0 L 20.5,0.0 L 20.4975923633361,-0.0490085701647803 L 20.490392640201616,-0.09754516100806412 L 20.478470167866103,-0.14514233862723117 L 20.461939766255643,-0.1913417161825449 L 20.44096063217418,-0.23569836841299882 L 20.415734806151274,-0.2777851165098011 L 20.38650522668137,-0.31719664208182274 L 20.353553390593273,-0.35355339059327373 L 20.31719664208182,-0.38650522668136844 L 20.2777851165098,-0.41573480615127256 L 20.235698368412997,-0.44096063217417747 L 20.191341716182546,-0.46193976625564337 L 20.14514233862723,-0.47847016786610447 L 20.097545161008064,-0.4903926402016152 L 20.04900857016478,-0.49759236333609846 L 20.0,-0.5 L 0.0,-0.5 z\" /></g></svg>"
      ],
      "text/plain": [
       "<shapely.geometry.polygon.Polygon at 0x11c461588>"
      ]
     },
     "execution_count": 63,
     "metadata": {},
     "output_type": "execute_result"
    }
   ],
   "source": [
    "gdf.unary_union.buffer(0.5)"
   ]
  },
  {
   "cell_type": "markdown",
   "metadata": {},
   "source": [
    "### Difference\n",
    "\n",
    "Die \"Differenz\" zwischen zwei Shapes"
   ]
  },
  {
   "cell_type": "code",
   "execution_count": 64,
   "metadata": {},
   "outputs": [
    {
     "data": {
      "image/svg+xml": [
       "<svg xmlns=\"http://www.w3.org/2000/svg\" xmlns:xlink=\"http://www.w3.org/1999/xlink\" width=\"100.0\" height=\"100.0\" viewBox=\"-0.8 -0.8 21.6 21.6\" preserveAspectRatio=\"xMinYMin meet\"><g transform=\"matrix(1,0,0,-1,0,20.0)\"><path fill-rule=\"evenodd\" fill=\"#66cc99\" stroke=\"#555555\" stroke-width=\"0.43200000000000005\" opacity=\"0.6\" d=\"M 5.0,0.0 L 0.0,0.0 L 0.0,20.0 L 20.0,10.0 L 20.0,0.0 L 7.0,0.0 L 7.0,3.0 L 5.0,3.0 L 5.0,0.0 z\" /></g></svg>"
      ],
      "text/plain": [
       "<shapely.geometry.polygon.Polygon at 0x11c458eb8>"
      ]
     },
     "execution_count": 64,
     "metadata": {},
     "output_type": "execute_result"
    }
   ],
   "source": [
    "polygon1.difference(polygon2)"
   ]
  },
  {
   "cell_type": "markdown",
   "metadata": {},
   "source": [
    "### Envelope\n",
    "\n",
    "Ähnlich wie Buffer - ein Rechteck, das ein Objekt umhüllt"
   ]
  },
  {
   "cell_type": "code",
   "execution_count": 65,
   "metadata": {},
   "outputs": [
    {
     "data": {
      "image/svg+xml": [
       "<svg xmlns=\"http://www.w3.org/2000/svg\" xmlns:xlink=\"http://www.w3.org/1999/xlink\" width=\"100.0\" height=\"100.0\" viewBox=\"-0.4 9.6 10.8 3.8000000000000007\" preserveAspectRatio=\"xMinYMin meet\"><g transform=\"matrix(1,0,0,-1,0,23.0)\"><path fill-rule=\"evenodd\" fill=\"#66cc99\" stroke=\"#555555\" stroke-width=\"0.21600000000000003\" opacity=\"0.6\" d=\"M 0.0,10.0 L 10.0,10.0 L 10.0,13.0 L 0.0,13.0 L 0.0,10.0 z\" /></g></svg>"
      ],
      "text/plain": [
       "<shapely.geometry.polygon.Polygon at 0x11c461160>"
      ]
     },
     "execution_count": 65,
     "metadata": {},
     "output_type": "execute_result"
    }
   ],
   "source": [
    "linie2.envelope"
   ]
  },
  {
   "cell_type": "code",
   "execution_count": 66,
   "metadata": {},
   "outputs": [
    {
     "data": {
      "image/svg+xml": [
       "<svg xmlns=\"http://www.w3.org/2000/svg\" xmlns:xlink=\"http://www.w3.org/1999/xlink\" width=\"100.0\" height=\"100.0\" viewBox=\"-0.52 -0.52 11.04 14.04\" preserveAspectRatio=\"xMinYMin meet\"><g transform=\"matrix(1,0,0,-1,0,13.0)\"><g><path fill-rule=\"evenodd\" fill=\"#66cc99\" stroke=\"#555555\" stroke-width=\"0.2808\" opacity=\"0.6\" d=\"M 0.0,10.0 L 10.0,10.0 L 10.0,13.0 L 0.0,13.0 L 0.0,10.0 z\" /><path fill-rule=\"evenodd\" fill=\"#66cc99\" stroke=\"#555555\" stroke-width=\"0.2808\" opacity=\"0.6\" d=\"M 5.0,0.0 L 5.0,3.0 L 7.0,3.0 L 7.0,0.0 L 5.0,0.0 z\" /></g></g></svg>"
      ],
      "text/plain": [
       "<shapely.geometry.multipolygon.MultiPolygon at 0x11c379f60>"
      ]
     },
     "execution_count": 66,
     "metadata": {},
     "output_type": "execute_result"
    }
   ],
   "source": [
    "linie2.envelope.union(polygon2)"
   ]
  },
  {
   "cell_type": "code",
   "execution_count": null,
   "metadata": {
    "collapsed": true
   },
   "outputs": [],
   "source": []
  },
  {
   "cell_type": "code",
   "execution_count": null,
   "metadata": {
    "collapsed": true
   },
   "outputs": [],
   "source": []
  }
 ],
 "metadata": {
  "kernelspec": {
   "display_name": "Python 3",
   "language": "python",
   "name": "python3"
  },
  "language_info": {
   "codemirror_mode": {
    "name": "ipython",
    "version": 3
   },
   "file_extension": ".py",
   "mimetype": "text/x-python",
   "name": "python",
   "nbconvert_exporter": "python",
   "pygments_lexer": "ipython3",
   "version": "3.7.0"
  }
 },
 "nbformat": 4,
 "nbformat_minor": 2
}
